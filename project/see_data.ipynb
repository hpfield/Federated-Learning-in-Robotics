{
 "cells": [
  {
   "cell_type": "code",
   "execution_count": 1,
   "metadata": {},
   "outputs": [],
   "source": [
    "# taking code from NewTrainRes-Pouring.py and replacing the config options with hard coded values\n",
    "\n",
    "import numpy as np\n",
    "\n",
    "NPZ_Name = 'Videos_Database_UR16E_WebCam_50_overall_database.npz'\n",
    "Database_Used = np.load(NPZ_Name)\n",
    "X_train = Database_Used['X_train']\n",
    "Y_train_State = Database_Used['Y_train_State']\n",
    "Y_train_Phase = Database_Used['Y_train_Context']\n",
    "Y_train_Regress=Database_Used['Y_train_Regress']"
   ]
  },
  {
   "attachments": {},
   "cell_type": "markdown",
   "metadata": {},
   "source": [
    "### Looks like the X_train images are pixel arrays of 50x50, with the 3 rgb values of each cell\n",
    "### Weirdly, the regression data seems to be only one value - I was expecting some large number of values to represent different forces acting on the robot"
   ]
  },
  {
   "cell_type": "code",
   "execution_count": 2,
   "metadata": {},
   "outputs": [
    {
     "name": "stdout",
     "output_type": "stream",
     "text": [
      "X_train shape: (6167, 50, 50, 3)\n",
      "Y_train_State shape: (6167, 1)\n",
      "Y_train_Phase shape: (6167, 1)\n",
      "Y_train_Regress shape: (6167, 1)\n"
     ]
    }
   ],
   "source": [
    "# Look at the data\n",
    "print('X_train shape:', X_train.shape)\n",
    "print('Y_train_State shape:', Y_train_State.shape)\n",
    "print('Y_train_Phase shape:', Y_train_Phase.shape)\n",
    "print('Y_train_Regress shape:', Y_train_Regress.shape)"
   ]
  },
  {
   "cell_type": "code",
   "execution_count": 3,
   "metadata": {},
   "outputs": [
    {
     "name": "stdout",
     "output_type": "stream",
     "text": [
      "Y_train_Phase range: 0 3\n",
      "Y_train_State range: 0 9\n"
     ]
    }
   ],
   "source": [
    "# Range of values in Y_train_State and Y_train_Phase\n",
    "print('Y_train_Phase range:', np.min(Y_train_Phase), np.max(Y_train_Phase))\n",
    "print('Y_train_State range:', np.min(Y_train_State), np.max(Y_train_State))"
   ]
  },
  {
   "cell_type": "code",
   "execution_count": 4,
   "metadata": {},
   "outputs": [
    {
     "name": "stdout",
     "output_type": "stream",
     "text": [
      "Y_train_Regress: [[0.6234414 ]\n",
      " [0.88029925]\n",
      " [0.87780549]\n",
      " [0.86907731]\n",
      " [0.8553616 ]]\n"
     ]
    }
   ],
   "source": [
    "# First few items of Y_train_Regress\n",
    "print('Y_train_Regress:', Y_train_Regress[0:5])"
   ]
  },
  {
   "attachments": {},
   "cell_type": "markdown",
   "metadata": {},
   "source": [
    "## Let's work with just the phase data for testing purposes"
   ]
  },
  {
   "cell_type": "code",
   "execution_count": 5,
   "metadata": {},
   "outputs": [
    {
     "name": "stdout",
     "output_type": "stream",
     "text": [
      "X_train[0]: [[[ 45.060997  31.221     20.32    ]\n",
      "  [ 50.060997  32.221     19.32    ]\n",
      "  [ 77.061     56.221     48.32    ]\n",
      "  ...\n",
      "  [128.061    111.221    104.32    ]\n",
      "  [125.061    108.221    100.32    ]\n",
      "  [125.061    106.221    101.32    ]]\n",
      "\n",
      " [[ 47.060997  31.221     19.32    ]\n",
      "  [ 51.060997  33.221     18.32    ]\n",
      "  [ 78.061     61.221     50.32    ]\n",
      "  ...\n",
      "  [124.061    109.221    103.32    ]\n",
      "  [128.061    111.221    105.32    ]\n",
      "  [127.061    105.221    102.32    ]]\n",
      "\n",
      " [[ 48.060997  32.221     18.32    ]\n",
      "  [ 52.060997  34.221     21.32    ]\n",
      "  [ 77.061     59.221     49.32    ]\n",
      "  ...\n",
      "  [129.061    109.221    104.32    ]\n",
      "  [129.061    110.221    105.32    ]\n",
      "  [129.061    107.221    105.32    ]]\n",
      "\n",
      " ...\n",
      "\n",
      " [[111.061     92.221     87.32    ]\n",
      "  [113.061     91.221     87.32    ]\n",
      "  [116.061     92.221     89.32    ]\n",
      "  ...\n",
      "  [126.061    104.221    100.32    ]\n",
      "  [127.061    105.221    101.32    ]\n",
      "  [124.061    103.221     99.32    ]]\n",
      "\n",
      " [[116.061     97.221     90.32    ]\n",
      "  [118.061     98.221     94.32    ]\n",
      "  [118.061     96.221     92.32    ]\n",
      "  ...\n",
      "  [126.061    107.221    102.32    ]\n",
      "  [127.061    105.221    101.32    ]\n",
      "  [126.061    102.221     99.32    ]]\n",
      "\n",
      " [[114.061     95.221     88.32    ]\n",
      "  [115.061     96.221     89.32    ]\n",
      "  [116.061     98.221     92.32    ]\n",
      "  ...\n",
      "  [125.061    106.221     99.32    ]\n",
      "  [125.061    106.221     99.32    ]\n",
      "  [125.061    106.221     99.32    ]]]\n"
     ]
    }
   ],
   "source": [
    "# Print some of the X_train data\n",
    "print('X_train[0]:', X_train[0])"
   ]
  },
  {
   "cell_type": "code",
   "execution_count": null,
   "metadata": {},
   "outputs": [],
   "source": []
  }
 ],
 "metadata": {
  "kernelspec": {
   "display_name": "training",
   "language": "python",
   "name": "python3"
  },
  "language_info": {
   "codemirror_mode": {
    "name": "ipython",
    "version": 3
   },
   "file_extension": ".py",
   "mimetype": "text/x-python",
   "name": "python",
   "nbconvert_exporter": "python",
   "pygments_lexer": "ipython3",
   "version": "3.10.11"
  },
  "orig_nbformat": 4
 },
 "nbformat": 4,
 "nbformat_minor": 2
}
