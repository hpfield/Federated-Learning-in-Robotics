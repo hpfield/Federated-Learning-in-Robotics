{
 "cells": [
  {
   "cell_type": "code",
   "execution_count": 23,
   "metadata": {},
   "outputs": [],
   "source": [
    "# taking code from NewTrainRes-Pouring.py and replacing the config options with hard coded values\n",
    "\n",
    "import numpy as np\n",
    "\n",
    "NPZ_Name = 'Videos_Database_20_Robot_WebCam_50_overall_database.npz'\n",
    "Database_Used = np.load(NPZ_Name)\n",
    "Sessions = Database_Used['Session']\n",
    "X_train = Database_Used['X_train']\n",
    "Y_train_State = Database_Used['Y_train_State']\n",
    "Y_train_Phase = Database_Used['Y_train_Context']\n",
    "Y_train_Regress=Database_Used['Y_train_Regress']"
   ]
  },
  {
   "attachments": {},
   "cell_type": "markdown",
   "metadata": {},
   "source": [
    "### Looks like the X_train images are pixel arrays of 50x50, with the 3 rgb values of each cell\n",
    "### Weirdly, the regression data seems to be only one value - I was expecting some large number of values to represent different forces acting on the robot"
   ]
  },
  {
   "cell_type": "code",
   "execution_count": 24,
   "metadata": {},
   "outputs": [
    {
     "name": "stdout",
     "output_type": "stream",
     "text": [
      "Sessions shape: (5690,)\n",
      "X_train shape: (5690, 50, 50, 3)\n",
      "Y_train_State shape: (5690, 1)\n",
      "Y_train_Phase shape: (5690, 1)\n",
      "Y_train_Regress shape: (5690, 1)\n"
     ]
    }
   ],
   "source": [
    "# Look at the data\n",
    "print('Sessions shape:', Sessions.shape)\n",
    "print('X_train shape:', X_train.shape)\n",
    "print('Y_train_State shape:', Y_train_State.shape)\n",
    "print('Y_train_Phase shape:', Y_train_Phase.shape)\n",
    "print('Y_train_Regress shape:', Y_train_Regress.shape)"
   ]
  },
  {
   "cell_type": "code",
   "execution_count": 25,
   "metadata": {},
   "outputs": [
    {
     "name": "stdout",
     "output_type": "stream",
     "text": [
      "Y_train_Phase range: 0 3\n",
      "Y_train_State range: 0 9\n"
     ]
    }
   ],
   "source": [
    "# Range of values in Y_train_State and Y_train_Phase\n",
    "print('Y_train_Phase range:', np.min(Y_train_Phase), np.max(Y_train_Phase))\n",
    "print('Y_train_State range:', np.min(Y_train_State), np.max(Y_train_State))"
   ]
  },
  {
   "cell_type": "code",
   "execution_count": 26,
   "metadata": {},
   "outputs": [
    {
     "name": "stdout",
     "output_type": "stream",
     "text": [
      "Y_train_Regress: [[ 0.        ]\n",
      " [ 0.44520548]\n",
      " [ 0.00489237]\n",
      " [ 0.        ]\n",
      " [-0.01956947]]\n"
     ]
    }
   ],
   "source": [
    "# First few items of Y_train_Regress\n",
    "print('Y_train_Regress:', Y_train_Regress[0:5])"
   ]
  },
  {
   "attachments": {},
   "cell_type": "markdown",
   "metadata": {},
   "source": [
    "## Let's work with just the phase data for testing purposes"
   ]
  },
  {
   "cell_type": "code",
   "execution_count": 29,
   "metadata": {},
   "outputs": [
    {
     "name": "stdout",
     "output_type": "stream",
     "text": [
      "Sessions[0]: 2F\n",
      "Sessions[100]: 4E\n",
      "Sessions[200]: 1C\n",
      "Sessions[300]: 2C\n",
      "Sessions[400]: 4A\n",
      "Sessions[500]: 5E\n",
      "Sessions[600]: 2C\n",
      "Sessions[700]: 1C\n",
      "Sessions[800]: 3E\n",
      "Sessions[900]: 1C\n",
      "Sessions[1000]: 2C\n",
      "Sessions[1100]: 1A\n",
      "Sessions[1200]: 1D\n",
      "Sessions[1300]: 1A\n",
      "Sessions[1400]: 4E\n",
      "Sessions[1500]: 3D\n",
      "Sessions[1600]: 5F\n",
      "Sessions[1700]: 4C\n",
      "Sessions[1800]: 2F\n",
      "Sessions[1900]: 4C\n",
      "Sessions[2000]: 1C\n",
      "Sessions[2100]: 3E\n",
      "Sessions[2200]: 4A\n",
      "Sessions[2300]: 1A\n",
      "Sessions[2400]: 2C\n",
      "Sessions[2500]: 2D\n",
      "Sessions[2600]: 3E\n",
      "Sessions[2700]: 2E\n",
      "Sessions[2800]: 5C\n",
      "Sessions[2900]: 5D\n",
      "Sessions[3000]: 4D\n",
      "Sessions[3100]: 1A\n",
      "Sessions[3200]: 5C\n",
      "Sessions[3300]: 3F\n",
      "Sessions[3400]: 3E\n",
      "Sessions[3500]: 5A\n",
      "Sessions[3600]: 2D\n",
      "Sessions[3700]: 4A\n",
      "Sessions[3800]: 5A\n",
      "Sessions[3900]: 2E\n",
      "Sessions[4000]: 4F\n",
      "Sessions[4100]: 2F\n",
      "Sessions[4200]: 3E\n",
      "Sessions[4300]: 1A\n",
      "Sessions[4400]: 2A\n",
      "Sessions[4500]: 4F\n",
      "Sessions[4600]: 1C\n",
      "Sessions[4700]: 2D\n",
      "Sessions[4800]: 4F\n",
      "Sessions[4900]: 4C\n",
      "Sessions[5000]: 3A\n",
      "Sessions[5100]: 3C\n",
      "Sessions[5200]: 5F\n",
      "Sessions[5300]: 4E\n",
      "Sessions[5400]: 4E\n",
      "Sessions[5500]: 3A\n",
      "Sessions[5600]: 4F\n"
     ]
    }
   ],
   "source": [
    "# Print some of the sessions\n",
    "for i in range(len(Sessions)):\n",
    "    if i % 100 == 0:\n",
    "        print('Sessions[{}]: {}'.format(i, Sessions[i]))"
   ]
  },
  {
   "attachments": {},
   "cell_type": "markdown",
   "metadata": {},
   "source": [
    "### The regression labels do not equal the All_data.csv file because they have been scaled in generate_client_data.py"
   ]
  },
  {
   "cell_type": "code",
   "execution_count": 28,
   "metadata": {},
   "outputs": [],
   "source": [
    "# keys = Database_Used.keys()\n",
    "# for key in keys:\n",
    "#     print(f\"--- {key} ---\")\n",
    "#     print(Database_Used[key][:5])  \n",
    "#     print('\\n')  \n"
   ]
  },
  {
   "attachments": {},
   "cell_type": "markdown",
   "metadata": {},
   "source": [
    "### Number of sessions equates to number of clients"
   ]
  },
  {
   "cell_type": "code",
   "execution_count": 30,
   "metadata": {},
   "outputs": [
    {
     "name": "stdout",
     "output_type": "stream",
     "text": [
      "Number of unique sessions: 25\n"
     ]
    }
   ],
   "source": [
    "# number of unique vals in sessions\n",
    "print('Number of unique sessions:', len(np.unique(Sessions)))"
   ]
  },
  {
   "cell_type": "code",
   "execution_count": null,
   "metadata": {},
   "outputs": [],
   "source": []
  }
 ],
 "metadata": {
  "kernelspec": {
   "display_name": "training",
   "language": "python",
   "name": "python3"
  },
  "language_info": {
   "codemirror_mode": {
    "name": "ipython",
    "version": 3
   },
   "file_extension": ".py",
   "mimetype": "text/x-python",
   "name": "python",
   "nbconvert_exporter": "python",
   "pygments_lexer": "ipython3",
   "version": "3.9.16"
  },
  "orig_nbformat": 4
 },
 "nbformat": 4,
 "nbformat_minor": 2
}
