{
 "cells": [
  {
   "cell_type": "markdown",
   "metadata": {
    "id": "ApTLjs2YEioT"
   },
   "source": [
    "Much of the code used to implement federated learning is taken or adapted from https://www.tensorflow.org/federated/tutorials/building_your_own_federated_learning_algorithm"
   ]
  },
  {
   "cell_type": "markdown",
   "metadata": {
    "id": "_kF4uur5CqEL"
   },
   "source": [
    "## Mount Drive"
   ]
  },
  {
   "cell_type": "code",
   "execution_count": 2,
   "metadata": {
    "colab": {
     "base_uri": "https://localhost:8080/"
    },
    "executionInfo": {
     "elapsed": 17925,
     "status": "ok",
     "timestamp": 1695310155513,
     "user": {
      "displayName": "Harrison Field",
      "userId": "02417387657116967688"
     },
     "user_tz": -60
    },
    "id": "dM3x5UhDh7Bv",
    "outputId": "b149cee4-309f-4e48-b30e-2433b336b4bb"
   },
   "outputs": [],
   "source": [
    "# from google.colab import drive\n",
    "# drive.mount('/content/drive')"
   ]
  },
  {
   "cell_type": "code",
   "execution_count": 3,
   "metadata": {
    "colab": {
     "base_uri": "https://localhost:8080/"
    },
    "executionInfo": {
     "elapsed": 9,
     "status": "ok",
     "timestamp": 1695310155514,
     "user": {
      "displayName": "Harrison Field",
      "userId": "02417387657116967688"
     },
     "user_tz": -60
    },
    "id": "sVvsrA9Hjl8z",
    "outputId": "8978e494-c574-4196-93de-ea4969255b2a"
   },
   "outputs": [],
   "source": [
    "# %cd /content/drive/MyDrive/Individual Models FXAI/"
   ]
  },
  {
   "cell_type": "markdown",
   "metadata": {
    "id": "j4mBmgkcClWX"
   },
   "source": [
    "## Env setup"
   ]
  },
  {
   "cell_type": "code",
   "execution_count": 4,
   "metadata": {
    "colab": {
     "base_uri": "https://localhost:8080/"
    },
    "executionInfo": {
     "elapsed": 53028,
     "status": "ok",
     "timestamp": 1695310208535,
     "user": {
      "displayName": "Harrison Field",
      "userId": "02417387657116967688"
     },
     "user_tz": -60
    },
    "id": "kyYHWVUwq84L",
    "outputId": "dbbf45a0-6c82-478a-bcfe-0c55ea105ee1"
   },
   "outputs": [],
   "source": [
    "# !pip install --quiet --upgrade tensorflow-federated"
   ]
  },
  {
   "cell_type": "markdown",
   "metadata": {
    "id": "3AxTKUDHwY4G"
   },
   "source": [
    "# Training H1"
   ]
  },
  {
   "cell_type": "markdown",
   "metadata": {
    "id": "9FV6zs1AwY4Q"
   },
   "source": [
    "## Imports"
   ]
  },
  {
   "cell_type": "code",
   "execution_count": 5,
   "metadata": {
    "executionInfo": {
     "elapsed": 5525,
     "status": "ok",
     "timestamp": 1695310214054,
     "user": {
      "displayName": "Harrison Field",
      "userId": "02417387657116967688"
     },
     "user_tz": -60
    },
    "id": "yq61Zr1jwY4S"
   },
   "outputs": [],
   "source": [
    "from __future__ import print_function\n",
    "\n",
    "import tensorflow as tf\n",
    "import tensorflow_federated as tff\n",
    "import numpy as np\n",
    "import collections\n",
    "from tensorflow.keras.models import load_model\n",
    "\n",
    "# From EHIL\n",
    "\n",
    "\n",
    "import keras\n",
    "from keras.layers.convolutional import ( Conv2D, MaxPooling2D, AveragePooling2D)\n",
    "from keras.layers import (    Input,    Activation,    Dense,    Flatten)\n",
    "from keras.layers import add\n",
    "from keras.layers import LayerNormalization\n",
    "\n",
    "from keras.regularizers import l2\n",
    "from keras import backend as K\n",
    "from keras.models import Model\n",
    "\n",
    "from keras.preprocessing.image import ImageDataGenerator\n",
    "from keras.callbacks import ReduceLROnPlateau, CSVLogger, EarlyStopping\n",
    "from keras.callbacks import ModelCheckpoint, LearningRateScheduler\n",
    "from keras.utils import np_utils\n",
    "\n",
    "import os\n",
    "import numpy as np\n",
    "\n",
    "from sklearn.model_selection import train_test_split\n",
    "\n",
    "import time\n",
    "import datetime"
   ]
  },
  {
   "cell_type": "code",
   "execution_count": 6,
   "metadata": {
    "colab": {
     "base_uri": "https://localhost:8080/"
    },
    "executionInfo": {
     "elapsed": 6,
     "status": "ok",
     "timestamp": 1695310214054,
     "user": {
      "displayName": "Harrison Field",
      "userId": "02417387657116967688"
     },
     "user_tz": -60
    },
    "id": "qhfYnM2tKVny",
    "outputId": "c7c0c934-ebee-477d-9e8a-bea477999366"
   },
   "outputs": [
    {
     "name": "stdout",
     "output_type": "stream",
     "text": [
      "2.12.1\n"
     ]
    }
   ],
   "source": [
    "print(tf.__version__)"
   ]
  },
  {
   "cell_type": "markdown",
   "metadata": {
    "id": "w40GDwGfwY4c"
   },
   "source": [
    "## Config"
   ]
  },
  {
   "cell_type": "code",
   "execution_count": 7,
   "metadata": {
    "executionInfo": {
     "elapsed": 5,
     "status": "ok",
     "timestamp": 1695310214055,
     "user": {
      "displayName": "Harrison Field",
      "userId": "02417387657116967688"
     },
     "user_tz": -60
    },
    "id": "7w46DSatwY4d"
   },
   "outputs": [],
   "source": [
    "img_channels = 3\n",
    "BATCH_SIZE = 20\n",
    "NUM_CLIENTS = 25\n",
    "PHASE_CLASSES = 4\n",
    "EPOCHS = 100\n",
    "LOGS_DIR = 'H1'\n",
    "MODEL_NAME = 'h1_25_clients_100_epochs'\n",
    "\n",
    "##############################################################################\n",
    "\n",
    "\n",
    "img_rows, img_cols = 256,256\n",
    "img_rows, img_cols = 50,50\n",
    "\n",
    "Cup_Type = 'Big'\n",
    "if Cup_Type == 'Medium':\n",
    "    nb_classes = 9\n",
    "if Cup_Type == 'Big':\n",
    "    nb_classes = 10\n",
    "if Cup_Type == 'Small':\n",
    "    nb_classes = 7"
   ]
  },
  {
   "cell_type": "markdown",
   "metadata": {
    "id": "4JuPVceJJAfE"
   },
   "source": [
    "We set up the summary writer to log our model's performance through training"
   ]
  },
  {
   "cell_type": "code",
   "execution_count": 8,
   "metadata": {
    "executionInfo": {
     "elapsed": 955,
     "status": "ok",
     "timestamp": 1695310215005,
     "user": {
      "displayName": "Harrison Field",
      "userId": "02417387657116967688"
     },
     "user_tz": -60
    },
    "id": "J7pAhQrxwY4b"
   },
   "outputs": [
    {
     "name": "stderr",
     "output_type": "stream",
     "text": [
      "2024-12-30 15:10:50.259053: I tensorflow/compiler/xla/stream_executor/cuda/cuda_gpu_executor.cc:996] successful NUMA node read from SysFS had negative value (-1), but there must be at least one NUMA node, so returning NUMA node zero. See more at https://github.com/torvalds/linux/blob/v6.0/Documentation/ABI/testing/sysfs-bus-pci#L344-L355\n",
      "2024-12-30 15:10:50.294614: W tensorflow/core/common_runtime/gpu/gpu_device.cc:1956] Cannot dlopen some GPU libraries. Please make sure the missing libraries mentioned above are installed properly if you would like to use GPU. Follow the guide at https://www.tensorflow.org/install/gpu for how to download and setup the required libraries for your platform.\n",
      "Skipping registering GPU devices...\n"
     ]
    }
   ],
   "source": [
    "summary_writer_h1 = tf.summary.create_file_writer('logs/' + LOGS_DIR)"
   ]
  },
  {
   "cell_type": "markdown",
   "metadata": {
    "id": "EtyIuN51wY4f"
   },
   "source": [
    "## Load Data"
   ]
  },
  {
   "cell_type": "code",
   "execution_count": 9,
   "metadata": {
    "executionInfo": {
     "elapsed": 919,
     "status": "ok",
     "timestamp": 1695310215921,
     "user": {
      "displayName": "Harrison Field",
      "userId": "02417387657116967688"
     },
     "user_tz": -60
    },
    "id": "AgPUYwSvwY4g"
   },
   "outputs": [],
   "source": [
    "NPZ_Name = 'Data/Videos_Database_20_Robot_WebCam_50_overall_database.npz'\n",
    "Database_Used = np.load(NPZ_Name)\n",
    "Sessions = Database_Used['Session']"
   ]
  },
  {
   "cell_type": "code",
   "execution_count": 10,
   "metadata": {
    "executionInfo": {
     "elapsed": 2,
     "status": "ok",
     "timestamp": 1695310215921,
     "user": {
      "displayName": "Harrison Field",
      "userId": "02417387657116967688"
     },
     "user_tz": -60
    },
    "id": "h9gwArt8wY4i"
   },
   "outputs": [],
   "source": [
    "# create a list of the unique sessions to become the client_ids\n",
    "client_ids = np.unique(Sessions)"
   ]
  },
  {
   "cell_type": "code",
   "execution_count": 11,
   "metadata": {
    "executionInfo": {
     "elapsed": 2,
     "status": "ok",
     "timestamp": 1695310215921,
     "user": {
      "displayName": "Harrison Field",
      "userId": "02417387657116967688"
     },
     "user_tz": -60
    },
    "id": "8AioEEtNwY4j"
   },
   "outputs": [],
   "source": [
    "# Several steps need to be completed to convert our data to a format suitable for tensorflow-federated operations\n",
    "# The first is to create tf.data.Dataset objects\n",
    "def create_tf_dataset(client_ids, Database_used_col, categorical, categories):\n",
    "  train_datasets = []\n",
    "  test_datasets = []\n",
    "  for session in client_ids:\n",
    "    # find the indices of the current session in the Sessions column of Database_Used\n",
    "    session_indices = np.where(Sessions == session)[0]\n",
    "\n",
    "    # get the X_train data for the current session\n",
    "    session_X = Database_Used['X_train'][session_indices]\n",
    "    # grab the training data for the necessary hierarchy\n",
    "    session_Y = Database_Used[Database_used_col][session_indices]\n",
    "    # if using categorical data, reshape the data for the model into one-hot encoded\n",
    "    if categorical==True:\n",
    "      session_Y = tf.keras.utils.to_categorical(session_Y, categories)\n",
    "    # create train/test split\n",
    "    X_train, X_test, Y_train, Y_test = train_test_split(session_X, session_Y, test_size=0.2, random_state=100)\n",
    "    # Make into tf dataset\n",
    "    train_dataset = tf.data.Dataset.from_tensor_slices((X_train,Y_train))\n",
    "    test_dataset = tf.data.Dataset.from_tensor_slices((X_test, Y_test))\n",
    "    # Add to our list of datasets\n",
    "    train_datasets.append([session,train_dataset])\n",
    "    test_datasets.append([session,test_dataset])\n",
    "  return train_datasets, test_datasets"
   ]
  },
  {
   "cell_type": "code",
   "execution_count": 12,
   "metadata": {
    "executionInfo": {
     "elapsed": 8120,
     "status": "ok",
     "timestamp": 1695310224039,
     "user": {
      "displayName": "Harrison Field",
      "userId": "02417387657116967688"
     },
     "user_tz": -60
    },
    "id": "30LYEUZMwY4k"
   },
   "outputs": [],
   "source": [
    "phase_train_datasets, phase_test_datasets = create_tf_dataset(client_ids, 'Y_train_Context', True, PHASE_CLASSES)"
   ]
  },
  {
   "cell_type": "code",
   "execution_count": 13,
   "metadata": {
    "executionInfo": {
     "elapsed": 10,
     "status": "ok",
     "timestamp": 1695310224040,
     "user": {
      "displayName": "Harrison Field",
      "userId": "02417387657116967688"
     },
     "user_tz": -60
    },
    "id": "ieLkpiiewY4l"
   },
   "outputs": [],
   "source": [
    "def make_client_data(datasets):\n",
    "  client_data = {}\n",
    "  # loop through the datasets\n",
    "  for dataset in datasets:\n",
    "      # get the session name\n",
    "      session = dataset[0]\n",
    "\n",
    "      # get the session data\n",
    "      session_data = dataset[1]\n",
    "\n",
    "      # add the session data to the client_data dictionary\n",
    "      client_data[session] = session_data\n",
    "  return client_data"
   ]
  },
  {
   "cell_type": "code",
   "execution_count": 14,
   "metadata": {
    "executionInfo": {
     "elapsed": 9,
     "status": "ok",
     "timestamp": 1695310224040,
     "user": {
      "displayName": "Harrison Field",
      "userId": "02417387657116967688"
     },
     "user_tz": -60
    },
    "id": "SlDokkqmwY4n"
   },
   "outputs": [],
   "source": [
    "# Make everything into a map for creating ClientData objects necessary for TF federated learning\n",
    "\n",
    "phase_train_client_data = make_client_data(phase_train_datasets)\n",
    "phase_test_client_data = make_client_data(phase_test_datasets)"
   ]
  },
  {
   "cell_type": "code",
   "execution_count": 15,
   "metadata": {
    "executionInfo": {
     "elapsed": 8,
     "status": "ok",
     "timestamp": 1695310224040,
     "user": {
      "displayName": "Harrison Field",
      "userId": "02417387657116967688"
     },
     "user_tz": -60
    },
    "id": "77M86lhcwY4o"
   },
   "outputs": [],
   "source": [
    "client_ids = list(client_ids)"
   ]
  },
  {
   "cell_type": "code",
   "execution_count": 16,
   "metadata": {
    "colab": {
     "base_uri": "https://localhost:8080/"
    },
    "executionInfo": {
     "elapsed": 7,
     "status": "ok",
     "timestamp": 1695310224040,
     "user": {
      "displayName": "Harrison Field",
      "userId": "02417387657116967688"
     },
     "user_tz": -60
    },
    "id": "YSPeJ7iq_z2b",
    "outputId": "72a7360b-b25d-406b-86f1-12e10385457b"
   },
   "outputs": [
    {
     "data": {
      "text/plain": [
       "25"
      ]
     },
     "execution_count": 16,
     "metadata": {},
     "output_type": "execute_result"
    }
   ],
   "source": [
    "len(client_ids)"
   ]
  },
  {
   "cell_type": "markdown",
   "metadata": {
    "id": "EiH95XycwY4p"
   },
   "source": [
    "## Setup Federated Data"
   ]
  },
  {
   "cell_type": "code",
   "execution_count": 17,
   "metadata": {
    "executionInfo": {
     "elapsed": 6,
     "status": "ok",
     "timestamp": 1695310224041,
     "user": {
      "displayName": "Harrison Field",
      "userId": "02417387657116967688"
     },
     "user_tz": -60
    },
    "id": "l9NqvebNwY4p"
   },
   "outputs": [],
   "source": [
    "def make_federated_data(client_data, client_ids):\n",
    "  # Need a function to get the client data in order to make ClientData object\n",
    "  def get_client_dataset(client_id):\n",
    "    return client_data[client_id]\n",
    "\n",
    "  # use tff to create ClientData object from our training data\n",
    "  federated_data = tff.simulation.datasets.ClientData.from_clients_and_tf_fn(client_ids, get_client_dataset)\n",
    "\n",
    "  return federated_data"
   ]
  },
  {
   "cell_type": "code",
   "execution_count": 18,
   "metadata": {
    "executionInfo": {
     "elapsed": 6,
     "status": "ok",
     "timestamp": 1695310224041,
     "user": {
      "displayName": "Harrison Field",
      "userId": "02417387657116967688"
     },
     "user_tz": -60
    },
    "id": "-iPrgbpYwY4p"
   },
   "outputs": [],
   "source": [
    "phase_train_federated_data = make_federated_data(phase_train_client_data, client_ids)\n",
    "phase_test_federated_data = make_federated_data(phase_test_client_data, client_ids)"
   ]
  },
  {
   "cell_type": "code",
   "execution_count": 19,
   "metadata": {
    "executionInfo": {
     "elapsed": 5,
     "status": "ok",
     "timestamp": 1695310224041,
     "user": {
      "displayName": "Harrison Field",
      "userId": "02417387657116967688"
     },
     "user_tz": -60
    },
    "id": "WMU57P7ZwY4q"
   },
   "outputs": [],
   "source": [
    "def preprocess(dataset, num_classes):\n",
    "    def batch_format_fn(image, label):\n",
    "        \"\"\"Prepare a batch of data and return a (features, label) tuple.\"\"\"\n",
    "        batch_size = tf.shape(image)[0]  # Get the current batch size\n",
    "        return (tf.reshape(image, [batch_size, 50, 50, 3]),\n",
    "                tf.reshape(label, [batch_size, num_classes]))\n",
    "\n",
    "    return dataset.batch(BATCH_SIZE).map(batch_format_fn)\n",
    "\n",
    "def preprocess_federated_data(federated_data, num_classes):\n",
    "  client_ids = sorted(federated_data.client_ids)[:NUM_CLIENTS]\n",
    "  print(client_ids)\n",
    "  federated_data = [preprocess(federated_data.create_tf_dataset_for_client(x), num_classes)\n",
    "                          for x in client_ids]\n",
    "  return federated_data"
   ]
  },
  {
   "cell_type": "code",
   "execution_count": 20,
   "metadata": {
    "colab": {
     "base_uri": "https://localhost:8080/"
    },
    "executionInfo": {
     "elapsed": 577,
     "status": "ok",
     "timestamp": 1695310224613,
     "user": {
      "displayName": "Harrison Field",
      "userId": "02417387657116967688"
     },
     "user_tz": -60
    },
    "id": "8t3Jm81MwY4q",
    "outputId": "943fd1ca-5413-4c4c-bd8d-1b97e1aae799"
   },
   "outputs": [
    {
     "name": "stdout",
     "output_type": "stream",
     "text": [
      "['1A', '1C', '1D', '1E', '1F', '2A', '2C', '2D', '2E', '2F', '3A', '3C', '3D', '3E', '3F', '4A', '4C', '4D', '4E', '4F', '5A', '5C', '5D', '5E', '5F']\n"
     ]
    }
   ],
   "source": [
    "phase_train = preprocess_federated_data(phase_train_federated_data, PHASE_CLASSES)"
   ]
  },
  {
   "cell_type": "code",
   "execution_count": 21,
   "metadata": {
    "colab": {
     "base_uri": "https://localhost:8080/"
    },
    "executionInfo": {
     "elapsed": 7,
     "status": "ok",
     "timestamp": 1695310224613,
     "user": {
      "displayName": "Harrison Field",
      "userId": "02417387657116967688"
     },
     "user_tz": -60
    },
    "id": "9tFAZcM2wY4r",
    "outputId": "bff5eb29-c257-4426-ceae-2ae606f3ad96"
   },
   "outputs": [
    {
     "data": {
      "text/plain": [
       "<_MapDataset element_spec=(TensorSpec(shape=(None, 50, 50, 3), dtype=tf.float32, name=None), TensorSpec(shape=(None, 4), dtype=tf.float32, name=None))>"
      ]
     },
     "execution_count": 21,
     "metadata": {},
     "output_type": "execute_result"
    }
   ],
   "source": [
    "phase_train[0]"
   ]
  },
  {
   "cell_type": "markdown",
   "metadata": {
    "id": "ZqmhVaMvwY4r"
   },
   "source": [
    "## Setup Model"
   ]
  },
  {
   "cell_type": "markdown",
   "metadata": {
    "id": "i2QEnw6DwY4s"
   },
   "source": [
    "### Functions from Dandan's Code"
   ]
  },
  {
   "cell_type": "code",
   "execution_count": 22,
   "metadata": {
    "executionInfo": {
     "elapsed": 5,
     "status": "ok",
     "timestamp": 1695310224614,
     "user": {
      "displayName": "Harrison Field",
      "userId": "02417387657116967688"
     },
     "user_tz": -60
    },
    "id": "O4f6H9W3wY4s"
   },
   "outputs": [],
   "source": [
    "###############################################################################\n",
    "'''\n",
    "Functions\n",
    "'''\n",
    "###############################################################################\n",
    "\n",
    "from keras.initializers import glorot_uniform\n",
    "\n",
    "def lr_schedule(epoch):\n",
    "    '''\n",
    "    epoch: number of epochs for model training\n",
    "    lr: learning rate\n",
    "    '''\n",
    "    lr = 1e-3\n",
    "    if epoch > 160:\n",
    "        lr *= 0.5e-3\n",
    "    elif epoch > 120:\n",
    "        lr *= 1e-3\n",
    "    elif epoch > 80:\n",
    "        lr *= 1e-2\n",
    "    elif epoch > 40:\n",
    "        lr *= 1e-1\n",
    "    print('Learning rate: ', lr)\n",
    "    return lr\n",
    "\n",
    "\n",
    "\n",
    "def Conv_bn_relu(infor, **conv_params):\n",
    "    '''\n",
    "    Build conv -> BN -> relu block\n",
    "    '''\n",
    "    filters = conv_params[\"filters\"]\n",
    "    kernel_size = conv_params[\"kernel_size\"]\n",
    "    strides = conv_params.setdefault(\"strides\", (1, 1))\n",
    "    kernel_initializer = conv_params.setdefault(\"kernel_initializer\", \"he_normal\")\n",
    "    padding = conv_params.setdefault(\"padding\", \"same\")\n",
    "    kernel_regularizer = conv_params.setdefault(\"kernel_regularizer\", l2(1.e-4))\n",
    "\n",
    "\n",
    "    conv = Conv2D(filters=filters, kernel_size=kernel_size,\n",
    "                  strides=strides, padding=padding,\n",
    "                  kernel_initializer=kernel_initializer,\n",
    "                  kernel_regularizer=kernel_regularizer)(infor)\n",
    "\n",
    "\n",
    "    norm = LayerNormalization(axis=CHANNEL_AXIS)(conv)\n",
    "    out = Activation(\"relu\")(norm)\n",
    "\n",
    "    return out\n",
    "\n",
    "\n",
    "#Reference: http://arxiv.org/pdf/1603.05027v2.pdf\n",
    "def Bn_relu_conv(infor,**conv_params):\n",
    "    '''\n",
    "    Build a BN -> relu -> conv block.\n",
    "    '''\n",
    "    filters = conv_params[\"filters\"]\n",
    "    kernel_size = conv_params[\"kernel_size\"]\n",
    "    strides = conv_params.setdefault(\"strides\", (1, 1))\n",
    "    kernel_initializer = conv_params.setdefault(\"kernel_initializer\", \"he_normal\")\n",
    "    padding = conv_params.setdefault(\"padding\", \"same\")\n",
    "    kernel_regularizer = conv_params.setdefault(\"kernel_regularizer\", l2(1.e-4))\n",
    "\n",
    "    norm = LayerNormalization(axis=CHANNEL_AXIS)(infor)\n",
    "\n",
    "    activation = Activation(\"relu\")(norm)\n",
    "\n",
    "    out = Conv2D(filters=filters, kernel_size=kernel_size,\n",
    "                      strides=strides, padding=padding,\n",
    "                      kernel_initializer=kernel_initializer,\n",
    "                      kernel_regularizer=kernel_regularizer)(activation)\n",
    "\n",
    "    return out\n",
    "\n",
    "\n",
    "\n",
    "def basic_block(BlockIn, filters, init_strides=(1, 1), is_first_block_of_first_layer=False):\n",
    "    '''\n",
    "    Basic 3 X 3 convolution blocks\n",
    "    '''\n",
    "\n",
    "    if is_first_block_of_first_layer:\n",
    "        conv1 = Conv2D(filters=filters, kernel_size=(3, 3),\n",
    "                       strides=init_strides,\n",
    "                       padding=\"same\",\n",
    "                       kernel_initializer=\"he_normal\",\n",
    "                       kernel_regularizer=l2(1e-4))(BlockIn)\n",
    "    else:\n",
    "        conv1 = Bn_relu_conv(infor = BlockIn,filters=filters, kernel_size=(3, 3),\n",
    "                              strides=init_strides)\n",
    "\n",
    "    residual = Bn_relu_conv(infor = conv1,filters=filters, kernel_size=(3, 3))\n",
    "\n",
    "\n",
    "    input_shape = K.int_shape(BlockIn)\n",
    "    residual_shape = K.int_shape(residual)\n",
    "\n",
    "    # stride should be set properly and match  (width, height) of residual\n",
    "    stride_width = int(round(input_shape[ROW_AXIS] / residual_shape[ROW_AXIS]))\n",
    "    stride_height = int(round(input_shape[COL_AXIS] / residual_shape[COL_AXIS]))\n",
    "\n",
    "\n",
    "    equal_channels = input_shape[CHANNEL_AXIS] == residual_shape[CHANNEL_AXIS]\n",
    "\n",
    "\n",
    "    if stride_width > 1 or stride_height > 1 or not equal_channels:\n",
    "        shortcut = Conv2D(filters=residual_shape[CHANNEL_AXIS],\n",
    "                          kernel_size=(1, 1),\n",
    "                          strides=(stride_width, stride_height),\n",
    "                          padding=\"valid\",\n",
    "                          kernel_initializer=\"he_normal\",\n",
    "                          kernel_regularizer=l2(0.0001))(BlockIn)\n",
    "    else:\n",
    "        shortcut = BlockIn\n",
    "\n",
    "    # Adds a shortcut between input and residual block\n",
    "    return add([shortcut, residual])\n",
    "\n",
    "\n",
    "def buildmodel(input_shape, num_outputs, Regress_Flag):\n",
    "        '''\n",
    "\n",
    "        input_shape: (nb_channels, nb_rows, nb_cols)\n",
    "        num_outputs:  number of outputs at final softmax layer\n",
    "        Regress_Flag: classify or regress\n",
    "\n",
    "        '''\n",
    "\n",
    "        global ROW_AXIS\n",
    "        global COL_AXIS\n",
    "        global CHANNEL_AXIS\n",
    "\n",
    "        # if K.image_data_format() == 'channels_last':\n",
    "\n",
    "        #     ROW_AXIS = 1; COL_AXIS = 2;  CHANNEL_AXIS = 3\n",
    "        # else:\n",
    "        #     CHANNEL_AXIS = 1; ROW_AXIS = 2; COL_AXIS = 3\n",
    "\n",
    "        if tf.keras.backend.image_data_format() == 'channels_last':\n",
    "            ROW_AXIS = 1\n",
    "            COL_AXIS = 2\n",
    "            CHANNEL_AXIS = 3\n",
    "        else:\n",
    "            CHANNEL_AXIS = 1\n",
    "            ROW_AXIS = 2\n",
    "            COL_AXIS = 3\n",
    "\n",
    "\n",
    "\n",
    "        if len(input_shape) != 3:\n",
    "            raise Exception(\"Input shape should be a tuple (nb_channels, nb_rows, nb_cols)\")\n",
    "\n",
    "        # Permute dimension order if necessary\n",
    "        if K.image_data_format() == 'channels_last':\n",
    "        #if K.image_dim_ordering() == 'tf':\n",
    "\n",
    "            input_shape = (input_shape[1], input_shape[2], input_shape[0])\n",
    "\n",
    "        input = Input(shape=input_shape, name='main_input')\n",
    "        conv1 = Conv_bn_relu(input, filters=64, kernel_size=(7, 7), strides=(2, 2))\n",
    "        pool1 = MaxPooling2D(pool_size=(3, 3), strides=(2, 2), padding=\"same\", name = \"conv_pool1\")(conv1)\n",
    "\n",
    "        block = pool1\n",
    "        filters = 64\n",
    "        for i, r in enumerate([2,2,2,2]):\n",
    "            '''\n",
    "            residual block with repeating bottleneck blocks\n",
    "            '''\n",
    "\n",
    "            is_first_layer=(i == 0)\n",
    "            for i in range(r):\n",
    "                init_strides = (1, 1)\n",
    "                if i == 0 and not is_first_layer:\n",
    "                    init_strides = (2, 2)\n",
    "                block = basic_block(BlockIn = block, filters=filters, init_strides=init_strides,\n",
    "                                       is_first_block_of_first_layer=(is_first_layer and i == 0))\n",
    "\n",
    "            filters *= 2\n",
    "\n",
    "        # Last activation\n",
    "\n",
    "        norm = LayerNormalization(axis=CHANNEL_AXIS)(block)\n",
    "        block = Activation(\"relu\")(norm)\n",
    "\n",
    "        # classifier block\n",
    "        block_shape = K.int_shape(block)\n",
    "        pool2_out = AveragePooling2D(pool_size=(block_shape[ROW_AXIS], block_shape[COL_AXIS]),\n",
    "                                 strides=(1, 1), name = \"conv_final\")(block)\n",
    "\n",
    "        #flatten1 = keras.layers.GlobalAveragePooling2D(name = \"GAP\")(pool2)\n",
    "        #out = keras.layers.Dense(num_outputs,activation='softmax')(pooled)\n",
    "\n",
    "        flatten1 = Flatten( name = \"Flatten\")(pool2_out)\n",
    "\n",
    "        flatten1 = Dense(128, activation='relu',name = \"Flatten2\")(flatten1)\n",
    "\n",
    "        if Regress_Flag == False:\n",
    "\n",
    "            dense = Dense(units=num_outputs, kernel_initializer=\"he_normal\",\n",
    "                      activation=\"softmax\", name = \"Dense_layer\")(flatten1)\n",
    "        else:\n",
    "            dense = Dense(units=1, activation='linear', kernel_initializer=glorot_uniform(seed=0))(flatten1)\n",
    "\n",
    "            #dense = Dense(units=1, kernel_initializer=\"he_normal\", activation=\"linear\", name = \"Dense_layer\")(flatten1)\n",
    "\n",
    "        model = Model(inputs=input, outputs=dense)\n",
    "        return model\n",
    "\n",
    "\n",
    "def learn_model(oldmodel,nb_classes,Transfer_Type,summary=False):\n",
    "\n",
    "    base_model = oldmodel\n",
    "\n",
    "    if Transfer_Type == 'Classification':\n",
    "        intermediate_layer_model = Model(inputs=base_model.input,outputs=base_model.get_layer(\"conv_final\").output)\n",
    "\n",
    "    if Transfer_Type == 'Regression':\n",
    "        #intermediate_layer_model = Model(inputs=base_model.input,outputs=base_model.get_layer(\"Flatten1\").output)\n",
    "        intermediate_layer_model = Model(inputs=base_model.input,outputs=base_model.get_layer(\"Dense_Classification\").output)\n",
    "\n",
    "    x = intermediate_layer_model(base_model.input)\n",
    "    if nb_classes >1:\n",
    "        x = keras.layers.GlobalAveragePooling2D()(x)# 添加全局平均池化层\n",
    "    x = Dense(128, activation='relu')(x)\n",
    "    x = Dense(64, activation='relu')(x)\n",
    "\n",
    "\n",
    "    if Transfer_Type == 'Classification':\n",
    "        dense = Dense(units=nb_classes, kernel_initializer=\"he_normal\",\n",
    "                  activation=\"softmax\", name = \"Dense_Classification\")(x)\n",
    "    if Transfer_Type == 'Regression':\n",
    "        dense = Dense(units=1, activation='linear', name = \"Dense_Regression\", kernel_initializer=glorot_uniform(seed=0))(x)\n",
    "\n",
    "    model = Model(inputs=base_model.input, outputs=dense)\n",
    "\n",
    "\n",
    "    # show summary if specified\n",
    "    if summary==True :\n",
    "        model.summary()\n",
    "\n",
    "    if Transfer_Type == 'Classification':\n",
    "        # choose the optimizer\n",
    "        #optimizer = keras.optimizers.Adam()\n",
    "        model.compile(loss='categorical_crossentropy', optimizer='adam', metrics=['accuracy'])\n",
    "\n",
    "    if Transfer_Type == 'Regression':\n",
    "        model.compile(loss = 'mean_squared_error', optimizer = 'adam', metrics=['mse'])\n",
    "\n",
    "    return model\n"
   ]
  },
  {
   "cell_type": "markdown",
   "metadata": {
    "id": "FFwI5Z8owY4t"
   },
   "source": [
    "### H1"
   ]
  },
  {
   "cell_type": "code",
   "execution_count": 23,
   "metadata": {
    "executionInfo": {
     "elapsed": 4,
     "status": "ok",
     "timestamp": 1695310224614,
     "user": {
      "displayName": "Harrison Field",
      "userId": "02417387657116967688"
     },
     "user_tz": -60
    },
    "id": "afbxMkmtwY4t"
   },
   "outputs": [],
   "source": [
    "# It makes the implementation simpler to remove any arguments from the model building function\n",
    "def build_h1_model():\n",
    "  return buildmodel((img_channels, img_rows, img_cols), PHASE_CLASSES,False)"
   ]
  },
  {
   "cell_type": "code",
   "execution_count": 24,
   "metadata": {
    "executionInfo": {
     "elapsed": 1197,
     "status": "ok",
     "timestamp": 1695310225807,
     "user": {
      "displayName": "Harrison Field",
      "userId": "02417387657116967688"
     },
     "user_tz": -60
    },
    "id": "FOl30InqqPsS"
   },
   "outputs": [],
   "source": [
    "# View the model architecture\n",
    "model = build_h1_model()"
   ]
  },
  {
   "cell_type": "code",
   "execution_count": null,
   "metadata": {
    "colab": {
     "base_uri": "https://localhost:8080/",
     "height": 0
    },
    "executionInfo": {
     "elapsed": 2292,
     "status": "ok",
     "timestamp": 1695310228096,
     "user": {
      "displayName": "Harrison Field",
      "userId": "02417387657116967688"
     },
     "user_tz": -60
    },
    "id": "3iHMVK0PgsBW",
    "outputId": "ff4035cb-5940-42ac-c875-4f93b2233e15"
   },
   "outputs": [],
   "source": [
    "# View the model architecture\n",
    "model = build_h1_model()\n",
    "keras.utils.plot_model(model, expand_nested=True, dpi=60, show_shapes=True)"
   ]
  },
  {
   "cell_type": "code",
   "execution_count": 26,
   "metadata": {
    "colab": {
     "base_uri": "https://localhost:8080/"
    },
    "executionInfo": {
     "elapsed": 68,
     "status": "ok",
     "timestamp": 1695310228097,
     "user": {
      "displayName": "Harrison Field",
      "userId": "02417387657116967688"
     },
     "user_tz": -60
    },
    "id": "X4Sjp_5ehAN_",
    "outputId": "f914b167-daed-4979-e067-3a1b41a4e725"
   },
   "outputs": [
    {
     "name": "stdout",
     "output_type": "stream",
     "text": [
      "Model: \"model_1\"\n",
      "__________________________________________________________________________________________________\n",
      " Layer (type)                   Output Shape         Param #     Connected to                     \n",
      "==================================================================================================\n",
      " main_input (InputLayer)        [(None, 50, 50, 3)]  0           []                               \n",
      "                                                                                                  \n",
      " conv2d_20 (Conv2D)             (None, 25, 25, 64)   9472        ['main_input[0][0]']             \n",
      "                                                                                                  \n",
      " layer_normalization_17 (LayerN  (None, 25, 25, 64)  128         ['conv2d_20[0][0]']              \n",
      " ormalization)                                                                                    \n",
      "                                                                                                  \n",
      " activation_17 (Activation)     (None, 25, 25, 64)   0           ['layer_normalization_17[0][0]'] \n",
      "                                                                                                  \n",
      " conv_pool1 (MaxPooling2D)      (None, 13, 13, 64)   0           ['activation_17[0][0]']          \n",
      "                                                                                                  \n",
      " conv2d_21 (Conv2D)             (None, 13, 13, 64)   36928       ['conv_pool1[0][0]']             \n",
      "                                                                                                  \n",
      " layer_normalization_18 (LayerN  (None, 13, 13, 64)  128         ['conv2d_21[0][0]']              \n",
      " ormalization)                                                                                    \n",
      "                                                                                                  \n",
      " activation_18 (Activation)     (None, 13, 13, 64)   0           ['layer_normalization_18[0][0]'] \n",
      "                                                                                                  \n",
      " conv2d_22 (Conv2D)             (None, 13, 13, 64)   36928       ['activation_18[0][0]']          \n",
      "                                                                                                  \n",
      " add_8 (Add)                    (None, 13, 13, 64)   0           ['conv_pool1[0][0]',             \n",
      "                                                                  'conv2d_22[0][0]']              \n",
      "                                                                                                  \n",
      " layer_normalization_19 (LayerN  (None, 13, 13, 64)  128         ['add_8[0][0]']                  \n",
      " ormalization)                                                                                    \n",
      "                                                                                                  \n",
      " activation_19 (Activation)     (None, 13, 13, 64)   0           ['layer_normalization_19[0][0]'] \n",
      "                                                                                                  \n",
      " conv2d_23 (Conv2D)             (None, 13, 13, 64)   36928       ['activation_19[0][0]']          \n",
      "                                                                                                  \n",
      " layer_normalization_20 (LayerN  (None, 13, 13, 64)  128         ['conv2d_23[0][0]']              \n",
      " ormalization)                                                                                    \n",
      "                                                                                                  \n",
      " activation_20 (Activation)     (None, 13, 13, 64)   0           ['layer_normalization_20[0][0]'] \n",
      "                                                                                                  \n",
      " conv2d_24 (Conv2D)             (None, 13, 13, 64)   36928       ['activation_20[0][0]']          \n",
      "                                                                                                  \n",
      " add_9 (Add)                    (None, 13, 13, 64)   0           ['add_8[0][0]',                  \n",
      "                                                                  'conv2d_24[0][0]']              \n",
      "                                                                                                  \n",
      " layer_normalization_21 (LayerN  (None, 13, 13, 64)  128         ['add_9[0][0]']                  \n",
      " ormalization)                                                                                    \n",
      "                                                                                                  \n",
      " activation_21 (Activation)     (None, 13, 13, 64)   0           ['layer_normalization_21[0][0]'] \n",
      "                                                                                                  \n",
      " conv2d_25 (Conv2D)             (None, 7, 7, 128)    73856       ['activation_21[0][0]']          \n",
      "                                                                                                  \n",
      " layer_normalization_22 (LayerN  (None, 7, 7, 128)   256         ['conv2d_25[0][0]']              \n",
      " ormalization)                                                                                    \n",
      "                                                                                                  \n",
      " activation_22 (Activation)     (None, 7, 7, 128)    0           ['layer_normalization_22[0][0]'] \n",
      "                                                                                                  \n",
      " conv2d_27 (Conv2D)             (None, 7, 7, 128)    8320        ['add_9[0][0]']                  \n",
      "                                                                                                  \n",
      " conv2d_26 (Conv2D)             (None, 7, 7, 128)    147584      ['activation_22[0][0]']          \n",
      "                                                                                                  \n",
      " add_10 (Add)                   (None, 7, 7, 128)    0           ['conv2d_27[0][0]',              \n",
      "                                                                  'conv2d_26[0][0]']              \n",
      "                                                                                                  \n",
      " layer_normalization_23 (LayerN  (None, 7, 7, 128)   256         ['add_10[0][0]']                 \n",
      " ormalization)                                                                                    \n",
      "                                                                                                  \n",
      " activation_23 (Activation)     (None, 7, 7, 128)    0           ['layer_normalization_23[0][0]'] \n",
      "                                                                                                  \n",
      " conv2d_28 (Conv2D)             (None, 7, 7, 128)    147584      ['activation_23[0][0]']          \n",
      "                                                                                                  \n",
      " layer_normalization_24 (LayerN  (None, 7, 7, 128)   256         ['conv2d_28[0][0]']              \n",
      " ormalization)                                                                                    \n",
      "                                                                                                  \n",
      " activation_24 (Activation)     (None, 7, 7, 128)    0           ['layer_normalization_24[0][0]'] \n",
      "                                                                                                  \n",
      " conv2d_29 (Conv2D)             (None, 7, 7, 128)    147584      ['activation_24[0][0]']          \n",
      "                                                                                                  \n",
      " add_11 (Add)                   (None, 7, 7, 128)    0           ['add_10[0][0]',                 \n",
      "                                                                  'conv2d_29[0][0]']              \n",
      "                                                                                                  \n",
      " layer_normalization_25 (LayerN  (None, 7, 7, 128)   256         ['add_11[0][0]']                 \n",
      " ormalization)                                                                                    \n",
      "                                                                                                  \n",
      " activation_25 (Activation)     (None, 7, 7, 128)    0           ['layer_normalization_25[0][0]'] \n",
      "                                                                                                  \n",
      " conv2d_30 (Conv2D)             (None, 4, 4, 256)    295168      ['activation_25[0][0]']          \n",
      "                                                                                                  \n",
      " layer_normalization_26 (LayerN  (None, 4, 4, 256)   512         ['conv2d_30[0][0]']              \n",
      " ormalization)                                                                                    \n",
      "                                                                                                  \n",
      " activation_26 (Activation)     (None, 4, 4, 256)    0           ['layer_normalization_26[0][0]'] \n",
      "                                                                                                  \n",
      " conv2d_32 (Conv2D)             (None, 4, 4, 256)    33024       ['add_11[0][0]']                 \n",
      "                                                                                                  \n",
      " conv2d_31 (Conv2D)             (None, 4, 4, 256)    590080      ['activation_26[0][0]']          \n",
      "                                                                                                  \n",
      " add_12 (Add)                   (None, 4, 4, 256)    0           ['conv2d_32[0][0]',              \n",
      "                                                                  'conv2d_31[0][0]']              \n",
      "                                                                                                  \n",
      " layer_normalization_27 (LayerN  (None, 4, 4, 256)   512         ['add_12[0][0]']                 \n",
      " ormalization)                                                                                    \n",
      "                                                                                                  \n",
      " activation_27 (Activation)     (None, 4, 4, 256)    0           ['layer_normalization_27[0][0]'] \n",
      "                                                                                                  \n",
      " conv2d_33 (Conv2D)             (None, 4, 4, 256)    590080      ['activation_27[0][0]']          \n",
      "                                                                                                  \n",
      " layer_normalization_28 (LayerN  (None, 4, 4, 256)   512         ['conv2d_33[0][0]']              \n",
      " ormalization)                                                                                    \n",
      "                                                                                                  \n",
      " activation_28 (Activation)     (None, 4, 4, 256)    0           ['layer_normalization_28[0][0]'] \n",
      "                                                                                                  \n",
      " conv2d_34 (Conv2D)             (None, 4, 4, 256)    590080      ['activation_28[0][0]']          \n",
      "                                                                                                  \n",
      " add_13 (Add)                   (None, 4, 4, 256)    0           ['add_12[0][0]',                 \n",
      "                                                                  'conv2d_34[0][0]']              \n",
      "                                                                                                  \n",
      " layer_normalization_29 (LayerN  (None, 4, 4, 256)   512         ['add_13[0][0]']                 \n",
      " ormalization)                                                                                    \n",
      "                                                                                                  \n",
      " activation_29 (Activation)     (None, 4, 4, 256)    0           ['layer_normalization_29[0][0]'] \n",
      "                                                                                                  \n",
      " conv2d_35 (Conv2D)             (None, 2, 2, 512)    1180160     ['activation_29[0][0]']          \n",
      "                                                                                                  \n",
      " layer_normalization_30 (LayerN  (None, 2, 2, 512)   1024        ['conv2d_35[0][0]']              \n",
      " ormalization)                                                                                    \n",
      "                                                                                                  \n",
      " activation_30 (Activation)     (None, 2, 2, 512)    0           ['layer_normalization_30[0][0]'] \n",
      "                                                                                                  \n",
      " conv2d_37 (Conv2D)             (None, 2, 2, 512)    131584      ['add_13[0][0]']                 \n",
      "                                                                                                  \n",
      " conv2d_36 (Conv2D)             (None, 2, 2, 512)    2359808     ['activation_30[0][0]']          \n",
      "                                                                                                  \n",
      " add_14 (Add)                   (None, 2, 2, 512)    0           ['conv2d_37[0][0]',              \n",
      "                                                                  'conv2d_36[0][0]']              \n",
      "                                                                                                  \n",
      " layer_normalization_31 (LayerN  (None, 2, 2, 512)   1024        ['add_14[0][0]']                 \n",
      " ormalization)                                                                                    \n",
      "                                                                                                  \n",
      " activation_31 (Activation)     (None, 2, 2, 512)    0           ['layer_normalization_31[0][0]'] \n",
      "                                                                                                  \n",
      " conv2d_38 (Conv2D)             (None, 2, 2, 512)    2359808     ['activation_31[0][0]']          \n",
      "                                                                                                  \n",
      " layer_normalization_32 (LayerN  (None, 2, 2, 512)   1024        ['conv2d_38[0][0]']              \n",
      " ormalization)                                                                                    \n",
      "                                                                                                  \n",
      " activation_32 (Activation)     (None, 2, 2, 512)    0           ['layer_normalization_32[0][0]'] \n",
      "                                                                                                  \n",
      " conv2d_39 (Conv2D)             (None, 2, 2, 512)    2359808     ['activation_32[0][0]']          \n",
      "                                                                                                  \n",
      " add_15 (Add)                   (None, 2, 2, 512)    0           ['add_14[0][0]',                 \n",
      "                                                                  'conv2d_39[0][0]']              \n",
      "                                                                                                  \n",
      " layer_normalization_33 (LayerN  (None, 2, 2, 512)   1024        ['add_15[0][0]']                 \n",
      " ormalization)                                                                                    \n",
      "                                                                                                  \n",
      " activation_33 (Activation)     (None, 2, 2, 512)    0           ['layer_normalization_33[0][0]'] \n",
      "                                                                                                  \n",
      " conv_final (AveragePooling2D)  (None, 1, 1, 512)    0           ['activation_33[0][0]']          \n",
      "                                                                                                  \n",
      " Flatten (Flatten)              (None, 512)          0           ['conv_final[0][0]']             \n",
      "                                                                                                  \n",
      " Flatten2 (Dense)               (None, 128)          65664       ['Flatten[0][0]']                \n",
      "                                                                                                  \n",
      " Dense_layer (Dense)            (None, 4)            516         ['Flatten2[0][0]']               \n",
      "                                                                                                  \n",
      "==================================================================================================\n",
      "Total params: 11,245,700\n",
      "Trainable params: 11,245,700\n",
      "Non-trainable params: 0\n",
      "__________________________________________________________________________________________________\n"
     ]
    }
   ],
   "source": [
    "model.summary()"
   ]
  },
  {
   "cell_type": "markdown",
   "metadata": {
    "id": "sP1avAWNwY4u"
   },
   "source": [
    "## Setup Federated Learning"
   ]
  },
  {
   "cell_type": "code",
   "execution_count": 27,
   "metadata": {
    "executionInfo": {
     "elapsed": 222,
     "status": "ok",
     "timestamp": 1695310267559,
     "user": {
      "displayName": "Harrison Field",
      "userId": "02417387657116967688"
     },
     "user_tz": -60
    },
    "id": "7MatB9ShwY4u"
   },
   "outputs": [],
   "source": [
    "def model_fn_h1():\n",
    "  model = build_h1_model()\n",
    "  return tff.learning.models.from_keras_model(\n",
    "      model,\n",
    "      input_spec=phase_train[0].element_spec,\n",
    "      loss=tf.keras.losses.CategoricalCrossentropy(),\n",
    "      metrics=[tf.keras.metrics.Accuracy()])"
   ]
  },
  {
   "cell_type": "code",
   "execution_count": 28,
   "metadata": {
    "colab": {
     "base_uri": "https://localhost:8080/",
     "height": 374
    },
    "executionInfo": {
     "elapsed": 1522,
     "status": "error",
     "timestamp": 1695310269275,
     "user": {
      "displayName": "Harrison Field",
      "userId": "02417387657116967688"
     },
     "user_tz": -60
    },
    "id": "kfb47mqnwY4v",
    "outputId": "1ea837d3-2e1c-4398-bb5b-fe88a60f810f"
   },
   "outputs": [],
   "source": [
    "@tff.tf_computation\n",
    "def server_init_h1():\n",
    "  model = model_fn_h1()\n",
    "  return model.trainable_variables"
   ]
  },
  {
   "cell_type": "code",
   "execution_count": 29,
   "metadata": {
    "executionInfo": {
     "elapsed": 6,
     "status": "aborted",
     "timestamp": 1695310229226,
     "user": {
      "displayName": "Harrison Field",
      "userId": "02417387657116967688"
     },
     "user_tz": -60
    },
    "id": "ez4Z8rBHwY4v"
   },
   "outputs": [],
   "source": [
    "@tff.federated_computation\n",
    "def initialize_fn_h1():\n",
    "  return tff.federated_value(server_init_h1(), tff.SERVER)"
   ]
  },
  {
   "cell_type": "code",
   "execution_count": 30,
   "metadata": {
    "executionInfo": {
     "elapsed": 7,
     "status": "aborted",
     "timestamp": 1695310229227,
     "user": {
      "displayName": "Harrison Field",
      "userId": "02417387657116967688"
     },
     "user_tz": -60
    },
    "id": "YzPe2I_bwY4v"
   },
   "outputs": [],
   "source": [
    "@tf.function\n",
    "def client_update_h1(model, dataset, server_weights, client_optimizer):\n",
    "  \"\"\"Performs training (using the server model weights) on the client's dataset.\"\"\"\n",
    "  # Initialize the client model with the current server weights.\n",
    "  client_weights = model.trainable_variables\n",
    "  # Assign the server weights to the client model.\n",
    "  tf.nest.map_structure(lambda x, y: x.assign(y),\n",
    "                        client_weights, server_weights)\n",
    "\n",
    "  # Use the client_optimizer to update the local model.\n",
    "  for batch in dataset:\n",
    "    with tf.GradientTape() as tape:\n",
    "      # Compute a forward pass on the batch of data\n",
    "      outputs = model.forward_pass(batch)\n",
    "\n",
    "    # Compute the corresponding gradient\n",
    "    grads = tape.gradient(outputs.loss, client_weights)\n",
    "    grads_and_vars = zip(grads, client_weights)\n",
    "\n",
    "    # Apply the gradient using a client optimizer.\n",
    "    client_optimizer.apply_gradients(grads_and_vars)\n",
    "\n",
    "  return client_weights"
   ]
  },
  {
   "cell_type": "code",
   "execution_count": 31,
   "metadata": {
    "executionInfo": {
     "elapsed": 7,
     "status": "aborted",
     "timestamp": 1695310229227,
     "user": {
      "displayName": "Harrison Field",
      "userId": "02417387657116967688"
     },
     "user_tz": -60
    },
    "id": "KgmhltlKwY4w"
   },
   "outputs": [],
   "source": [
    "@tf.function\n",
    "def server_update_h1(model, mean_client_weights):\n",
    "  \"\"\"Updates the server model weights as the average of the client model weights.\"\"\"\n",
    "  model_weights = model.trainable_variables\n",
    "  # Assign the mean client weights to the server model.\n",
    "  tf.nest.map_structure(lambda x, y: x.assign(y),\n",
    "                        model_weights, mean_client_weights)\n",
    "  return model_weights"
   ]
  },
  {
   "cell_type": "code",
   "execution_count": 32,
   "metadata": {
    "executionInfo": {
     "elapsed": 7,
     "status": "aborted",
     "timestamp": 1695310229227,
     "user": {
      "displayName": "Harrison Field",
      "userId": "02417387657116967688"
     },
     "user_tz": -60
    },
    "id": "CQ_vy5RGwY4w"
   },
   "outputs": [],
   "source": [
    "h1_fed = model_fn_h1()\n",
    "tf_dataset_type_h1 = tff.SequenceType(h1_fed.input_spec)"
   ]
  },
  {
   "cell_type": "code",
   "execution_count": 33,
   "metadata": {
    "executionInfo": {
     "elapsed": 7,
     "status": "aborted",
     "timestamp": 1695310229227,
     "user": {
      "displayName": "Harrison Field",
      "userId": "02417387657116967688"
     },
     "user_tz": -60
    },
    "id": "q7ys4Z6OwY4w"
   },
   "outputs": [
    {
     "data": {
      "text/plain": [
       "'<float32[?,50,50,3],float32[?,4]>*'"
      ]
     },
     "execution_count": 33,
     "metadata": {},
     "output_type": "execute_result"
    }
   ],
   "source": [
    "str(tf_dataset_type_h1)"
   ]
  },
  {
   "cell_type": "code",
   "execution_count": 34,
   "metadata": {
    "executionInfo": {
     "elapsed": 6,
     "status": "aborted",
     "timestamp": 1695310229227,
     "user": {
      "displayName": "Harrison Field",
      "userId": "02417387657116967688"
     },
     "user_tz": -60
    },
    "id": "2GOtksdNwY4x"
   },
   "outputs": [],
   "source": [
    "model_weights_type_h1 = h1_fed.trainable_variables\n",
    "# Assuming model_weights_type is a list of trainable variables\n",
    "model_weights_type_h1 = [v for v in model_weights_type_h1]\n",
    "\n",
    "model_weights_type_h1 = tff.to_type([tf.TensorSpec.from_tensor(v.value()) for v in model_weights_type_h1])"
   ]
  },
  {
   "cell_type": "code",
   "execution_count": 35,
   "metadata": {
    "executionInfo": {
     "elapsed": 6,
     "status": "aborted",
     "timestamp": 1695310229227,
     "user": {
      "displayName": "Harrison Field",
      "userId": "02417387657116967688"
     },
     "user_tz": -60
    },
    "id": "Ofu8zg0jwY4x"
   },
   "outputs": [
    {
     "name": "stderr",
     "output_type": "stream",
     "text": [
      "2024-12-30 15:10:55.133541: I tensorflow/core/common_runtime/executor.cc:1197] [/device:CPU:0] (DEBUG INFO) Executor start aborting (this does not indicate an error and you can ignore this message): INVALID_ARGUMENT: You must feed a value for placeholder tensor 'gradients/StatefulPartitionedCall_grad/StatefulPartitionedCall_5' with dtype float and shape [?,1,1,512]\n",
      "\t [[{{node gradients/StatefulPartitionedCall_grad/StatefulPartitionedCall_5}}]]\n",
      "2024-12-30 15:10:55.133605: I tensorflow/core/common_runtime/executor.cc:1197] [/device:CPU:0] (DEBUG INFO) Executor start aborting (this does not indicate an error and you can ignore this message): INVALID_ARGUMENT: You must feed a value for placeholder tensor 'gradients/StatefulPartitionedCall_grad/StatefulPartitionedCall_6' with dtype float and shape [?,2,2,512]\n",
      "\t [[{{node gradients/StatefulPartitionedCall_grad/StatefulPartitionedCall_6}}]]\n",
      "2024-12-30 15:10:55.133623: I tensorflow/core/common_runtime/executor.cc:1197] [/device:CPU:0] (DEBUG INFO) Executor start aborting (this does not indicate an error and you can ignore this message): INVALID_ARGUMENT: You must feed a value for placeholder tensor 'gradients/StatefulPartitionedCall_grad/StatefulPartitionedCall_7' with dtype float and shape [?,2,2,512]\n",
      "\t [[{{node gradients/StatefulPartitionedCall_grad/StatefulPartitionedCall_7}}]]\n",
      "2024-12-30 15:10:55.133646: I tensorflow/core/common_runtime/executor.cc:1197] [/device:CPU:0] (DEBUG INFO) Executor start aborting (this does not indicate an error and you can ignore this message): INVALID_ARGUMENT: You must feed a value for placeholder tensor 'gradients/StatefulPartitionedCall_grad/StatefulPartitionedCall_8' with dtype float and shape [512]\n",
      "\t [[{{node gradients/StatefulPartitionedCall_grad/StatefulPartitionedCall_8}}]]\n",
      "2024-12-30 15:10:55.133683: I tensorflow/core/common_runtime/executor.cc:1197] [/device:CPU:0] (DEBUG INFO) Executor start aborting (this does not indicate an error and you can ignore this message): INVALID_ARGUMENT: You must feed a value for placeholder tensor 'gradients/StatefulPartitionedCall_grad/StatefulPartitionedCall_9' with dtype float and shape [?,2,2,512]\n",
      "\t [[{{node gradients/StatefulPartitionedCall_grad/StatefulPartitionedCall_9}}]]\n",
      "2024-12-30 15:10:55.133710: I tensorflow/core/common_runtime/executor.cc:1197] [/device:CPU:0] (DEBUG INFO) Executor start aborting (this does not indicate an error and you can ignore this message): INVALID_ARGUMENT: You must feed a value for placeholder tensor 'gradients/StatefulPartitionedCall_grad/StatefulPartitionedCall_10' with dtype float and shape [512]\n",
      "\t [[{{node gradients/StatefulPartitionedCall_grad/StatefulPartitionedCall_10}}]]\n",
      "2024-12-30 15:10:55.133734: I tensorflow/core/common_runtime/executor.cc:1197] [/device:CPU:0] (DEBUG INFO) Executor start aborting (this does not indicate an error and you can ignore this message): INVALID_ARGUMENT: You must feed a value for placeholder tensor 'gradients/StatefulPartitionedCall_grad/StatefulPartitionedCall_11' with dtype float and shape [1,?,512,1]\n",
      "\t [[{{node gradients/StatefulPartitionedCall_grad/StatefulPartitionedCall_11}}]]\n",
      "2024-12-30 15:10:55.133758: I tensorflow/core/common_runtime/executor.cc:1197] [/device:CPU:0] (DEBUG INFO) Executor start aborting (this does not indicate an error and you can ignore this message): INVALID_ARGUMENT: You must feed a value for placeholder tensor 'gradients/StatefulPartitionedCall_grad/StatefulPartitionedCall_19' with dtype float and shape [?,2,2,512]\n",
      "\t [[{{node gradients/StatefulPartitionedCall_grad/StatefulPartitionedCall_19}}]]\n",
      "2024-12-30 15:10:55.133781: I tensorflow/core/common_runtime/executor.cc:1197] [/device:CPU:0] (DEBUG INFO) Executor start aborting (this does not indicate an error and you can ignore this message): INVALID_ARGUMENT: You must feed a value for placeholder tensor 'gradients/StatefulPartitionedCall_grad/StatefulPartitionedCall_20' with dtype float and shape [?,2,2,512]\n",
      "\t [[{{node gradients/StatefulPartitionedCall_grad/StatefulPartitionedCall_20}}]]\n",
      "2024-12-30 15:10:55.133804: I tensorflow/core/common_runtime/executor.cc:1197] [/device:CPU:0] (DEBUG INFO) Executor start aborting (this does not indicate an error and you can ignore this message): INVALID_ARGUMENT: You must feed a value for placeholder tensor 'gradients/StatefulPartitionedCall_grad/StatefulPartitionedCall_21' with dtype float and shape [?,2,2,512]\n",
      "\t [[{{node gradients/StatefulPartitionedCall_grad/StatefulPartitionedCall_21}}]]\n",
      "2024-12-30 15:10:55.133822: I tensorflow/core/common_runtime/executor.cc:1197] [/device:CPU:0] (DEBUG INFO) Executor start aborting (this does not indicate an error and you can ignore this message): INVALID_ARGUMENT: You must feed a value for placeholder tensor 'gradients/StatefulPartitionedCall_grad/StatefulPartitionedCall_22' with dtype float and shape [?,2,2,512]\n",
      "\t [[{{node gradients/StatefulPartitionedCall_grad/StatefulPartitionedCall_22}}]]\n",
      "2024-12-30 15:10:55.133840: I tensorflow/core/common_runtime/executor.cc:1197] [/device:CPU:0] (DEBUG INFO) Executor start aborting (this does not indicate an error and you can ignore this message): INVALID_ARGUMENT: You must feed a value for placeholder tensor 'gradients/StatefulPartitionedCall_grad/StatefulPartitionedCall_24' with dtype float and shape [?,2,2,512]\n",
      "\t [[{{node gradients/StatefulPartitionedCall_grad/StatefulPartitionedCall_24}}]]\n",
      "2024-12-30 15:10:55.133868: I tensorflow/core/common_runtime/executor.cc:1197] [/device:CPU:0] (DEBUG INFO) Executor start aborting (this does not indicate an error and you can ignore this message): INVALID_ARGUMENT: You must feed a value for placeholder tensor 'gradients/StatefulPartitionedCall_grad/StatefulPartitionedCall_25' with dtype float and shape [512]\n",
      "\t [[{{node gradients/StatefulPartitionedCall_grad/StatefulPartitionedCall_25}}]]\n",
      "2024-12-30 15:10:55.133883: I tensorflow/core/common_runtime/executor.cc:1197] [/device:CPU:0] (DEBUG INFO) Executor start aborting (this does not indicate an error and you can ignore this message): INVALID_ARGUMENT: You must feed a value for placeholder tensor 'gradients/StatefulPartitionedCall_grad/StatefulPartitionedCall_26' with dtype float and shape [?,2,2,512]\n",
      "\t [[{{node gradients/StatefulPartitionedCall_grad/StatefulPartitionedCall_26}}]]\n",
      "2024-12-30 15:10:55.133898: I tensorflow/core/common_runtime/executor.cc:1197] [/device:CPU:0] (DEBUG INFO) Executor start aborting (this does not indicate an error and you can ignore this message): INVALID_ARGUMENT: You must feed a value for placeholder tensor 'gradients/StatefulPartitionedCall_grad/StatefulPartitionedCall_27' with dtype float and shape [512]\n",
      "\t [[{{node gradients/StatefulPartitionedCall_grad/StatefulPartitionedCall_27}}]]\n",
      "2024-12-30 15:10:55.133913: I tensorflow/core/common_runtime/executor.cc:1197] [/device:CPU:0] (DEBUG INFO) Executor start aborting (this does not indicate an error and you can ignore this message): INVALID_ARGUMENT: You must feed a value for placeholder tensor 'gradients/StatefulPartitionedCall_grad/StatefulPartitionedCall_28' with dtype float and shape [1,?,512,1]\n",
      "\t [[{{node gradients/StatefulPartitionedCall_grad/StatefulPartitionedCall_28}}]]\n",
      "2024-12-30 15:10:55.133928: I tensorflow/core/common_runtime/executor.cc:1197] [/device:CPU:0] (DEBUG INFO) Executor start aborting (this does not indicate an error and you can ignore this message): INVALID_ARGUMENT: You must feed a value for placeholder tensor 'gradients/StatefulPartitionedCall_grad/StatefulPartitionedCall_36' with dtype float and shape [?,2,2,512]\n",
      "\t [[{{node gradients/StatefulPartitionedCall_grad/StatefulPartitionedCall_36}}]]\n",
      "2024-12-30 15:10:55.133943: I tensorflow/core/common_runtime/executor.cc:1197] [/device:CPU:0] (DEBUG INFO) Executor start aborting (this does not indicate an error and you can ignore this message): INVALID_ARGUMENT: You must feed a value for placeholder tensor 'gradients/StatefulPartitionedCall_grad/StatefulPartitionedCall_37' with dtype float and shape [?,2,2,512]\n",
      "\t [[{{node gradients/StatefulPartitionedCall_grad/StatefulPartitionedCall_37}}]]\n",
      "2024-12-30 15:10:55.133958: I tensorflow/core/common_runtime/executor.cc:1197] [/device:CPU:0] (DEBUG INFO) Executor start aborting (this does not indicate an error and you can ignore this message): INVALID_ARGUMENT: You must feed a value for placeholder tensor 'gradients/StatefulPartitionedCall_grad/StatefulPartitionedCall_39' with dtype float and shape [?,2,2,512]\n",
      "\t [[{{node gradients/StatefulPartitionedCall_grad/StatefulPartitionedCall_39}}]]\n",
      "2024-12-30 15:10:55.133973: I tensorflow/core/common_runtime/executor.cc:1197] [/device:CPU:0] (DEBUG INFO) Executor start aborting (this does not indicate an error and you can ignore this message): INVALID_ARGUMENT: You must feed a value for placeholder tensor 'gradients/StatefulPartitionedCall_grad/StatefulPartitionedCall_40' with dtype float and shape [512]\n",
      "\t [[{{node gradients/StatefulPartitionedCall_grad/StatefulPartitionedCall_40}}]]\n",
      "2024-12-30 15:10:55.133988: I tensorflow/core/common_runtime/executor.cc:1197] [/device:CPU:0] (DEBUG INFO) Executor start aborting (this does not indicate an error and you can ignore this message): INVALID_ARGUMENT: You must feed a value for placeholder tensor 'gradients/StatefulPartitionedCall_grad/StatefulPartitionedCall_41' with dtype float and shape [?,2,2,512]\n",
      "\t [[{{node gradients/StatefulPartitionedCall_grad/StatefulPartitionedCall_41}}]]\n",
      "2024-12-30 15:10:55.134003: I tensorflow/core/common_runtime/executor.cc:1197] [/device:CPU:0] (DEBUG INFO) Executor start aborting (this does not indicate an error and you can ignore this message): INVALID_ARGUMENT: You must feed a value for placeholder tensor 'gradients/StatefulPartitionedCall_grad/StatefulPartitionedCall_42' with dtype float and shape [512]\n",
      "\t [[{{node gradients/StatefulPartitionedCall_grad/StatefulPartitionedCall_42}}]]\n",
      "2024-12-30 15:10:55.134018: I tensorflow/core/common_runtime/executor.cc:1197] [/device:CPU:0] (DEBUG INFO) Executor start aborting (this does not indicate an error and you can ignore this message): INVALID_ARGUMENT: You must feed a value for placeholder tensor 'gradients/StatefulPartitionedCall_grad/StatefulPartitionedCall_43' with dtype float and shape [1,?,512,1]\n",
      "\t [[{{node gradients/StatefulPartitionedCall_grad/StatefulPartitionedCall_43}}]]\n",
      "2024-12-30 15:10:55.134033: I tensorflow/core/common_runtime/executor.cc:1197] [/device:CPU:0] (DEBUG INFO) Executor start aborting (this does not indicate an error and you can ignore this message): INVALID_ARGUMENT: You must feed a value for placeholder tensor 'gradients/StatefulPartitionedCall_grad/StatefulPartitionedCall_51' with dtype float and shape [?,2,2,512]\n",
      "\t [[{{node gradients/StatefulPartitionedCall_grad/StatefulPartitionedCall_51}}]]\n",
      "2024-12-30 15:10:55.134047: I tensorflow/core/common_runtime/executor.cc:1197] [/device:CPU:0] (DEBUG INFO) Executor start aborting (this does not indicate an error and you can ignore this message): INVALID_ARGUMENT: You must feed a value for placeholder tensor 'gradients/StatefulPartitionedCall_grad/StatefulPartitionedCall_52' with dtype float and shape [?,2,2,512]\n",
      "\t [[{{node gradients/StatefulPartitionedCall_grad/StatefulPartitionedCall_52}}]]\n",
      "2024-12-30 15:10:55.134062: I tensorflow/core/common_runtime/executor.cc:1197] [/device:CPU:0] (DEBUG INFO) Executor start aborting (this does not indicate an error and you can ignore this message): INVALID_ARGUMENT: You must feed a value for placeholder tensor 'gradients/StatefulPartitionedCall_grad/StatefulPartitionedCall_53' with dtype float and shape [?,4,4,256]\n",
      "\t [[{{node gradients/StatefulPartitionedCall_grad/StatefulPartitionedCall_53}}]]\n",
      "2024-12-30 15:10:55.134077: I tensorflow/core/common_runtime/executor.cc:1197] [/device:CPU:0] (DEBUG INFO) Executor start aborting (this does not indicate an error and you can ignore this message): INVALID_ARGUMENT: You must feed a value for placeholder tensor 'gradients/StatefulPartitionedCall_grad/StatefulPartitionedCall_55' with dtype float and shape [?,2,2,512]\n",
      "\t [[{{node gradients/StatefulPartitionedCall_grad/StatefulPartitionedCall_55}}]]\n",
      "2024-12-30 15:10:55.134091: I tensorflow/core/common_runtime/executor.cc:1197] [/device:CPU:0] (DEBUG INFO) Executor start aborting (this does not indicate an error and you can ignore this message): INVALID_ARGUMENT: You must feed a value for placeholder tensor 'gradients/StatefulPartitionedCall_grad/StatefulPartitionedCall_57' with dtype float and shape [?,2,2,512]\n",
      "\t [[{{node gradients/StatefulPartitionedCall_grad/StatefulPartitionedCall_57}}]]\n",
      "2024-12-30 15:10:55.134106: I tensorflow/core/common_runtime/executor.cc:1197] [/device:CPU:0] (DEBUG INFO) Executor start aborting (this does not indicate an error and you can ignore this message): INVALID_ARGUMENT: You must feed a value for placeholder tensor 'gradients/StatefulPartitionedCall_grad/StatefulPartitionedCall_58' with dtype float and shape [512]\n",
      "\t [[{{node gradients/StatefulPartitionedCall_grad/StatefulPartitionedCall_58}}]]\n",
      "2024-12-30 15:10:55.134120: I tensorflow/core/common_runtime/executor.cc:1197] [/device:CPU:0] (DEBUG INFO) Executor start aborting (this does not indicate an error and you can ignore this message): INVALID_ARGUMENT: You must feed a value for placeholder tensor 'gradients/StatefulPartitionedCall_grad/StatefulPartitionedCall_59' with dtype float and shape [?,2,2,512]\n",
      "\t [[{{node gradients/StatefulPartitionedCall_grad/StatefulPartitionedCall_59}}]]\n",
      "2024-12-30 15:10:55.134134: I tensorflow/core/common_runtime/executor.cc:1197] [/device:CPU:0] (DEBUG INFO) Executor start aborting (this does not indicate an error and you can ignore this message): INVALID_ARGUMENT: You must feed a value for placeholder tensor 'gradients/StatefulPartitionedCall_grad/StatefulPartitionedCall_60' with dtype float and shape [512]\n",
      "\t [[{{node gradients/StatefulPartitionedCall_grad/StatefulPartitionedCall_60}}]]\n",
      "2024-12-30 15:10:55.134149: I tensorflow/core/common_runtime/executor.cc:1197] [/device:CPU:0] (DEBUG INFO) Executor start aborting (this does not indicate an error and you can ignore this message): INVALID_ARGUMENT: You must feed a value for placeholder tensor 'gradients/StatefulPartitionedCall_grad/StatefulPartitionedCall_61' with dtype float and shape [1,?,512,1]\n",
      "\t [[{{node gradients/StatefulPartitionedCall_grad/StatefulPartitionedCall_61}}]]\n",
      "2024-12-30 15:10:55.134164: I tensorflow/core/common_runtime/executor.cc:1197] [/device:CPU:0] (DEBUG INFO) Executor start aborting (this does not indicate an error and you can ignore this message): INVALID_ARGUMENT: You must feed a value for placeholder tensor 'gradients/StatefulPartitionedCall_grad/StatefulPartitionedCall_69' with dtype float and shape [?,2,2,512]\n",
      "\t [[{{node gradients/StatefulPartitionedCall_grad/StatefulPartitionedCall_69}}]]\n",
      "2024-12-30 15:10:55.134178: I tensorflow/core/common_runtime/executor.cc:1197] [/device:CPU:0] (DEBUG INFO) Executor start aborting (this does not indicate an error and you can ignore this message): INVALID_ARGUMENT: You must feed a value for placeholder tensor 'gradients/StatefulPartitionedCall_grad/StatefulPartitionedCall_70' with dtype float and shape [?,4,4,256]\n",
      "\t [[{{node gradients/StatefulPartitionedCall_grad/StatefulPartitionedCall_70}}]]\n",
      "2024-12-30 15:10:55.134193: I tensorflow/core/common_runtime/executor.cc:1197] [/device:CPU:0] (DEBUG INFO) Executor start aborting (this does not indicate an error and you can ignore this message): INVALID_ARGUMENT: You must feed a value for placeholder tensor 'gradients/StatefulPartitionedCall_grad/StatefulPartitionedCall_72' with dtype float and shape [?,4,4,256]\n",
      "\t [[{{node gradients/StatefulPartitionedCall_grad/StatefulPartitionedCall_72}}]]\n",
      "2024-12-30 15:10:55.134212: I tensorflow/core/common_runtime/executor.cc:1197] [/device:CPU:0] (DEBUG INFO) Executor start aborting (this does not indicate an error and you can ignore this message): INVALID_ARGUMENT: You must feed a value for placeholder tensor 'gradients/StatefulPartitionedCall_grad/StatefulPartitionedCall_73' with dtype float and shape [256]\n",
      "\t [[{{node gradients/StatefulPartitionedCall_grad/StatefulPartitionedCall_73}}]]\n",
      "2024-12-30 15:10:55.134226: I tensorflow/core/common_runtime/executor.cc:1197] [/device:CPU:0] (DEBUG INFO) Executor start aborting (this does not indicate an error and you can ignore this message): INVALID_ARGUMENT: You must feed a value for placeholder tensor 'gradients/StatefulPartitionedCall_grad/StatefulPartitionedCall_74' with dtype float and shape [?,4,4,256]\n",
      "\t [[{{node gradients/StatefulPartitionedCall_grad/StatefulPartitionedCall_74}}]]\n",
      "2024-12-30 15:10:55.134241: I tensorflow/core/common_runtime/executor.cc:1197] [/device:CPU:0] (DEBUG INFO) Executor start aborting (this does not indicate an error and you can ignore this message): INVALID_ARGUMENT: You must feed a value for placeholder tensor 'gradients/StatefulPartitionedCall_grad/StatefulPartitionedCall_75' with dtype float and shape [256]\n",
      "\t [[{{node gradients/StatefulPartitionedCall_grad/StatefulPartitionedCall_75}}]]\n",
      "2024-12-30 15:10:55.134255: I tensorflow/core/common_runtime/executor.cc:1197] [/device:CPU:0] (DEBUG INFO) Executor start aborting (this does not indicate an error and you can ignore this message): INVALID_ARGUMENT: You must feed a value for placeholder tensor 'gradients/StatefulPartitionedCall_grad/StatefulPartitionedCall_76' with dtype float and shape [1,?,256,1]\n",
      "\t [[{{node gradients/StatefulPartitionedCall_grad/StatefulPartitionedCall_76}}]]\n",
      "2024-12-30 15:10:55.134270: I tensorflow/core/common_runtime/executor.cc:1197] [/device:CPU:0] (DEBUG INFO) Executor start aborting (this does not indicate an error and you can ignore this message): INVALID_ARGUMENT: You must feed a value for placeholder tensor 'gradients/StatefulPartitionedCall_grad/StatefulPartitionedCall_84' with dtype float and shape [?,4,4,256]\n",
      "\t [[{{node gradients/StatefulPartitionedCall_grad/StatefulPartitionedCall_84}}]]\n",
      "2024-12-30 15:10:55.134284: I tensorflow/core/common_runtime/executor.cc:1197] [/device:CPU:0] (DEBUG INFO) Executor start aborting (this does not indicate an error and you can ignore this message): INVALID_ARGUMENT: You must feed a value for placeholder tensor 'gradients/StatefulPartitionedCall_grad/StatefulPartitionedCall_85' with dtype float and shape [?,4,4,256]\n",
      "\t [[{{node gradients/StatefulPartitionedCall_grad/StatefulPartitionedCall_85}}]]\n",
      "2024-12-30 15:10:55.134299: I tensorflow/core/common_runtime/executor.cc:1197] [/device:CPU:0] (DEBUG INFO) Executor start aborting (this does not indicate an error and you can ignore this message): INVALID_ARGUMENT: You must feed a value for placeholder tensor 'gradients/StatefulPartitionedCall_grad/StatefulPartitionedCall_86' with dtype float and shape [?,4,4,256]\n",
      "\t [[{{node gradients/StatefulPartitionedCall_grad/StatefulPartitionedCall_86}}]]\n",
      "2024-12-30 15:10:55.134313: I tensorflow/core/common_runtime/executor.cc:1197] [/device:CPU:0] (DEBUG INFO) Executor start aborting (this does not indicate an error and you can ignore this message): INVALID_ARGUMENT: You must feed a value for placeholder tensor 'gradients/StatefulPartitionedCall_grad/StatefulPartitionedCall_88' with dtype float and shape [?,4,4,256]\n",
      "\t [[{{node gradients/StatefulPartitionedCall_grad/StatefulPartitionedCall_88}}]]\n",
      "2024-12-30 15:10:55.134327: I tensorflow/core/common_runtime/executor.cc:1197] [/device:CPU:0] (DEBUG INFO) Executor start aborting (this does not indicate an error and you can ignore this message): INVALID_ARGUMENT: You must feed a value for placeholder tensor 'gradients/StatefulPartitionedCall_grad/StatefulPartitionedCall_89' with dtype float and shape [256]\n",
      "\t [[{{node gradients/StatefulPartitionedCall_grad/StatefulPartitionedCall_89}}]]\n",
      "2024-12-30 15:10:55.134342: I tensorflow/core/common_runtime/executor.cc:1197] [/device:CPU:0] (DEBUG INFO) Executor start aborting (this does not indicate an error and you can ignore this message): INVALID_ARGUMENT: You must feed a value for placeholder tensor 'gradients/StatefulPartitionedCall_grad/StatefulPartitionedCall_90' with dtype float and shape [?,4,4,256]\n",
      "\t [[{{node gradients/StatefulPartitionedCall_grad/StatefulPartitionedCall_90}}]]\n",
      "2024-12-30 15:10:55.134357: I tensorflow/core/common_runtime/executor.cc:1197] [/device:CPU:0] (DEBUG INFO) Executor start aborting (this does not indicate an error and you can ignore this message): INVALID_ARGUMENT: You must feed a value for placeholder tensor 'gradients/StatefulPartitionedCall_grad/StatefulPartitionedCall_91' with dtype float and shape [256]\n",
      "\t [[{{node gradients/StatefulPartitionedCall_grad/StatefulPartitionedCall_91}}]]\n",
      "2024-12-30 15:10:55.134371: I tensorflow/core/common_runtime/executor.cc:1197] [/device:CPU:0] (DEBUG INFO) Executor start aborting (this does not indicate an error and you can ignore this message): INVALID_ARGUMENT: You must feed a value for placeholder tensor 'gradients/StatefulPartitionedCall_grad/StatefulPartitionedCall_92' with dtype float and shape [1,?,256,1]\n",
      "\t [[{{node gradients/StatefulPartitionedCall_grad/StatefulPartitionedCall_92}}]]\n",
      "2024-12-30 15:10:55.134386: I tensorflow/core/common_runtime/executor.cc:1197] [/device:CPU:0] (DEBUG INFO) Executor start aborting (this does not indicate an error and you can ignore this message): INVALID_ARGUMENT: You must feed a value for placeholder tensor 'gradients/StatefulPartitionedCall_grad/StatefulPartitionedCall_100' with dtype float and shape [?,4,4,256]\n",
      "\t [[{{node gradients/StatefulPartitionedCall_grad/StatefulPartitionedCall_100}}]]\n",
      "2024-12-30 15:10:55.134401: I tensorflow/core/common_runtime/executor.cc:1197] [/device:CPU:0] (DEBUG INFO) Executor start aborting (this does not indicate an error and you can ignore this message): INVALID_ARGUMENT: You must feed a value for placeholder tensor 'gradients/StatefulPartitionedCall_grad/StatefulPartitionedCall_101' with dtype float and shape [?,4,4,256]\n",
      "\t [[{{node gradients/StatefulPartitionedCall_grad/StatefulPartitionedCall_101}}]]\n",
      "2024-12-30 15:10:55.134415: I tensorflow/core/common_runtime/executor.cc:1197] [/device:CPU:0] (DEBUG INFO) Executor start aborting (this does not indicate an error and you can ignore this message): INVALID_ARGUMENT: You must feed a value for placeholder tensor 'gradients/StatefulPartitionedCall_grad/StatefulPartitionedCall_103' with dtype float and shape [?,4,4,256]\n",
      "\t [[{{node gradients/StatefulPartitionedCall_grad/StatefulPartitionedCall_103}}]]\n",
      "2024-12-30 15:10:55.134430: I tensorflow/core/common_runtime/executor.cc:1197] [/device:CPU:0] (DEBUG INFO) Executor start aborting (this does not indicate an error and you can ignore this message): INVALID_ARGUMENT: You must feed a value for placeholder tensor 'gradients/StatefulPartitionedCall_grad/StatefulPartitionedCall_104' with dtype float and shape [256]\n",
      "\t [[{{node gradients/StatefulPartitionedCall_grad/StatefulPartitionedCall_104}}]]\n",
      "2024-12-30 15:10:55.134445: I tensorflow/core/common_runtime/executor.cc:1197] [/device:CPU:0] (DEBUG INFO) Executor start aborting (this does not indicate an error and you can ignore this message): INVALID_ARGUMENT: You must feed a value for placeholder tensor 'gradients/StatefulPartitionedCall_grad/StatefulPartitionedCall_105' with dtype float and shape [?,4,4,256]\n",
      "\t [[{{node gradients/StatefulPartitionedCall_grad/StatefulPartitionedCall_105}}]]\n",
      "2024-12-30 15:10:55.134459: I tensorflow/core/common_runtime/executor.cc:1197] [/device:CPU:0] (DEBUG INFO) Executor start aborting (this does not indicate an error and you can ignore this message): INVALID_ARGUMENT: You must feed a value for placeholder tensor 'gradients/StatefulPartitionedCall_grad/StatefulPartitionedCall_106' with dtype float and shape [256]\n",
      "\t [[{{node gradients/StatefulPartitionedCall_grad/StatefulPartitionedCall_106}}]]\n",
      "2024-12-30 15:10:55.134474: I tensorflow/core/common_runtime/executor.cc:1197] [/device:CPU:0] (DEBUG INFO) Executor start aborting (this does not indicate an error and you can ignore this message): INVALID_ARGUMENT: You must feed a value for placeholder tensor 'gradients/StatefulPartitionedCall_grad/StatefulPartitionedCall_107' with dtype float and shape [1,?,256,1]\n",
      "\t [[{{node gradients/StatefulPartitionedCall_grad/StatefulPartitionedCall_107}}]]\n",
      "2024-12-30 15:10:55.134488: I tensorflow/core/common_runtime/executor.cc:1197] [/device:CPU:0] (DEBUG INFO) Executor start aborting (this does not indicate an error and you can ignore this message): INVALID_ARGUMENT: You must feed a value for placeholder tensor 'gradients/StatefulPartitionedCall_grad/StatefulPartitionedCall_115' with dtype float and shape [?,4,4,256]\n",
      "\t [[{{node gradients/StatefulPartitionedCall_grad/StatefulPartitionedCall_115}}]]\n",
      "2024-12-30 15:10:55.134503: I tensorflow/core/common_runtime/executor.cc:1197] [/device:CPU:0] (DEBUG INFO) Executor start aborting (this does not indicate an error and you can ignore this message): INVALID_ARGUMENT: You must feed a value for placeholder tensor 'gradients/StatefulPartitionedCall_grad/StatefulPartitionedCall_116' with dtype float and shape [?,4,4,256]\n",
      "\t [[{{node gradients/StatefulPartitionedCall_grad/StatefulPartitionedCall_116}}]]\n",
      "2024-12-30 15:10:55.134517: I tensorflow/core/common_runtime/executor.cc:1197] [/device:CPU:0] (DEBUG INFO) Executor start aborting (this does not indicate an error and you can ignore this message): INVALID_ARGUMENT: You must feed a value for placeholder tensor 'gradients/StatefulPartitionedCall_grad/StatefulPartitionedCall_117' with dtype float and shape [?,7,7,128]\n",
      "\t [[{{node gradients/StatefulPartitionedCall_grad/StatefulPartitionedCall_117}}]]\n",
      "2024-12-30 15:10:55.134532: I tensorflow/core/common_runtime/executor.cc:1197] [/device:CPU:0] (DEBUG INFO) Executor start aborting (this does not indicate an error and you can ignore this message): INVALID_ARGUMENT: You must feed a value for placeholder tensor 'gradients/StatefulPartitionedCall_grad/StatefulPartitionedCall_119' with dtype float and shape [?,4,4,256]\n",
      "\t [[{{node gradients/StatefulPartitionedCall_grad/StatefulPartitionedCall_119}}]]\n",
      "2024-12-30 15:10:55.134546: I tensorflow/core/common_runtime/executor.cc:1197] [/device:CPU:0] (DEBUG INFO) Executor start aborting (this does not indicate an error and you can ignore this message): INVALID_ARGUMENT: You must feed a value for placeholder tensor 'gradients/StatefulPartitionedCall_grad/StatefulPartitionedCall_121' with dtype float and shape [?,4,4,256]\n",
      "\t [[{{node gradients/StatefulPartitionedCall_grad/StatefulPartitionedCall_121}}]]\n",
      "2024-12-30 15:10:55.134561: I tensorflow/core/common_runtime/executor.cc:1197] [/device:CPU:0] (DEBUG INFO) Executor start aborting (this does not indicate an error and you can ignore this message): INVALID_ARGUMENT: You must feed a value for placeholder tensor 'gradients/StatefulPartitionedCall_grad/StatefulPartitionedCall_122' with dtype float and shape [256]\n",
      "\t [[{{node gradients/StatefulPartitionedCall_grad/StatefulPartitionedCall_122}}]]\n",
      "2024-12-30 15:10:55.134575: I tensorflow/core/common_runtime/executor.cc:1197] [/device:CPU:0] (DEBUG INFO) Executor start aborting (this does not indicate an error and you can ignore this message): INVALID_ARGUMENT: You must feed a value for placeholder tensor 'gradients/StatefulPartitionedCall_grad/StatefulPartitionedCall_123' with dtype float and shape [?,4,4,256]\n",
      "\t [[{{node gradients/StatefulPartitionedCall_grad/StatefulPartitionedCall_123}}]]\n",
      "2024-12-30 15:10:55.134590: I tensorflow/core/common_runtime/executor.cc:1197] [/device:CPU:0] (DEBUG INFO) Executor start aborting (this does not indicate an error and you can ignore this message): INVALID_ARGUMENT: You must feed a value for placeholder tensor 'gradients/StatefulPartitionedCall_grad/StatefulPartitionedCall_124' with dtype float and shape [256]\n",
      "\t [[{{node gradients/StatefulPartitionedCall_grad/StatefulPartitionedCall_124}}]]\n",
      "2024-12-30 15:10:55.134604: I tensorflow/core/common_runtime/executor.cc:1197] [/device:CPU:0] (DEBUG INFO) Executor start aborting (this does not indicate an error and you can ignore this message): INVALID_ARGUMENT: You must feed a value for placeholder tensor 'gradients/StatefulPartitionedCall_grad/StatefulPartitionedCall_125' with dtype float and shape [1,?,256,1]\n",
      "\t [[{{node gradients/StatefulPartitionedCall_grad/StatefulPartitionedCall_125}}]]\n",
      "2024-12-30 15:10:55.134619: I tensorflow/core/common_runtime/executor.cc:1197] [/device:CPU:0] (DEBUG INFO) Executor start aborting (this does not indicate an error and you can ignore this message): INVALID_ARGUMENT: You must feed a value for placeholder tensor 'gradients/StatefulPartitionedCall_grad/StatefulPartitionedCall_133' with dtype float and shape [?,4,4,256]\n",
      "\t [[{{node gradients/StatefulPartitionedCall_grad/StatefulPartitionedCall_133}}]]\n",
      "2024-12-30 15:10:55.134633: I tensorflow/core/common_runtime/executor.cc:1197] [/device:CPU:0] (DEBUG INFO) Executor start aborting (this does not indicate an error and you can ignore this message): INVALID_ARGUMENT: You must feed a value for placeholder tensor 'gradients/StatefulPartitionedCall_grad/StatefulPartitionedCall_134' with dtype float and shape [?,7,7,128]\n",
      "\t [[{{node gradients/StatefulPartitionedCall_grad/StatefulPartitionedCall_134}}]]\n",
      "2024-12-30 15:10:55.134648: I tensorflow/core/common_runtime/executor.cc:1197] [/device:CPU:0] (DEBUG INFO) Executor start aborting (this does not indicate an error and you can ignore this message): INVALID_ARGUMENT: You must feed a value for placeholder tensor 'gradients/StatefulPartitionedCall_grad/StatefulPartitionedCall_136' with dtype float and shape [?,7,7,128]\n",
      "\t [[{{node gradients/StatefulPartitionedCall_grad/StatefulPartitionedCall_136}}]]\n",
      "2024-12-30 15:10:55.134662: I tensorflow/core/common_runtime/executor.cc:1197] [/device:CPU:0] (DEBUG INFO) Executor start aborting (this does not indicate an error and you can ignore this message): INVALID_ARGUMENT: You must feed a value for placeholder tensor 'gradients/StatefulPartitionedCall_grad/StatefulPartitionedCall_137' with dtype float and shape [128]\n",
      "\t [[{{node gradients/StatefulPartitionedCall_grad/StatefulPartitionedCall_137}}]]\n",
      "2024-12-30 15:10:55.134677: I tensorflow/core/common_runtime/executor.cc:1197] [/device:CPU:0] (DEBUG INFO) Executor start aborting (this does not indicate an error and you can ignore this message): INVALID_ARGUMENT: You must feed a value for placeholder tensor 'gradients/StatefulPartitionedCall_grad/StatefulPartitionedCall_138' with dtype float and shape [?,7,7,128]\n",
      "\t [[{{node gradients/StatefulPartitionedCall_grad/StatefulPartitionedCall_138}}]]\n",
      "2024-12-30 15:10:55.134692: I tensorflow/core/common_runtime/executor.cc:1197] [/device:CPU:0] (DEBUG INFO) Executor start aborting (this does not indicate an error and you can ignore this message): INVALID_ARGUMENT: You must feed a value for placeholder tensor 'gradients/StatefulPartitionedCall_grad/StatefulPartitionedCall_139' with dtype float and shape [128]\n",
      "\t [[{{node gradients/StatefulPartitionedCall_grad/StatefulPartitionedCall_139}}]]\n",
      "2024-12-30 15:10:55.134709: I tensorflow/core/common_runtime/executor.cc:1197] [/device:CPU:0] (DEBUG INFO) Executor start aborting (this does not indicate an error and you can ignore this message): INVALID_ARGUMENT: You must feed a value for placeholder tensor 'gradients/StatefulPartitionedCall_grad/StatefulPartitionedCall_140' with dtype float and shape [1,?,128,1]\n",
      "\t [[{{node gradients/StatefulPartitionedCall_grad/StatefulPartitionedCall_140}}]]\n",
      "2024-12-30 15:10:55.134724: I tensorflow/core/common_runtime/executor.cc:1197] [/device:CPU:0] (DEBUG INFO) Executor start aborting (this does not indicate an error and you can ignore this message): INVALID_ARGUMENT: You must feed a value for placeholder tensor 'gradients/StatefulPartitionedCall_grad/StatefulPartitionedCall_148' with dtype float and shape [?,7,7,128]\n",
      "\t [[{{node gradients/StatefulPartitionedCall_grad/StatefulPartitionedCall_148}}]]\n",
      "2024-12-30 15:10:55.134739: I tensorflow/core/common_runtime/executor.cc:1197] [/device:CPU:0] (DEBUG INFO) Executor start aborting (this does not indicate an error and you can ignore this message): INVALID_ARGUMENT: You must feed a value for placeholder tensor 'gradients/StatefulPartitionedCall_grad/StatefulPartitionedCall_149' with dtype float and shape [?,7,7,128]\n",
      "\t [[{{node gradients/StatefulPartitionedCall_grad/StatefulPartitionedCall_149}}]]\n",
      "2024-12-30 15:10:55.134754: I tensorflow/core/common_runtime/executor.cc:1197] [/device:CPU:0] (DEBUG INFO) Executor start aborting (this does not indicate an error and you can ignore this message): INVALID_ARGUMENT: You must feed a value for placeholder tensor 'gradients/StatefulPartitionedCall_grad/StatefulPartitionedCall_150' with dtype float and shape [?,7,7,128]\n",
      "\t [[{{node gradients/StatefulPartitionedCall_grad/StatefulPartitionedCall_150}}]]\n",
      "2024-12-30 15:10:55.134769: I tensorflow/core/common_runtime/executor.cc:1197] [/device:CPU:0] (DEBUG INFO) Executor start aborting (this does not indicate an error and you can ignore this message): INVALID_ARGUMENT: You must feed a value for placeholder tensor 'gradients/StatefulPartitionedCall_grad/StatefulPartitionedCall_152' with dtype float and shape [?,7,7,128]\n",
      "\t [[{{node gradients/StatefulPartitionedCall_grad/StatefulPartitionedCall_152}}]]\n",
      "2024-12-30 15:10:55.134783: I tensorflow/core/common_runtime/executor.cc:1197] [/device:CPU:0] (DEBUG INFO) Executor start aborting (this does not indicate an error and you can ignore this message): INVALID_ARGUMENT: You must feed a value for placeholder tensor 'gradients/StatefulPartitionedCall_grad/StatefulPartitionedCall_153' with dtype float and shape [128]\n",
      "\t [[{{node gradients/StatefulPartitionedCall_grad/StatefulPartitionedCall_153}}]]\n",
      "2024-12-30 15:10:55.134798: I tensorflow/core/common_runtime/executor.cc:1197] [/device:CPU:0] (DEBUG INFO) Executor start aborting (this does not indicate an error and you can ignore this message): INVALID_ARGUMENT: You must feed a value for placeholder tensor 'gradients/StatefulPartitionedCall_grad/StatefulPartitionedCall_154' with dtype float and shape [?,7,7,128]\n",
      "\t [[{{node gradients/StatefulPartitionedCall_grad/StatefulPartitionedCall_154}}]]\n",
      "2024-12-30 15:10:55.134812: I tensorflow/core/common_runtime/executor.cc:1197] [/device:CPU:0] (DEBUG INFO) Executor start aborting (this does not indicate an error and you can ignore this message): INVALID_ARGUMENT: You must feed a value for placeholder tensor 'gradients/StatefulPartitionedCall_grad/StatefulPartitionedCall_155' with dtype float and shape [128]\n",
      "\t [[{{node gradients/StatefulPartitionedCall_grad/StatefulPartitionedCall_155}}]]\n",
      "2024-12-30 15:10:55.134827: I tensorflow/core/common_runtime/executor.cc:1197] [/device:CPU:0] (DEBUG INFO) Executor start aborting (this does not indicate an error and you can ignore this message): INVALID_ARGUMENT: You must feed a value for placeholder tensor 'gradients/StatefulPartitionedCall_grad/StatefulPartitionedCall_156' with dtype float and shape [1,?,128,1]\n",
      "\t [[{{node gradients/StatefulPartitionedCall_grad/StatefulPartitionedCall_156}}]]\n",
      "2024-12-30 15:10:55.134841: I tensorflow/core/common_runtime/executor.cc:1197] [/device:CPU:0] (DEBUG INFO) Executor start aborting (this does not indicate an error and you can ignore this message): INVALID_ARGUMENT: You must feed a value for placeholder tensor 'gradients/StatefulPartitionedCall_grad/StatefulPartitionedCall_164' with dtype float and shape [?,7,7,128]\n",
      "\t [[{{node gradients/StatefulPartitionedCall_grad/StatefulPartitionedCall_164}}]]\n",
      "2024-12-30 15:10:55.134856: I tensorflow/core/common_runtime/executor.cc:1197] [/device:CPU:0] (DEBUG INFO) Executor start aborting (this does not indicate an error and you can ignore this message): INVALID_ARGUMENT: You must feed a value for placeholder tensor 'gradients/StatefulPartitionedCall_grad/StatefulPartitionedCall_165' with dtype float and shape [?,7,7,128]\n",
      "\t [[{{node gradients/StatefulPartitionedCall_grad/StatefulPartitionedCall_165}}]]\n",
      "2024-12-30 15:10:55.134870: I tensorflow/core/common_runtime/executor.cc:1197] [/device:CPU:0] (DEBUG INFO) Executor start aborting (this does not indicate an error and you can ignore this message): INVALID_ARGUMENT: You must feed a value for placeholder tensor 'gradients/StatefulPartitionedCall_grad/StatefulPartitionedCall_167' with dtype float and shape [?,7,7,128]\n",
      "\t [[{{node gradients/StatefulPartitionedCall_grad/StatefulPartitionedCall_167}}]]\n",
      "2024-12-30 15:10:55.134885: I tensorflow/core/common_runtime/executor.cc:1197] [/device:CPU:0] (DEBUG INFO) Executor start aborting (this does not indicate an error and you can ignore this message): INVALID_ARGUMENT: You must feed a value for placeholder tensor 'gradients/StatefulPartitionedCall_grad/StatefulPartitionedCall_168' with dtype float and shape [128]\n",
      "\t [[{{node gradients/StatefulPartitionedCall_grad/StatefulPartitionedCall_168}}]]\n",
      "2024-12-30 15:10:55.134899: I tensorflow/core/common_runtime/executor.cc:1197] [/device:CPU:0] (DEBUG INFO) Executor start aborting (this does not indicate an error and you can ignore this message): INVALID_ARGUMENT: You must feed a value for placeholder tensor 'gradients/StatefulPartitionedCall_grad/StatefulPartitionedCall_169' with dtype float and shape [?,7,7,128]\n",
      "\t [[{{node gradients/StatefulPartitionedCall_grad/StatefulPartitionedCall_169}}]]\n",
      "2024-12-30 15:10:55.134914: I tensorflow/core/common_runtime/executor.cc:1197] [/device:CPU:0] (DEBUG INFO) Executor start aborting (this does not indicate an error and you can ignore this message): INVALID_ARGUMENT: You must feed a value for placeholder tensor 'gradients/StatefulPartitionedCall_grad/StatefulPartitionedCall_170' with dtype float and shape [128]\n",
      "\t [[{{node gradients/StatefulPartitionedCall_grad/StatefulPartitionedCall_170}}]]\n",
      "2024-12-30 15:10:55.134929: I tensorflow/core/common_runtime/executor.cc:1197] [/device:CPU:0] (DEBUG INFO) Executor start aborting (this does not indicate an error and you can ignore this message): INVALID_ARGUMENT: You must feed a value for placeholder tensor 'gradients/StatefulPartitionedCall_grad/StatefulPartitionedCall_171' with dtype float and shape [1,?,128,1]\n",
      "\t [[{{node gradients/StatefulPartitionedCall_grad/StatefulPartitionedCall_171}}]]\n",
      "2024-12-30 15:10:55.134943: I tensorflow/core/common_runtime/executor.cc:1197] [/device:CPU:0] (DEBUG INFO) Executor start aborting (this does not indicate an error and you can ignore this message): INVALID_ARGUMENT: You must feed a value for placeholder tensor 'gradients/StatefulPartitionedCall_grad/StatefulPartitionedCall_179' with dtype float and shape [?,7,7,128]\n",
      "\t [[{{node gradients/StatefulPartitionedCall_grad/StatefulPartitionedCall_179}}]]\n",
      "2024-12-30 15:10:55.134958: I tensorflow/core/common_runtime/executor.cc:1197] [/device:CPU:0] (DEBUG INFO) Executor start aborting (this does not indicate an error and you can ignore this message): INVALID_ARGUMENT: You must feed a value for placeholder tensor 'gradients/StatefulPartitionedCall_grad/StatefulPartitionedCall_180' with dtype float and shape [?,7,7,128]\n",
      "\t [[{{node gradients/StatefulPartitionedCall_grad/StatefulPartitionedCall_180}}]]\n",
      "2024-12-30 15:10:55.134972: I tensorflow/core/common_runtime/executor.cc:1197] [/device:CPU:0] (DEBUG INFO) Executor start aborting (this does not indicate an error and you can ignore this message): INVALID_ARGUMENT: You must feed a value for placeholder tensor 'gradients/StatefulPartitionedCall_grad/StatefulPartitionedCall_181' with dtype float and shape [?,13,13,64]\n",
      "\t [[{{node gradients/StatefulPartitionedCall_grad/StatefulPartitionedCall_181}}]]\n",
      "2024-12-30 15:10:55.134987: I tensorflow/core/common_runtime/executor.cc:1197] [/device:CPU:0] (DEBUG INFO) Executor start aborting (this does not indicate an error and you can ignore this message): INVALID_ARGUMENT: You must feed a value for placeholder tensor 'gradients/StatefulPartitionedCall_grad/StatefulPartitionedCall_183' with dtype float and shape [?,7,7,128]\n",
      "\t [[{{node gradients/StatefulPartitionedCall_grad/StatefulPartitionedCall_183}}]]\n",
      "2024-12-30 15:10:55.135002: I tensorflow/core/common_runtime/executor.cc:1197] [/device:CPU:0] (DEBUG INFO) Executor start aborting (this does not indicate an error and you can ignore this message): INVALID_ARGUMENT: You must feed a value for placeholder tensor 'gradients/StatefulPartitionedCall_grad/StatefulPartitionedCall_185' with dtype float and shape [?,7,7,128]\n",
      "\t [[{{node gradients/StatefulPartitionedCall_grad/StatefulPartitionedCall_185}}]]\n",
      "2024-12-30 15:10:55.135016: I tensorflow/core/common_runtime/executor.cc:1197] [/device:CPU:0] (DEBUG INFO) Executor start aborting (this does not indicate an error and you can ignore this message): INVALID_ARGUMENT: You must feed a value for placeholder tensor 'gradients/StatefulPartitionedCall_grad/StatefulPartitionedCall_186' with dtype float and shape [128]\n",
      "\t [[{{node gradients/StatefulPartitionedCall_grad/StatefulPartitionedCall_186}}]]\n",
      "2024-12-30 15:10:55.135031: I tensorflow/core/common_runtime/executor.cc:1197] [/device:CPU:0] (DEBUG INFO) Executor start aborting (this does not indicate an error and you can ignore this message): INVALID_ARGUMENT: You must feed a value for placeholder tensor 'gradients/StatefulPartitionedCall_grad/StatefulPartitionedCall_187' with dtype float and shape [?,7,7,128]\n",
      "\t [[{{node gradients/StatefulPartitionedCall_grad/StatefulPartitionedCall_187}}]]\n",
      "2024-12-30 15:10:55.135046: I tensorflow/core/common_runtime/executor.cc:1197] [/device:CPU:0] (DEBUG INFO) Executor start aborting (this does not indicate an error and you can ignore this message): INVALID_ARGUMENT: You must feed a value for placeholder tensor 'gradients/StatefulPartitionedCall_grad/StatefulPartitionedCall_188' with dtype float and shape [128]\n",
      "\t [[{{node gradients/StatefulPartitionedCall_grad/StatefulPartitionedCall_188}}]]\n",
      "2024-12-30 15:10:55.135060: I tensorflow/core/common_runtime/executor.cc:1197] [/device:CPU:0] (DEBUG INFO) Executor start aborting (this does not indicate an error and you can ignore this message): INVALID_ARGUMENT: You must feed a value for placeholder tensor 'gradients/StatefulPartitionedCall_grad/StatefulPartitionedCall_189' with dtype float and shape [1,?,128,1]\n",
      "\t [[{{node gradients/StatefulPartitionedCall_grad/StatefulPartitionedCall_189}}]]\n",
      "2024-12-30 15:10:55.135075: I tensorflow/core/common_runtime/executor.cc:1197] [/device:CPU:0] (DEBUG INFO) Executor start aborting (this does not indicate an error and you can ignore this message): INVALID_ARGUMENT: You must feed a value for placeholder tensor 'gradients/StatefulPartitionedCall_grad/StatefulPartitionedCall_197' with dtype float and shape [?,7,7,128]\n",
      "\t [[{{node gradients/StatefulPartitionedCall_grad/StatefulPartitionedCall_197}}]]\n",
      "2024-12-30 15:10:55.135090: I tensorflow/core/common_runtime/executor.cc:1197] [/device:CPU:0] (DEBUG INFO) Executor start aborting (this does not indicate an error and you can ignore this message): INVALID_ARGUMENT: You must feed a value for placeholder tensor 'gradients/StatefulPartitionedCall_grad/StatefulPartitionedCall_198' with dtype float and shape [?,13,13,64]\n",
      "\t [[{{node gradients/StatefulPartitionedCall_grad/StatefulPartitionedCall_198}}]]\n",
      "2024-12-30 15:10:55.135105: I tensorflow/core/common_runtime/executor.cc:1197] [/device:CPU:0] (DEBUG INFO) Executor start aborting (this does not indicate an error and you can ignore this message): INVALID_ARGUMENT: You must feed a value for placeholder tensor 'gradients/StatefulPartitionedCall_grad/StatefulPartitionedCall_200' with dtype float and shape [?,13,13,64]\n",
      "\t [[{{node gradients/StatefulPartitionedCall_grad/StatefulPartitionedCall_200}}]]\n",
      "2024-12-30 15:10:55.135119: I tensorflow/core/common_runtime/executor.cc:1197] [/device:CPU:0] (DEBUG INFO) Executor start aborting (this does not indicate an error and you can ignore this message): INVALID_ARGUMENT: You must feed a value for placeholder tensor 'gradients/StatefulPartitionedCall_grad/StatefulPartitionedCall_201' with dtype float and shape [64]\n",
      "\t [[{{node gradients/StatefulPartitionedCall_grad/StatefulPartitionedCall_201}}]]\n",
      "2024-12-30 15:10:55.135134: I tensorflow/core/common_runtime/executor.cc:1197] [/device:CPU:0] (DEBUG INFO) Executor start aborting (this does not indicate an error and you can ignore this message): INVALID_ARGUMENT: You must feed a value for placeholder tensor 'gradients/StatefulPartitionedCall_grad/StatefulPartitionedCall_202' with dtype float and shape [?,13,13,64]\n",
      "\t [[{{node gradients/StatefulPartitionedCall_grad/StatefulPartitionedCall_202}}]]\n",
      "2024-12-30 15:10:55.135148: I tensorflow/core/common_runtime/executor.cc:1197] [/device:CPU:0] (DEBUG INFO) Executor start aborting (this does not indicate an error and you can ignore this message): INVALID_ARGUMENT: You must feed a value for placeholder tensor 'gradients/StatefulPartitionedCall_grad/StatefulPartitionedCall_203' with dtype float and shape [64]\n",
      "\t [[{{node gradients/StatefulPartitionedCall_grad/StatefulPartitionedCall_203}}]]\n",
      "2024-12-30 15:10:55.135163: I tensorflow/core/common_runtime/executor.cc:1197] [/device:CPU:0] (DEBUG INFO) Executor start aborting (this does not indicate an error and you can ignore this message): INVALID_ARGUMENT: You must feed a value for placeholder tensor 'gradients/StatefulPartitionedCall_grad/StatefulPartitionedCall_204' with dtype float and shape [1,?,64,1]\n",
      "\t [[{{node gradients/StatefulPartitionedCall_grad/StatefulPartitionedCall_204}}]]\n",
      "2024-12-30 15:10:55.135177: I tensorflow/core/common_runtime/executor.cc:1197] [/device:CPU:0] (DEBUG INFO) Executor start aborting (this does not indicate an error and you can ignore this message): INVALID_ARGUMENT: You must feed a value for placeholder tensor 'gradients/StatefulPartitionedCall_grad/StatefulPartitionedCall_212' with dtype float and shape [?,13,13,64]\n",
      "\t [[{{node gradients/StatefulPartitionedCall_grad/StatefulPartitionedCall_212}}]]\n",
      "2024-12-30 15:10:55.135192: I tensorflow/core/common_runtime/executor.cc:1197] [/device:CPU:0] (DEBUG INFO) Executor start aborting (this does not indicate an error and you can ignore this message): INVALID_ARGUMENT: You must feed a value for placeholder tensor 'gradients/StatefulPartitionedCall_grad/StatefulPartitionedCall_213' with dtype float and shape [?,13,13,64]\n",
      "\t [[{{node gradients/StatefulPartitionedCall_grad/StatefulPartitionedCall_213}}]]\n",
      "2024-12-30 15:10:55.135207: I tensorflow/core/common_runtime/executor.cc:1197] [/device:CPU:0] (DEBUG INFO) Executor start aborting (this does not indicate an error and you can ignore this message): INVALID_ARGUMENT: You must feed a value for placeholder tensor 'gradients/StatefulPartitionedCall_grad/StatefulPartitionedCall_214' with dtype float and shape [?,13,13,64]\n",
      "\t [[{{node gradients/StatefulPartitionedCall_grad/StatefulPartitionedCall_214}}]]\n",
      "2024-12-30 15:10:55.135221: I tensorflow/core/common_runtime/executor.cc:1197] [/device:CPU:0] (DEBUG INFO) Executor start aborting (this does not indicate an error and you can ignore this message): INVALID_ARGUMENT: You must feed a value for placeholder tensor 'gradients/StatefulPartitionedCall_grad/StatefulPartitionedCall_216' with dtype float and shape [?,13,13,64]\n",
      "\t [[{{node gradients/StatefulPartitionedCall_grad/StatefulPartitionedCall_216}}]]\n",
      "2024-12-30 15:10:55.135236: I tensorflow/core/common_runtime/executor.cc:1197] [/device:CPU:0] (DEBUG INFO) Executor start aborting (this does not indicate an error and you can ignore this message): INVALID_ARGUMENT: You must feed a value for placeholder tensor 'gradients/StatefulPartitionedCall_grad/StatefulPartitionedCall_217' with dtype float and shape [64]\n",
      "\t [[{{node gradients/StatefulPartitionedCall_grad/StatefulPartitionedCall_217}}]]\n",
      "2024-12-30 15:10:55.135251: I tensorflow/core/common_runtime/executor.cc:1197] [/device:CPU:0] (DEBUG INFO) Executor start aborting (this does not indicate an error and you can ignore this message): INVALID_ARGUMENT: You must feed a value for placeholder tensor 'gradients/StatefulPartitionedCall_grad/StatefulPartitionedCall_218' with dtype float and shape [?,13,13,64]\n",
      "\t [[{{node gradients/StatefulPartitionedCall_grad/StatefulPartitionedCall_218}}]]\n",
      "2024-12-30 15:10:55.135266: I tensorflow/core/common_runtime/executor.cc:1197] [/device:CPU:0] (DEBUG INFO) Executor start aborting (this does not indicate an error and you can ignore this message): INVALID_ARGUMENT: You must feed a value for placeholder tensor 'gradients/StatefulPartitionedCall_grad/StatefulPartitionedCall_219' with dtype float and shape [64]\n",
      "\t [[{{node gradients/StatefulPartitionedCall_grad/StatefulPartitionedCall_219}}]]\n",
      "2024-12-30 15:10:55.135281: I tensorflow/core/common_runtime/executor.cc:1197] [/device:CPU:0] (DEBUG INFO) Executor start aborting (this does not indicate an error and you can ignore this message): INVALID_ARGUMENT: You must feed a value for placeholder tensor 'gradients/StatefulPartitionedCall_grad/StatefulPartitionedCall_220' with dtype float and shape [1,?,64,1]\n",
      "\t [[{{node gradients/StatefulPartitionedCall_grad/StatefulPartitionedCall_220}}]]\n",
      "2024-12-30 15:10:55.135295: I tensorflow/core/common_runtime/executor.cc:1197] [/device:CPU:0] (DEBUG INFO) Executor start aborting (this does not indicate an error and you can ignore this message): INVALID_ARGUMENT: You must feed a value for placeholder tensor 'gradients/StatefulPartitionedCall_grad/StatefulPartitionedCall_228' with dtype float and shape [?,13,13,64]\n",
      "\t [[{{node gradients/StatefulPartitionedCall_grad/StatefulPartitionedCall_228}}]]\n",
      "2024-12-30 15:10:55.135310: I tensorflow/core/common_runtime/executor.cc:1197] [/device:CPU:0] (DEBUG INFO) Executor start aborting (this does not indicate an error and you can ignore this message): INVALID_ARGUMENT: You must feed a value for placeholder tensor 'gradients/StatefulPartitionedCall_grad/StatefulPartitionedCall_229' with dtype float and shape [?,13,13,64]\n",
      "\t [[{{node gradients/StatefulPartitionedCall_grad/StatefulPartitionedCall_229}}]]\n",
      "2024-12-30 15:10:55.135325: I tensorflow/core/common_runtime/executor.cc:1197] [/device:CPU:0] (DEBUG INFO) Executor start aborting (this does not indicate an error and you can ignore this message): INVALID_ARGUMENT: You must feed a value for placeholder tensor 'gradients/StatefulPartitionedCall_grad/StatefulPartitionedCall_231' with dtype float and shape [?,13,13,64]\n",
      "\t [[{{node gradients/StatefulPartitionedCall_grad/StatefulPartitionedCall_231}}]]\n",
      "2024-12-30 15:10:55.135340: I tensorflow/core/common_runtime/executor.cc:1197] [/device:CPU:0] (DEBUG INFO) Executor start aborting (this does not indicate an error and you can ignore this message): INVALID_ARGUMENT: You must feed a value for placeholder tensor 'gradients/StatefulPartitionedCall_grad/StatefulPartitionedCall_232' with dtype float and shape [64]\n",
      "\t [[{{node gradients/StatefulPartitionedCall_grad/StatefulPartitionedCall_232}}]]\n",
      "2024-12-30 15:10:55.135354: I tensorflow/core/common_runtime/executor.cc:1197] [/device:CPU:0] (DEBUG INFO) Executor start aborting (this does not indicate an error and you can ignore this message): INVALID_ARGUMENT: You must feed a value for placeholder tensor 'gradients/StatefulPartitionedCall_grad/StatefulPartitionedCall_233' with dtype float and shape [?,13,13,64]\n",
      "\t [[{{node gradients/StatefulPartitionedCall_grad/StatefulPartitionedCall_233}}]]\n",
      "2024-12-30 15:10:55.135369: I tensorflow/core/common_runtime/executor.cc:1197] [/device:CPU:0] (DEBUG INFO) Executor start aborting (this does not indicate an error and you can ignore this message): INVALID_ARGUMENT: You must feed a value for placeholder tensor 'gradients/StatefulPartitionedCall_grad/StatefulPartitionedCall_234' with dtype float and shape [64]\n",
      "\t [[{{node gradients/StatefulPartitionedCall_grad/StatefulPartitionedCall_234}}]]\n",
      "2024-12-30 15:10:55.135384: I tensorflow/core/common_runtime/executor.cc:1197] [/device:CPU:0] (DEBUG INFO) Executor start aborting (this does not indicate an error and you can ignore this message): INVALID_ARGUMENT: You must feed a value for placeholder tensor 'gradients/StatefulPartitionedCall_grad/StatefulPartitionedCall_235' with dtype float and shape [1,?,64,1]\n",
      "\t [[{{node gradients/StatefulPartitionedCall_grad/StatefulPartitionedCall_235}}]]\n",
      "2024-12-30 15:10:55.135399: I tensorflow/core/common_runtime/executor.cc:1197] [/device:CPU:0] (DEBUG INFO) Executor start aborting (this does not indicate an error and you can ignore this message): INVALID_ARGUMENT: You must feed a value for placeholder tensor 'gradients/StatefulPartitionedCall_grad/StatefulPartitionedCall_243' with dtype float and shape [?,13,13,64]\n",
      "\t [[{{node gradients/StatefulPartitionedCall_grad/StatefulPartitionedCall_243}}]]\n",
      "2024-12-30 15:10:55.135413: I tensorflow/core/common_runtime/executor.cc:1197] [/device:CPU:0] (DEBUG INFO) Executor start aborting (this does not indicate an error and you can ignore this message): INVALID_ARGUMENT: You must feed a value for placeholder tensor 'gradients/StatefulPartitionedCall_grad/StatefulPartitionedCall_244' with dtype float and shape [?,13,13,64]\n",
      "\t [[{{node gradients/StatefulPartitionedCall_grad/StatefulPartitionedCall_244}}]]\n",
      "2024-12-30 15:10:55.135428: I tensorflow/core/common_runtime/executor.cc:1197] [/device:CPU:0] (DEBUG INFO) Executor start aborting (this does not indicate an error and you can ignore this message): INVALID_ARGUMENT: You must feed a value for placeholder tensor 'gradients/StatefulPartitionedCall_grad/StatefulPartitionedCall_245' with dtype float and shape [?,13,13,64]\n",
      "\t [[{{node gradients/StatefulPartitionedCall_grad/StatefulPartitionedCall_245}}]]\n",
      "2024-12-30 15:10:55.135443: I tensorflow/core/common_runtime/executor.cc:1197] [/device:CPU:0] (DEBUG INFO) Executor start aborting (this does not indicate an error and you can ignore this message): INVALID_ARGUMENT: You must feed a value for placeholder tensor 'gradients/StatefulPartitionedCall_grad/StatefulPartitionedCall_247' with dtype float and shape [?,13,13,64]\n",
      "\t [[{{node gradients/StatefulPartitionedCall_grad/StatefulPartitionedCall_247}}]]\n",
      "2024-12-30 15:10:55.135458: I tensorflow/core/common_runtime/executor.cc:1197] [/device:CPU:0] (DEBUG INFO) Executor start aborting (this does not indicate an error and you can ignore this message): INVALID_ARGUMENT: You must feed a value for placeholder tensor 'gradients/StatefulPartitionedCall_grad/StatefulPartitionedCall_248' with dtype float and shape [64]\n",
      "\t [[{{node gradients/StatefulPartitionedCall_grad/StatefulPartitionedCall_248}}]]\n",
      "2024-12-30 15:10:55.135472: I tensorflow/core/common_runtime/executor.cc:1197] [/device:CPU:0] (DEBUG INFO) Executor start aborting (this does not indicate an error and you can ignore this message): INVALID_ARGUMENT: You must feed a value for placeholder tensor 'gradients/StatefulPartitionedCall_grad/StatefulPartitionedCall_249' with dtype float and shape [?,13,13,64]\n",
      "\t [[{{node gradients/StatefulPartitionedCall_grad/StatefulPartitionedCall_249}}]]\n",
      "2024-12-30 15:10:55.135487: I tensorflow/core/common_runtime/executor.cc:1197] [/device:CPU:0] (DEBUG INFO) Executor start aborting (this does not indicate an error and you can ignore this message): INVALID_ARGUMENT: You must feed a value for placeholder tensor 'gradients/StatefulPartitionedCall_grad/StatefulPartitionedCall_250' with dtype float and shape [64]\n",
      "\t [[{{node gradients/StatefulPartitionedCall_grad/StatefulPartitionedCall_250}}]]\n",
      "2024-12-30 15:10:55.135502: I tensorflow/core/common_runtime/executor.cc:1197] [/device:CPU:0] (DEBUG INFO) Executor start aborting (this does not indicate an error and you can ignore this message): INVALID_ARGUMENT: You must feed a value for placeholder tensor 'gradients/StatefulPartitionedCall_grad/StatefulPartitionedCall_251' with dtype float and shape [1,?,64,1]\n",
      "\t [[{{node gradients/StatefulPartitionedCall_grad/StatefulPartitionedCall_251}}]]\n",
      "2024-12-30 15:10:55.135517: I tensorflow/core/common_runtime/executor.cc:1197] [/device:CPU:0] (DEBUG INFO) Executor start aborting (this does not indicate an error and you can ignore this message): INVALID_ARGUMENT: You must feed a value for placeholder tensor 'gradients/StatefulPartitionedCall_grad/StatefulPartitionedCall_259' with dtype float and shape [?,13,13,64]\n",
      "\t [[{{node gradients/StatefulPartitionedCall_grad/StatefulPartitionedCall_259}}]]\n",
      "2024-12-30 15:10:55.135532: I tensorflow/core/common_runtime/executor.cc:1197] [/device:CPU:0] (DEBUG INFO) Executor start aborting (this does not indicate an error and you can ignore this message): INVALID_ARGUMENT: You must feed a value for placeholder tensor 'gradients/StatefulPartitionedCall_grad/StatefulPartitionedCall_262' with dtype float and shape [?,25,25,64]\n",
      "\t [[{{node gradients/StatefulPartitionedCall_grad/StatefulPartitionedCall_262}}]]\n",
      "2024-12-30 15:10:55.135546: I tensorflow/core/common_runtime/executor.cc:1197] [/device:CPU:0] (DEBUG INFO) Executor start aborting (this does not indicate an error and you can ignore this message): INVALID_ARGUMENT: You must feed a value for placeholder tensor 'gradients/StatefulPartitionedCall_grad/StatefulPartitionedCall_263' with dtype float and shape [64]\n",
      "\t [[{{node gradients/StatefulPartitionedCall_grad/StatefulPartitionedCall_263}}]]\n",
      "2024-12-30 15:10:55.135561: I tensorflow/core/common_runtime/executor.cc:1197] [/device:CPU:0] (DEBUG INFO) Executor start aborting (this does not indicate an error and you can ignore this message): INVALID_ARGUMENT: You must feed a value for placeholder tensor 'gradients/StatefulPartitionedCall_grad/StatefulPartitionedCall_264' with dtype float and shape [?,25,25,64]\n",
      "\t [[{{node gradients/StatefulPartitionedCall_grad/StatefulPartitionedCall_264}}]]\n",
      "2024-12-30 15:10:55.135576: I tensorflow/core/common_runtime/executor.cc:1197] [/device:CPU:0] (DEBUG INFO) Executor start aborting (this does not indicate an error and you can ignore this message): INVALID_ARGUMENT: You must feed a value for placeholder tensor 'gradients/StatefulPartitionedCall_grad/StatefulPartitionedCall_265' with dtype float and shape [64]\n",
      "\t [[{{node gradients/StatefulPartitionedCall_grad/StatefulPartitionedCall_265}}]]\n",
      "2024-12-30 15:10:55.135591: I tensorflow/core/common_runtime/executor.cc:1197] [/device:CPU:0] (DEBUG INFO) Executor start aborting (this does not indicate an error and you can ignore this message): INVALID_ARGUMENT: You must feed a value for placeholder tensor 'gradients/StatefulPartitionedCall_grad/StatefulPartitionedCall_266' with dtype float and shape [1,?,64,1]\n",
      "\t [[{{node gradients/StatefulPartitionedCall_grad/StatefulPartitionedCall_266}}]]\n",
      "2024-12-30 15:10:55.135606: I tensorflow/core/common_runtime/executor.cc:1197] [/device:CPU:0] (DEBUG INFO) Executor start aborting (this does not indicate an error and you can ignore this message): INVALID_ARGUMENT: You must feed a value for placeholder tensor 'gradients/StatefulPartitionedCall_grad/StatefulPartitionedCall_274' with dtype float and shape [?,25,25,64]\n",
      "\t [[{{node gradients/StatefulPartitionedCall_grad/StatefulPartitionedCall_274}}]]\n",
      "2024-12-30 15:10:55.135621: I tensorflow/core/common_runtime/executor.cc:1197] [/device:CPU:0] (DEBUG INFO) Executor start aborting (this does not indicate an error and you can ignore this message): INVALID_ARGUMENT: You must feed a value for placeholder tensor 'gradients/StatefulPartitionedCall_grad/StatefulPartitionedCall_275' with dtype float and shape [?,50,50,3]\n",
      "\t [[{{node gradients/StatefulPartitionedCall_grad/StatefulPartitionedCall_275}}]]\n"
     ]
    }
   ],
   "source": [
    "@tff.tf_computation(tf_dataset_type_h1, model_weights_type_h1)\n",
    "def client_update_fn_h1(tf_dataset, server_weights):\n",
    "  model = model_fn_h1()\n",
    "  client_optimizer = tf.keras.optimizers.SGD(learning_rate=0.01)\n",
    "  return client_update_h1(model, tf_dataset, server_weights, client_optimizer)"
   ]
  },
  {
   "cell_type": "code",
   "execution_count": 36,
   "metadata": {
    "executionInfo": {
     "elapsed": 7,
     "status": "aborted",
     "timestamp": 1695310229228,
     "user": {
      "displayName": "Harrison Field",
      "userId": "02417387657116967688"
     },
     "user_tz": -60
    },
    "id": "lCEAv4MMwY4y"
   },
   "outputs": [],
   "source": [
    "@tff.tf_computation(model_weights_type_h1)\n",
    "def server_update_fn_h1(mean_client_weights):\n",
    "  model = model_fn_h1()\n",
    "  return server_update_h1(model, mean_client_weights)"
   ]
  },
  {
   "cell_type": "code",
   "execution_count": 37,
   "metadata": {
    "executionInfo": {
     "elapsed": 7,
     "status": "aborted",
     "timestamp": 1695310229228,
     "user": {
      "displayName": "Harrison Field",
      "userId": "02417387657116967688"
     },
     "user_tz": -60
    },
    "id": "AS4EpHW4wY4y"
   },
   "outputs": [],
   "source": [
    "federated_server_type_h1 = tff.FederatedType(model_weights_type_h1, tff.SERVER)\n",
    "federated_dataset_type_h1 = tff.FederatedType(tf_dataset_type_h1, tff.CLIENTS)"
   ]
  },
  {
   "cell_type": "code",
   "execution_count": 38,
   "metadata": {
    "executionInfo": {
     "elapsed": 7,
     "status": "aborted",
     "timestamp": 1695310229228,
     "user": {
      "displayName": "Harrison Field",
      "userId": "02417387657116967688"
     },
     "user_tz": -60
    },
    "id": "sxMe8Eg0wY49"
   },
   "outputs": [],
   "source": [
    "@tff.federated_computation(federated_server_type_h1, federated_dataset_type_h1)\n",
    "def next_fn_h1(server_weights, federated_dataset):\n",
    "  # Broadcast the server weights to the clients.\n",
    "  server_weights_at_client = tff.federated_broadcast(server_weights)\n",
    "\n",
    "  # Each client computes their updated weights.\n",
    "  client_weights = tff.federated_map(\n",
    "      client_update_fn_h1, (federated_dataset, server_weights_at_client))\n",
    "\n",
    "  # The server averages these updates.\n",
    "  mean_client_weights = tff.federated_mean(client_weights)\n",
    "\n",
    "  # The server updates its model.\n",
    "  server_weights = tff.federated_map(server_update_fn_h1, mean_client_weights)\n",
    "\n",
    "\n",
    "  return server_weights"
   ]
  },
  {
   "cell_type": "code",
   "execution_count": 39,
   "metadata": {
    "executionInfo": {
     "elapsed": 7,
     "status": "aborted",
     "timestamp": 1695310229228,
     "user": {
      "displayName": "Harrison Field",
      "userId": "02417387657116967688"
     },
     "user_tz": -60
    },
    "id": "BPb71DfAwY4-"
   },
   "outputs": [],
   "source": [
    "federated_algorithm_h1 = tff.templates.IterativeProcess(\n",
    "    initialize_fn=initialize_fn_h1,\n",
    "    next_fn=next_fn_h1\n",
    ")"
   ]
  },
  {
   "cell_type": "markdown",
   "metadata": {
    "id": "BCZHhE6gwY4-"
   },
   "source": [
    "## Model Evaluation"
   ]
  },
  {
   "cell_type": "markdown",
   "metadata": {
    "id": "LqN_PxJowY4_"
   },
   "source": [
    "### Creating test set"
   ]
  },
  {
   "cell_type": "code",
   "execution_count": 40,
   "metadata": {
    "executionInfo": {
     "elapsed": 7,
     "status": "aborted",
     "timestamp": 1695310229228,
     "user": {
      "displayName": "Harrison Field",
      "userId": "02417387657116967688"
     },
     "user_tz": -60
    },
    "id": "F1t8y1yKwY4_"
   },
   "outputs": [],
   "source": [
    "def create_test_set(federated_test_set, num_classes):\n",
    "  # Create a list to store client datasets\n",
    "  client_datasets = []\n",
    "\n",
    "  # Iterate over client IDs and create datasets\n",
    "  for client_id in sorted(federated_test_set.client_ids)[:NUM_CLIENTS]:\n",
    "      client_dataset = federated_test_set.create_tf_dataset_for_client(client_id)\n",
    "      client_datasets.append(client_dataset)\n",
    "\n",
    "  # Combine the client datasets into a centralized dataset\n",
    "  test_set = tf.data.experimental.sample_from_datasets(client_datasets)\n",
    "  test_set = preprocess(test_set, num_classes)\n",
    "  return test_set"
   ]
  },
  {
   "cell_type": "code",
   "execution_count": 41,
   "metadata": {
    "executionInfo": {
     "elapsed": 92972,
     "status": "aborted",
     "timestamp": 1695310229228,
     "user": {
      "displayName": "Harrison Field",
      "userId": "02417387657116967688"
     },
     "user_tz": -60
    },
    "id": "ldxUgObPwY5A"
   },
   "outputs": [
    {
     "name": "stdout",
     "output_type": "stream",
     "text": [
      "WARNING:tensorflow:From /tmp/ipykernel_4156043/973998083.py:11: sample_from_datasets_v2 (from tensorflow.python.data.experimental.ops.interleave_ops) is deprecated and will be removed in a future version.\n",
      "Instructions for updating:\n",
      "Use `tf.data.Dataset.sample_from_datasets(...)`.\n"
     ]
    },
    {
     "name": "stderr",
     "output_type": "stream",
     "text": [
      "WARNING:tensorflow:From /tmp/ipykernel_4156043/973998083.py:11: sample_from_datasets_v2 (from tensorflow.python.data.experimental.ops.interleave_ops) is deprecated and will be removed in a future version.\n",
      "Instructions for updating:\n",
      "Use `tf.data.Dataset.sample_from_datasets(...)`.\n"
     ]
    }
   ],
   "source": [
    "phase_test_central = create_test_set(phase_test_federated_data, PHASE_CLASSES)\n",
    "phase_train_central = create_test_set(phase_train_federated_data, PHASE_CLASSES)"
   ]
  },
  {
   "cell_type": "markdown",
   "metadata": {
    "id": "-1QxPIfDwY5B"
   },
   "source": [
    "### Evaluation"
   ]
  },
  {
   "cell_type": "markdown",
   "metadata": {
    "id": "YsoF-fa_FJjc"
   },
   "source": [
    "We conduct an initial evaluation to ensure the previous steps have been successful."
   ]
  },
  {
   "cell_type": "code",
   "execution_count": 42,
   "metadata": {
    "executionInfo": {
     "elapsed": 92972,
     "status": "aborted",
     "timestamp": 1695310229229,
     "user": {
      "displayName": "Harrison Field",
      "userId": "02417387657116967688"
     },
     "user_tz": -60
    },
    "id": "b2DU4chb0BJ8"
   },
   "outputs": [],
   "source": [
    "# Model compile instructions taken from Supervisor's code\n",
    "def evaluate_h1(server_state):\n",
    "  model = build_h1_model()\n",
    "  model.compile(\n",
    "      loss='categorical_crossentropy',\n",
    "      optimizer='adam',\n",
    "      metrics=['accuracy']\n",
    "  )\n",
    "  model.set_weights(server_state)\n",
    "  model.evaluate(phase_test_central)"
   ]
  },
  {
   "cell_type": "code",
   "execution_count": 43,
   "metadata": {
    "executionInfo": {
     "elapsed": 92972,
     "status": "aborted",
     "timestamp": 1695310229229,
     "user": {
      "displayName": "Harrison Field",
      "userId": "02417387657116967688"
     },
     "user_tz": -60
    },
    "id": "sKW3LP3BwY5B"
   },
   "outputs": [
    {
     "name": "stderr",
     "output_type": "stream",
     "text": [
      "2024-12-30 15:10:56.080657: I tensorflow/compiler/xla/stream_executor/cuda/cuda_gpu_executor.cc:996] successful NUMA node read from SysFS had negative value (-1), but there must be at least one NUMA node, so returning NUMA node zero. See more at https://github.com/torvalds/linux/blob/v6.0/Documentation/ABI/testing/sysfs-bus-pci#L344-L355\n",
      "2024-12-30 15:10:56.098063: I tensorflow/core/grappler/devices.cc:66] Number of eligible GPUs (core count >= 8, compute capability >= 0.0): 1\n",
      "2024-12-30 15:10:56.098168: I tensorflow/core/grappler/clusters/single_machine.cc:358] Starting new session\n",
      "2024-12-30 15:10:56.098506: I tensorflow/compiler/xla/stream_executor/cuda/cuda_gpu_executor.cc:996] successful NUMA node read from SysFS had negative value (-1), but there must be at least one NUMA node, so returning NUMA node zero. See more at https://github.com/torvalds/linux/blob/v6.0/Documentation/ABI/testing/sysfs-bus-pci#L344-L355\n",
      "2024-12-30 15:10:56.098556: W tensorflow/core/common_runtime/gpu/gpu_device.cc:1956] Cannot dlopen some GPU libraries. Please make sure the missing libraries mentioned above are installed properly if you would like to use GPU. Follow the guide at https://www.tensorflow.org/install/gpu for how to download and setup the required libraries for your platform.\n",
      "Skipping registering GPU devices...\n"
     ]
    }
   ],
   "source": [
    "server_state_h1 = federated_algorithm_h1.initialize()\n",
    "# evaluate_h1(server_state_h1)"
   ]
  },
  {
   "cell_type": "markdown",
   "metadata": {
    "id": "nR31mZfawY5C"
   },
   "source": [
    "## Build Eval Models (TFF glitch)"
   ]
  },
  {
   "cell_type": "markdown",
   "metadata": {
    "id": "OPQXyvrlFRp6"
   },
   "source": [
    "Due to the way tensorflow federated works, we will not be able to create new models once the training has begun. For this reason, we create the evaluaiton model before the training. This also allows us to track the performance of the model through training."
   ]
  },
  {
   "cell_type": "code",
   "execution_count": 44,
   "metadata": {
    "executionInfo": {
     "elapsed": 92971,
     "status": "aborted",
     "timestamp": 1695310229229,
     "user": {
      "displayName": "Harrison Field",
      "userId": "02417387657116967688"
     },
     "user_tz": -60
    },
    "id": "WhsnKEKBwY5C"
   },
   "outputs": [],
   "source": [
    "h1_eval = build_h1_model()\n",
    "h1_eval.compile(\n",
    "      loss='categorical_crossentropy',\n",
    "      optimizer='adam',\n",
    "      metrics=['accuracy']\n",
    "  )"
   ]
  },
  {
   "cell_type": "markdown",
   "metadata": {
    "id": "sWsWZXM0BSRL"
   },
   "source": [
    "## Time Logging for training"
   ]
  },
  {
   "cell_type": "code",
   "execution_count": 45,
   "metadata": {
    "executionInfo": {
     "elapsed": 92971,
     "status": "aborted",
     "timestamp": 1695310229229,
     "user": {
      "displayName": "Harrison Field",
      "userId": "02417387657116967688"
     },
     "user_tz": -60
    },
    "id": "vx04jvTYBWoc"
   },
   "outputs": [],
   "source": [
    "def format_time(seconds):\n",
    "    hours, remainder = divmod(seconds, 3600)\n",
    "    minutes, seconds = divmod(remainder, 60)\n",
    "    return \"{:02d}:{:02d}:{:02d}\".format(int(hours), int(minutes), int(seconds))\n",
    "\n",
    "def calculate_time(round, start_time, times_taken, total_rounds):\n",
    "    # Record the end time for the current round\n",
    "    end_time = time.time()\n",
    "    # Calculate the time taken for the current round\n",
    "    time_taken = end_time - start_time\n",
    "    # Append the time taken to the list of times\n",
    "    times_taken.append(time_taken)\n",
    "\n",
    "    # Calculate the average time taken for the previous rounds\n",
    "    avg_time_taken = sum(times_taken) / len(times_taken)\n",
    "    # Calculate the estimated remaining time for the remaining rounds\n",
    "    remaining_rounds = total_rounds - (round + 1)\n",
    "    estimated_remaining_time = remaining_rounds * avg_time_taken\n",
    "\n",
    "    # Display the time taken for the current round and the estimated remaining time\n",
    "    print('Time taken for round {:2d}: {}'.format(round, format_time(time_taken)))\n",
    "    print('Estimated remaining time: {}'.format(format_time(estimated_remaining_time)))\n",
    "    print('')"
   ]
  },
  {
   "cell_type": "markdown",
   "metadata": {
    "id": "V7TVwCdAwY5D"
   },
   "source": [
    "## Model Training"
   ]
  },
  {
   "cell_type": "markdown",
   "metadata": {
    "id": "orlzdHqxkgL_"
   },
   "source": [
    "### Early stopping check"
   ]
  },
  {
   "cell_type": "code",
   "execution_count": 46,
   "metadata": {
    "executionInfo": {
     "elapsed": 92970,
     "status": "aborted",
     "timestamp": 1695310229229,
     "user": {
      "displayName": "Harrison Field",
      "userId": "02417387657116967688"
     },
     "user_tz": -60
    },
    "id": "K27fTLC8kf2p"
   },
   "outputs": [],
   "source": [
    "def early_stop_check(accuracy, best_accuracy, epochs_without_improvement):\n",
    "  improvement = accuracy - best_accuracy\n",
    "  if improvement > MIN_IMPROVEMENT:\n",
    "      best_accuracy = accuracy\n",
    "      epochs_without_improvement = 0\n",
    "  else:\n",
    "      epochs_without_improvement += 1\n",
    "  # Stop training if no improvement for PATIENCE epochs\n",
    "  if epochs_without_improvement >= PATIENCE:\n",
    "      print(\"Early stopping: No improvement of at least {} for {} epochs.\".format(MIN_IMPROVEMENT, PATIENCE))\n",
    "      return True\n",
    "  return False"
   ]
  },
  {
   "cell_type": "markdown",
   "metadata": {
    "id": "q6xTLwfNkj-G"
   },
   "source": [
    "### Training Loop"
   ]
  },
  {
   "cell_type": "code",
   "execution_count": 47,
   "metadata": {
    "executionInfo": {
     "elapsed": 92970,
     "status": "aborted",
     "timestamp": 1695310229230,
     "user": {
      "displayName": "Harrison Field",
      "userId": "02417387657116967688"
     },
     "user_tz": -60
    },
    "id": "HsXxMGWvwY5D"
   },
   "outputs": [
    {
     "name": "stderr",
     "output_type": "stream",
     "text": [
      "2024-12-30 15:10:59.224763: I tensorflow/compiler/xla/stream_executor/cuda/cuda_gpu_executor.cc:996] successful NUMA node read from SysFS had negative value (-1), but there must be at least one NUMA node, so returning NUMA node zero. See more at https://github.com/torvalds/linux/blob/v6.0/Documentation/ABI/testing/sysfs-bus-pci#L344-L355\n",
      "2024-12-30 15:10:59.224867: I tensorflow/core/grappler/devices.cc:66] Number of eligible GPUs (core count >= 8, compute capability >= 0.0): 1\n",
      "2024-12-30 15:10:59.224934: I tensorflow/core/grappler/clusters/single_machine.cc:358] Starting new session\n",
      "2024-12-30 15:10:59.225190: I tensorflow/compiler/xla/stream_executor/cuda/cuda_gpu_executor.cc:996] successful NUMA node read from SysFS had negative value (-1), but there must be at least one NUMA node, so returning NUMA node zero. See more at https://github.com/torvalds/linux/blob/v6.0/Documentation/ABI/testing/sysfs-bus-pci#L344-L355\n",
      "2024-12-30 15:10:59.225236: W tensorflow/core/common_runtime/gpu/gpu_device.cc:1956] Cannot dlopen some GPU libraries. Please make sure the missing libraries mentioned above are installed properly if you would like to use GPU. Follow the guide at https://www.tensorflow.org/install/gpu for how to download and setup the required libraries for your platform.\n",
      "Skipping registering GPU devices...\n",
      "2024-12-30 15:10:59.580482: I tensorflow/compiler/xla/stream_executor/cuda/cuda_gpu_executor.cc:996] successful NUMA node read from SysFS had negative value (-1), but there must be at least one NUMA node, so returning NUMA node zero. See more at https://github.com/torvalds/linux/blob/v6.0/Documentation/ABI/testing/sysfs-bus-pci#L344-L355\n",
      "2024-12-30 15:10:59.580575: I tensorflow/core/grappler/devices.cc:66] Number of eligible GPUs (core count >= 8, compute capability >= 0.0): 1\n",
      "2024-12-30 15:10:59.580622: I tensorflow/core/grappler/clusters/single_machine.cc:358] Starting new session\n",
      "2024-12-30 15:10:59.580915: I tensorflow/compiler/xla/stream_executor/cuda/cuda_gpu_executor.cc:996] successful NUMA node read from SysFS had negative value (-1), but there must be at least one NUMA node, so returning NUMA node zero. See more at https://github.com/torvalds/linux/blob/v6.0/Documentation/ABI/testing/sysfs-bus-pci#L344-L355\n",
      "2024-12-30 15:10:59.580972: W tensorflow/core/common_runtime/gpu/gpu_device.cc:1956] Cannot dlopen some GPU libraries. Please make sure the missing libraries mentioned above are installed properly if you would like to use GPU. Follow the guide at https://www.tensorflow.org/install/gpu for how to download and setup the required libraries for your platform.\n",
      "Skipping registering GPU devices...\n",
      "2024-12-30 15:10:59.620526: I tensorflow/compiler/xla/stream_executor/cuda/cuda_gpu_executor.cc:996] successful NUMA node read from SysFS had negative value (-1), but there must be at least one NUMA node, so returning NUMA node zero. See more at https://github.com/torvalds/linux/blob/v6.0/Documentation/ABI/testing/sysfs-bus-pci#L344-L355\n",
      "2024-12-30 15:10:59.620615: I tensorflow/core/grappler/devices.cc:66] Number of eligible GPUs (core count >= 8, compute capability >= 0.0): 1\n",
      "2024-12-30 15:10:59.620652: I tensorflow/core/grappler/clusters/single_machine.cc:358] Starting new session\n",
      "2024-12-30 15:10:59.620878: I tensorflow/compiler/xla/stream_executor/cuda/cuda_gpu_executor.cc:996] successful NUMA node read from SysFS had negative value (-1), but there must be at least one NUMA node, so returning NUMA node zero. See more at https://github.com/torvalds/linux/blob/v6.0/Documentation/ABI/testing/sysfs-bus-pci#L344-L355\n",
      "2024-12-30 15:10:59.620925: W tensorflow/core/common_runtime/gpu/gpu_device.cc:1956] Cannot dlopen some GPU libraries. Please make sure the missing libraries mentioned above are installed properly if you would like to use GPU. Follow the guide at https://www.tensorflow.org/install/gpu for how to download and setup the required libraries for your platform.\n",
      "Skipping registering GPU devices...\n",
      "2024-12-30 15:10:59.693984: I tensorflow/compiler/xla/stream_executor/cuda/cuda_gpu_executor.cc:996] successful NUMA node read from SysFS had negative value (-1), but there must be at least one NUMA node, so returning NUMA node zero. See more at https://github.com/torvalds/linux/blob/v6.0/Documentation/ABI/testing/sysfs-bus-pci#L344-L355\n",
      "2024-12-30 15:10:59.694086: I tensorflow/core/grappler/devices.cc:66] Number of eligible GPUs (core count >= 8, compute capability >= 0.0): 1\n",
      "2024-12-30 15:10:59.694121: I tensorflow/core/grappler/clusters/single_machine.cc:358] Starting new session\n",
      "2024-12-30 15:10:59.694280: I tensorflow/compiler/xla/stream_executor/cuda/cuda_gpu_executor.cc:996] successful NUMA node read from SysFS had negative value (-1), but there must be at least one NUMA node, so returning NUMA node zero. See more at https://github.com/torvalds/linux/blob/v6.0/Documentation/ABI/testing/sysfs-bus-pci#L344-L355\n",
      "2024-12-30 15:10:59.694322: W tensorflow/core/common_runtime/gpu/gpu_device.cc:1956] Cannot dlopen some GPU libraries. Please make sure the missing libraries mentioned above are installed properly if you would like to use GPU. Follow the guide at https://www.tensorflow.org/install/gpu for how to download and setup the required libraries for your platform.\n",
      "Skipping registering GPU devices...\n",
      "2024-12-30 15:10:59.730524: I tensorflow/compiler/xla/stream_executor/cuda/cuda_gpu_executor.cc:996] successful NUMA node read from SysFS had negative value (-1), but there must be at least one NUMA node, so returning NUMA node zero. See more at https://github.com/torvalds/linux/blob/v6.0/Documentation/ABI/testing/sysfs-bus-pci#L344-L355\n",
      "2024-12-30 15:10:59.730618: I tensorflow/core/grappler/devices.cc:66] Number of eligible GPUs (core count >= 8, compute capability >= 0.0): 1\n",
      "2024-12-30 15:10:59.730658: I tensorflow/core/grappler/clusters/single_machine.cc:358] Starting new session\n",
      "2024-12-30 15:10:59.730876: I tensorflow/compiler/xla/stream_executor/cuda/cuda_gpu_executor.cc:996] successful NUMA node read from SysFS had negative value (-1), but there must be at least one NUMA node, so returning NUMA node zero. See more at https://github.com/torvalds/linux/blob/v6.0/Documentation/ABI/testing/sysfs-bus-pci#L344-L355\n",
      "2024-12-30 15:10:59.730940: W tensorflow/core/common_runtime/gpu/gpu_device.cc:1956] Cannot dlopen some GPU libraries. Please make sure the missing libraries mentioned above are installed properly if you would like to use GPU. Follow the guide at https://www.tensorflow.org/install/gpu for how to download and setup the required libraries for your platform.\n",
      "Skipping registering GPU devices...\n",
      "2024-12-30 15:10:59.801712: I tensorflow/compiler/xla/stream_executor/cuda/cuda_gpu_executor.cc:996] successful NUMA node read from SysFS had negative value (-1), but there must be at least one NUMA node, so returning NUMA node zero. See more at https://github.com/torvalds/linux/blob/v6.0/Documentation/ABI/testing/sysfs-bus-pci#L344-L355\n",
      "2024-12-30 15:10:59.801807: I tensorflow/core/grappler/devices.cc:66] Number of eligible GPUs (core count >= 8, compute capability >= 0.0): 1\n",
      "2024-12-30 15:10:59.801851: I tensorflow/core/grappler/clusters/single_machine.cc:358] Starting new session\n",
      "2024-12-30 15:10:59.802012: I tensorflow/compiler/xla/stream_executor/cuda/cuda_gpu_executor.cc:996] successful NUMA node read from SysFS had negative value (-1), but there must be at least one NUMA node, so returning NUMA node zero. See more at https://github.com/torvalds/linux/blob/v6.0/Documentation/ABI/testing/sysfs-bus-pci#L344-L355\n",
      "2024-12-30 15:10:59.802054: W tensorflow/core/common_runtime/gpu/gpu_device.cc:1956] Cannot dlopen some GPU libraries. Please make sure the missing libraries mentioned above are installed properly if you would like to use GPU. Follow the guide at https://www.tensorflow.org/install/gpu for how to download and setup the required libraries for your platform.\n",
      "Skipping registering GPU devices...\n",
      "2024-12-30 15:10:59.959256: I tensorflow/compiler/xla/stream_executor/cuda/cuda_gpu_executor.cc:996] successful NUMA node read from SysFS had negative value (-1), but there must be at least one NUMA node, so returning NUMA node zero. See more at https://github.com/torvalds/linux/blob/v6.0/Documentation/ABI/testing/sysfs-bus-pci#L344-L355\n",
      "2024-12-30 15:10:59.959342: I tensorflow/core/grappler/devices.cc:66] Number of eligible GPUs (core count >= 8, compute capability >= 0.0): 1\n",
      "2024-12-30 15:10:59.959378: I tensorflow/core/grappler/clusters/single_machine.cc:358] Starting new session\n",
      "2024-12-30 15:10:59.959629: I tensorflow/compiler/xla/stream_executor/cuda/cuda_gpu_executor.cc:996] successful NUMA node read from SysFS had negative value (-1), but there must be at least one NUMA node, so returning NUMA node zero. See more at https://github.com/torvalds/linux/blob/v6.0/Documentation/ABI/testing/sysfs-bus-pci#L344-L355\n",
      "2024-12-30 15:10:59.959677: W tensorflow/core/common_runtime/gpu/gpu_device.cc:1956] Cannot dlopen some GPU libraries. Please make sure the missing libraries mentioned above are installed properly if you would like to use GPU. Follow the guide at https://www.tensorflow.org/install/gpu for how to download and setup the required libraries for your platform.\n",
      "Skipping registering GPU devices...\n",
      "2024-12-30 15:11:00.090125: I tensorflow/compiler/xla/stream_executor/cuda/cuda_gpu_executor.cc:996] successful NUMA node read from SysFS had negative value (-1), but there must be at least one NUMA node, so returning NUMA node zero. See more at https://github.com/torvalds/linux/blob/v6.0/Documentation/ABI/testing/sysfs-bus-pci#L344-L355\n",
      "2024-12-30 15:11:00.090220: I tensorflow/core/grappler/devices.cc:66] Number of eligible GPUs (core count >= 8, compute capability >= 0.0): 1\n",
      "2024-12-30 15:11:00.090260: I tensorflow/core/grappler/clusters/single_machine.cc:358] Starting new session\n",
      "2024-12-30 15:11:00.090440: I tensorflow/compiler/xla/stream_executor/cuda/cuda_gpu_executor.cc:996] successful NUMA node read from SysFS had negative value (-1), but there must be at least one NUMA node, so returning NUMA node zero. See more at https://github.com/torvalds/linux/blob/v6.0/Documentation/ABI/testing/sysfs-bus-pci#L344-L355\n",
      "2024-12-30 15:11:00.090481: W tensorflow/core/common_runtime/gpu/gpu_device.cc:1956] Cannot dlopen some GPU libraries. Please make sure the missing libraries mentioned above are installed properly if you would like to use GPU. Follow the guide at https://www.tensorflow.org/install/gpu for how to download and setup the required libraries for your platform.\n",
      "Skipping registering GPU devices...\n",
      "2024-12-30 15:11:00.208597: I tensorflow/compiler/xla/stream_executor/cuda/cuda_gpu_executor.cc:996] successful NUMA node read from SysFS had negative value (-1), but there must be at least one NUMA node, so returning NUMA node zero. See more at https://github.com/torvalds/linux/blob/v6.0/Documentation/ABI/testing/sysfs-bus-pci#L344-L355\n",
      "2024-12-30 15:11:00.208681: I tensorflow/core/grappler/devices.cc:66] Number of eligible GPUs (core count >= 8, compute capability >= 0.0): 1\n",
      "2024-12-30 15:11:00.208730: I tensorflow/core/grappler/clusters/single_machine.cc:358] Starting new session\n",
      "2024-12-30 15:11:00.209016: I tensorflow/compiler/xla/stream_executor/cuda/cuda_gpu_executor.cc:996] successful NUMA node read from SysFS had negative value (-1), but there must be at least one NUMA node, so returning NUMA node zero. See more at https://github.com/torvalds/linux/blob/v6.0/Documentation/ABI/testing/sysfs-bus-pci#L344-L355\n",
      "2024-12-30 15:11:00.209059: W tensorflow/core/common_runtime/gpu/gpu_device.cc:1956] Cannot dlopen some GPU libraries. Please make sure the missing libraries mentioned above are installed properly if you would like to use GPU. Follow the guide at https://www.tensorflow.org/install/gpu for how to download and setup the required libraries for your platform.\n",
      "Skipping registering GPU devices...\n",
      "2024-12-30 15:11:22.903959: I tensorflow/core/common_runtime/executor.cc:1197] [/device:CPU:0] (DEBUG INFO) Executor start aborting (this does not indicate an error and you can ignore this message): INVALID_ARGUMENT: You must feed a value for placeholder tensor 'Placeholder/_32' with dtype float and shape [176,4]\n",
      "\t [[{{node Placeholder/_32}}]]\n",
      "2024-12-30 15:11:22.904492: I tensorflow/core/common_runtime/executor.cc:1197] [/device:CPU:0] (DEBUG INFO) Executor start aborting (this does not indicate an error and you can ignore this message): INVALID_ARGUMENT: You must feed a value for placeholder tensor 'Placeholder/_37' with dtype float and shape [199,50,50,3]\n",
      "\t [[{{node Placeholder/_37}}]]\n",
      "2024-12-30 15:11:27.047619: I tensorflow/core/common_runtime/executor.cc:1197] [/device:CPU:0] (DEBUG INFO) Executor start aborting (this does not indicate an error and you can ignore this message): INVALID_ARGUMENT: You must feed a value for placeholder tensor 'Placeholder/_47' with dtype float and shape [50,4]\n",
      "\t [[{{node Placeholder/_47}}]]\n",
      "2024-12-30 15:11:27.048149: I tensorflow/core/common_runtime/executor.cc:1197] [/device:CPU:0] (DEBUG INFO) Executor start aborting (this does not indicate an error and you can ignore this message): INVALID_ARGUMENT: You must feed a value for placeholder tensor 'Placeholder/_76' with dtype float and shape [39,50,50,3]\n",
      "\t [[{{node Placeholder/_76}}]]\n"
     ]
    },
    {
     "name": "stdout",
     "output_type": "stream",
     "text": [
      "Round  1: \t global_test_loss=1.5348, global_test_accuracy=0.8132 \n",
      "\t\tglobal_train_loss=1.5353, global_train_accuracy=0.8246\n"
     ]
    },
    {
     "name": "stderr",
     "output_type": "stream",
     "text": [
      "2024-12-30 15:11:27.898010: I tensorflow/core/common_runtime/executor.cc:1197] [/device:CPU:0] (DEBUG INFO) Executor start aborting (this does not indicate an error and you can ignore this message): INVALID_ARGUMENT: You must feed a value for placeholder tensor 'Placeholder/_1' with dtype float and shape [42,4]\n",
      "\t [[{{node Placeholder/_1}}]]\n",
      "2024-12-30 15:11:27.951067: I tensorflow/core/common_runtime/executor.cc:1197] [/device:CPU:0] (DEBUG INFO) Executor start aborting (this does not indicate an error and you can ignore this message): INVALID_ARGUMENT: You must feed a value for placeholder tensor 'Placeholder/_1' with dtype float and shape [167,4]\n",
      "\t [[{{node Placeholder/_1}}]]\n",
      "2024-12-30 15:11:28.093285: I tensorflow/core/common_runtime/executor.cc:1197] [/device:CPU:0] (DEBUG INFO) Executor start aborting (this does not indicate an error and you can ignore this message): INVALID_ARGUMENT: You must feed a value for placeholder tensor 'Placeholder/_1' with dtype float and shape [42,4]\n",
      "\t [[{{node Placeholder/_1}}]]\n",
      "2024-12-30 15:11:28.146111: I tensorflow/core/common_runtime/executor.cc:1197] [/device:CPU:0] (DEBUG INFO) Executor start aborting (this does not indicate an error and you can ignore this message): INVALID_ARGUMENT: You must feed a value for placeholder tensor 'Placeholder/_1' with dtype float and shape [167,4]\n",
      "\t [[{{node Placeholder/_1}}]]\n",
      "2024-12-30 15:11:28.285637: I tensorflow/core/common_runtime/executor.cc:1197] [/device:CPU:0] (DEBUG INFO) Executor start aborting (this does not indicate an error and you can ignore this message): INVALID_ARGUMENT: You must feed a value for placeholder tensor 'Placeholder/_1' with dtype float and shape [42,4]\n",
      "\t [[{{node Placeholder/_1}}]]\n",
      "2024-12-30 15:11:28.337199: I tensorflow/core/common_runtime/executor.cc:1197] [/device:CPU:0] (DEBUG INFO) Executor start aborting (this does not indicate an error and you can ignore this message): INVALID_ARGUMENT: You must feed a value for placeholder tensor 'Placeholder/_1' with dtype float and shape [167,4]\n",
      "\t [[{{node Placeholder/_1}}]]\n",
      "2024-12-30 15:11:28.474948: I tensorflow/core/common_runtime/executor.cc:1197] [/device:CPU:0] (DEBUG INFO) Executor start aborting (this does not indicate an error and you can ignore this message): INVALID_ARGUMENT: You must feed a value for placeholder tensor 'Placeholder/_1' with dtype float and shape [42,4]\n",
      "\t [[{{node Placeholder/_1}}]]\n",
      "2024-12-30 15:11:28.530351: I tensorflow/core/common_runtime/executor.cc:1197] [/device:CPU:0] (DEBUG INFO) Executor start aborting (this does not indicate an error and you can ignore this message): INVALID_ARGUMENT: You must feed a value for placeholder tensor 'Placeholder/_1' with dtype float and shape [167,4]\n",
      "\t [[{{node Placeholder/_1}}]]\n",
      "2024-12-30 15:11:28.674278: I tensorflow/core/common_runtime/executor.cc:1197] [/device:CPU:0] (DEBUG INFO) Executor start aborting (this does not indicate an error and you can ignore this message): INVALID_ARGUMENT: You must feed a value for placeholder tensor 'Placeholder/_1' with dtype float and shape [42,4]\n",
      "\t [[{{node Placeholder/_1}}]]\n",
      "2024-12-30 15:11:28.725459: I tensorflow/core/common_runtime/executor.cc:1197] [/device:CPU:0] (DEBUG INFO) Executor start aborting (this does not indicate an error and you can ignore this message): INVALID_ARGUMENT: You must feed a value for placeholder tensor 'Placeholder/_1' with dtype float and shape [167,4]\n",
      "\t [[{{node Placeholder/_1}}]]\n",
      "2024-12-30 15:11:28.864507: I tensorflow/core/common_runtime/executor.cc:1197] [/device:CPU:0] (DEBUG INFO) Executor start aborting (this does not indicate an error and you can ignore this message): INVALID_ARGUMENT: You must feed a value for placeholder tensor 'Placeholder/_1' with dtype float and shape [44,4]\n",
      "\t [[{{node Placeholder/_1}}]]\n",
      "2024-12-30 15:11:28.916766: I tensorflow/core/common_runtime/executor.cc:1197] [/device:CPU:0] (DEBUG INFO) Executor start aborting (this does not indicate an error and you can ignore this message): INVALID_ARGUMENT: You must feed a value for placeholder tensor 'Placeholder/_1' with dtype float and shape [176,4]\n",
      "\t [[{{node Placeholder/_1}}]]\n",
      "2024-12-30 15:11:29.062223: I tensorflow/core/common_runtime/executor.cc:1197] [/device:CPU:0] (DEBUG INFO) Executor start aborting (this does not indicate an error and you can ignore this message): INVALID_ARGUMENT: You must feed a value for placeholder tensor 'Placeholder/_1' with dtype float and shape [44,4]\n",
      "\t [[{{node Placeholder/_1}}]]\n",
      "2024-12-30 15:11:29.117480: I tensorflow/core/common_runtime/executor.cc:1197] [/device:CPU:0] (DEBUG INFO) Executor start aborting (this does not indicate an error and you can ignore this message): INVALID_ARGUMENT: You must feed a value for placeholder tensor 'Placeholder/_1' with dtype float and shape [176,4]\n",
      "\t [[{{node Placeholder/_1}}]]\n",
      "2024-12-30 15:11:29.259234: I tensorflow/core/common_runtime/executor.cc:1197] [/device:CPU:0] (DEBUG INFO) Executor start aborting (this does not indicate an error and you can ignore this message): INVALID_ARGUMENT: You must feed a value for placeholder tensor 'Placeholder/_1' with dtype float and shape [44,4]\n",
      "\t [[{{node Placeholder/_1}}]]\n",
      "2024-12-30 15:11:29.313322: I tensorflow/core/common_runtime/executor.cc:1197] [/device:CPU:0] (DEBUG INFO) Executor start aborting (this does not indicate an error and you can ignore this message): INVALID_ARGUMENT: You must feed a value for placeholder tensor 'Placeholder/_1' with dtype float and shape [176,4]\n",
      "\t [[{{node Placeholder/_1}}]]\n",
      "2024-12-30 15:11:29.456821: I tensorflow/core/common_runtime/executor.cc:1197] [/device:CPU:0] (DEBUG INFO) Executor start aborting (this does not indicate an error and you can ignore this message): INVALID_ARGUMENT: You must feed a value for placeholder tensor 'Placeholder/_1' with dtype float and shape [44,4]\n",
      "\t [[{{node Placeholder/_1}}]]\n",
      "2024-12-30 15:11:29.510430: I tensorflow/core/common_runtime/executor.cc:1197] [/device:CPU:0] (DEBUG INFO) Executor start aborting (this does not indicate an error and you can ignore this message): INVALID_ARGUMENT: You must feed a value for placeholder tensor 'Placeholder/_1' with dtype float and shape [176,4]\n",
      "\t [[{{node Placeholder/_1}}]]\n",
      "2024-12-30 15:11:29.652538: I tensorflow/core/common_runtime/executor.cc:1197] [/device:CPU:0] (DEBUG INFO) Executor start aborting (this does not indicate an error and you can ignore this message): INVALID_ARGUMENT: You must feed a value for placeholder tensor 'Placeholder/_1' with dtype float and shape [44,4]\n",
      "\t [[{{node Placeholder/_1}}]]\n",
      "2024-12-30 15:11:29.703208: I tensorflow/core/common_runtime/executor.cc:1197] [/device:CPU:0] (DEBUG INFO) Executor start aborting (this does not indicate an error and you can ignore this message): INVALID_ARGUMENT: You must feed a value for placeholder tensor 'Placeholder/_1' with dtype float and shape [176,4]\n",
      "\t [[{{node Placeholder/_1}}]]\n",
      "2024-12-30 15:11:29.845961: I tensorflow/core/common_runtime/executor.cc:1197] [/device:CPU:0] (DEBUG INFO) Executor start aborting (this does not indicate an error and you can ignore this message): INVALID_ARGUMENT: You must feed a value for placeholder tensor 'Placeholder/_1' with dtype float and shape [50,4]\n",
      "\t [[{{node Placeholder/_1}}]]\n",
      "2024-12-30 15:11:29.901819: I tensorflow/core/common_runtime/executor.cc:1197] [/device:CPU:0] (DEBUG INFO) Executor start aborting (this does not indicate an error and you can ignore this message): INVALID_ARGUMENT: You must feed a value for placeholder tensor 'Placeholder/_1' with dtype float and shape [199,4]\n",
      "\t [[{{node Placeholder/_1}}]]\n",
      "2024-12-30 15:11:30.060802: I tensorflow/core/common_runtime/executor.cc:1197] [/device:CPU:0] (DEBUG INFO) Executor start aborting (this does not indicate an error and you can ignore this message): INVALID_ARGUMENT: You must feed a value for placeholder tensor 'Placeholder/_1' with dtype float and shape [50,4]\n",
      "\t [[{{node Placeholder/_1}}]]\n",
      "2024-12-30 15:11:30.118358: I tensorflow/core/common_runtime/executor.cc:1197] [/device:CPU:0] (DEBUG INFO) Executor start aborting (this does not indicate an error and you can ignore this message): INVALID_ARGUMENT: You must feed a value for placeholder tensor 'Placeholder/_1' with dtype float and shape [199,4]\n",
      "\t [[{{node Placeholder/_1}}]]\n",
      "2024-12-30 15:11:30.279722: I tensorflow/core/common_runtime/executor.cc:1197] [/device:CPU:0] (DEBUG INFO) Executor start aborting (this does not indicate an error and you can ignore this message): INVALID_ARGUMENT: You must feed a value for placeholder tensor 'Placeholder/_1' with dtype float and shape [50,4]\n",
      "\t [[{{node Placeholder/_1}}]]\n",
      "2024-12-30 15:11:30.334770: I tensorflow/core/common_runtime/executor.cc:1197] [/device:CPU:0] (DEBUG INFO) Executor start aborting (this does not indicate an error and you can ignore this message): INVALID_ARGUMENT: You must feed a value for placeholder tensor 'Placeholder/_1' with dtype float and shape [199,4]\n",
      "\t [[{{node Placeholder/_1}}]]\n",
      "2024-12-30 15:11:30.490429: I tensorflow/core/common_runtime/executor.cc:1197] [/device:CPU:0] (DEBUG INFO) Executor start aborting (this does not indicate an error and you can ignore this message): INVALID_ARGUMENT: You must feed a value for placeholder tensor 'Placeholder/_1' with dtype float and shape [50,4]\n",
      "\t [[{{node Placeholder/_1}}]]\n",
      "2024-12-30 15:11:30.546081: I tensorflow/core/common_runtime/executor.cc:1197] [/device:CPU:0] (DEBUG INFO) Executor start aborting (this does not indicate an error and you can ignore this message): INVALID_ARGUMENT: You must feed a value for placeholder tensor 'Placeholder/_1' with dtype float and shape [199,4]\n",
      "\t [[{{node Placeholder/_1}}]]\n",
      "2024-12-30 15:11:30.702104: I tensorflow/core/common_runtime/executor.cc:1197] [/device:CPU:0] (DEBUG INFO) Executor start aborting (this does not indicate an error and you can ignore this message): INVALID_ARGUMENT: You must feed a value for placeholder tensor 'Placeholder/_1' with dtype float and shape [50,4]\n",
      "\t [[{{node Placeholder/_1}}]]\n",
      "2024-12-30 15:11:30.756884: I tensorflow/core/common_runtime/executor.cc:1197] [/device:CPU:0] (DEBUG INFO) Executor start aborting (this does not indicate an error and you can ignore this message): INVALID_ARGUMENT: You must feed a value for placeholder tensor 'Placeholder/_1' with dtype float and shape [199,4]\n",
      "\t [[{{node Placeholder/_1}}]]\n",
      "2024-12-30 15:11:30.920056: I tensorflow/core/common_runtime/executor.cc:1197] [/device:CPU:0] (DEBUG INFO) Executor start aborting (this does not indicate an error and you can ignore this message): INVALID_ARGUMENT: You must feed a value for placeholder tensor 'Placeholder/_1' with dtype float and shape [53,4]\n",
      "\t [[{{node Placeholder/_1}}]]\n",
      "2024-12-30 15:11:30.978435: I tensorflow/core/common_runtime/executor.cc:1197] [/device:CPU:0] (DEBUG INFO) Executor start aborting (this does not indicate an error and you can ignore this message): INVALID_ARGUMENT: You must feed a value for placeholder tensor 'Placeholder/_1' with dtype float and shape [212,4]\n",
      "\t [[{{node Placeholder/_1}}]]\n",
      "2024-12-30 15:11:31.150324: I tensorflow/core/common_runtime/executor.cc:1197] [/device:CPU:0] (DEBUG INFO) Executor start aborting (this does not indicate an error and you can ignore this message): INVALID_ARGUMENT: You must feed a value for placeholder tensor 'Placeholder/_1' with dtype float and shape [53,4]\n",
      "\t [[{{node Placeholder/_1}}]]\n",
      "2024-12-30 15:11:31.208806: I tensorflow/core/common_runtime/executor.cc:1197] [/device:CPU:0] (DEBUG INFO) Executor start aborting (this does not indicate an error and you can ignore this message): INVALID_ARGUMENT: You must feed a value for placeholder tensor 'Placeholder/_1' with dtype float and shape [212,4]\n",
      "\t [[{{node Placeholder/_1}}]]\n",
      "2024-12-30 15:11:31.377822: I tensorflow/core/common_runtime/executor.cc:1197] [/device:CPU:0] (DEBUG INFO) Executor start aborting (this does not indicate an error and you can ignore this message): INVALID_ARGUMENT: You must feed a value for placeholder tensor 'Placeholder/_1' with dtype float and shape [53,4]\n",
      "\t [[{{node Placeholder/_1}}]]\n",
      "2024-12-30 15:11:31.434671: I tensorflow/core/common_runtime/executor.cc:1197] [/device:CPU:0] (DEBUG INFO) Executor start aborting (this does not indicate an error and you can ignore this message): INVALID_ARGUMENT: You must feed a value for placeholder tensor 'Placeholder/_1' with dtype float and shape [212,4]\n",
      "\t [[{{node Placeholder/_1}}]]\n",
      "2024-12-30 15:11:31.607747: I tensorflow/core/common_runtime/executor.cc:1197] [/device:CPU:0] (DEBUG INFO) Executor start aborting (this does not indicate an error and you can ignore this message): INVALID_ARGUMENT: You must feed a value for placeholder tensor 'Placeholder/_1' with dtype float and shape [53,4]\n",
      "\t [[{{node Placeholder/_1}}]]\n",
      "2024-12-30 15:11:31.664975: I tensorflow/core/common_runtime/executor.cc:1197] [/device:CPU:0] (DEBUG INFO) Executor start aborting (this does not indicate an error and you can ignore this message): INVALID_ARGUMENT: You must feed a value for placeholder tensor 'Placeholder/_1' with dtype float and shape [212,4]\n",
      "\t [[{{node Placeholder/_1}}]]\n",
      "2024-12-30 15:11:31.832603: I tensorflow/core/common_runtime/executor.cc:1197] [/device:CPU:0] (DEBUG INFO) Executor start aborting (this does not indicate an error and you can ignore this message): INVALID_ARGUMENT: You must feed a value for placeholder tensor 'Placeholder/_1' with dtype float and shape [53,4]\n",
      "\t [[{{node Placeholder/_1}}]]\n",
      "2024-12-30 15:11:31.891204: I tensorflow/core/common_runtime/executor.cc:1197] [/device:CPU:0] (DEBUG INFO) Executor start aborting (this does not indicate an error and you can ignore this message): INVALID_ARGUMENT: You must feed a value for placeholder tensor 'Placeholder/_1' with dtype float and shape [212,4]\n",
      "\t [[{{node Placeholder/_1}}]]\n",
      "2024-12-30 15:11:32.061684: I tensorflow/core/common_runtime/executor.cc:1197] [/device:CPU:0] (DEBUG INFO) Executor start aborting (this does not indicate an error and you can ignore this message): INVALID_ARGUMENT: You must feed a value for placeholder tensor 'Placeholder/_1' with dtype float and shape [39,4]\n",
      "\t [[{{node Placeholder/_1}}]]\n",
      "2024-12-30 15:11:32.110700: I tensorflow/core/common_runtime/executor.cc:1197] [/device:CPU:0] (DEBUG INFO) Executor start aborting (this does not indicate an error and you can ignore this message): INVALID_ARGUMENT: You must feed a value for placeholder tensor 'Placeholder/_1' with dtype float and shape [156,4]\n",
      "\t [[{{node Placeholder/_1}}]]\n",
      "2024-12-30 15:11:32.238366: I tensorflow/core/common_runtime/executor.cc:1197] [/device:CPU:0] (DEBUG INFO) Executor start aborting (this does not indicate an error and you can ignore this message): INVALID_ARGUMENT: You must feed a value for placeholder tensor 'Placeholder/_1' with dtype float and shape [39,4]\n",
      "\t [[{{node Placeholder/_1}}]]\n",
      "2024-12-30 15:11:32.285178: I tensorflow/core/common_runtime/executor.cc:1197] [/device:CPU:0] (DEBUG INFO) Executor start aborting (this does not indicate an error and you can ignore this message): INVALID_ARGUMENT: You must feed a value for placeholder tensor 'Placeholder/_1' with dtype float and shape [156,4]\n",
      "\t [[{{node Placeholder/_1}}]]\n",
      "2024-12-30 15:11:32.416530: I tensorflow/core/common_runtime/executor.cc:1197] [/device:CPU:0] (DEBUG INFO) Executor start aborting (this does not indicate an error and you can ignore this message): INVALID_ARGUMENT: You must feed a value for placeholder tensor 'Placeholder/_1' with dtype float and shape [39,4]\n",
      "\t [[{{node Placeholder/_1}}]]\n",
      "2024-12-30 15:11:32.464529: I tensorflow/core/common_runtime/executor.cc:1197] [/device:CPU:0] (DEBUG INFO) Executor start aborting (this does not indicate an error and you can ignore this message): INVALID_ARGUMENT: You must feed a value for placeholder tensor 'Placeholder/_1' with dtype float and shape [156,4]\n",
      "\t [[{{node Placeholder/_1}}]]\n",
      "2024-12-30 15:11:32.593640: I tensorflow/core/common_runtime/executor.cc:1197] [/device:CPU:0] (DEBUG INFO) Executor start aborting (this does not indicate an error and you can ignore this message): INVALID_ARGUMENT: You must feed a value for placeholder tensor 'Placeholder/_1' with dtype float and shape [39,4]\n",
      "\t [[{{node Placeholder/_1}}]]\n",
      "2024-12-30 15:11:32.639337: I tensorflow/core/common_runtime/executor.cc:1197] [/device:CPU:0] (DEBUG INFO) Executor start aborting (this does not indicate an error and you can ignore this message): INVALID_ARGUMENT: You must feed a value for placeholder tensor 'Placeholder/_1' with dtype float and shape [156,4]\n",
      "\t [[{{node Placeholder/_1}}]]\n",
      "2024-12-30 15:11:32.768096: I tensorflow/core/common_runtime/executor.cc:1197] [/device:CPU:0] (DEBUG INFO) Executor start aborting (this does not indicate an error and you can ignore this message): INVALID_ARGUMENT: You must feed a value for placeholder tensor 'Placeholder/_1' with dtype float and shape [39,4]\n",
      "\t [[{{node Placeholder/_1}}]]\n",
      "2024-12-30 15:11:32.813077: I tensorflow/core/common_runtime/executor.cc:1197] [/device:CPU:0] (DEBUG INFO) Executor start aborting (this does not indicate an error and you can ignore this message): INVALID_ARGUMENT: You must feed a value for placeholder tensor 'Placeholder/_1' with dtype float and shape [156,4]\n",
      "\t [[{{node Placeholder/_1}}]]\n"
     ]
    },
    {
     "name": "stdout",
     "output_type": "stream",
     "text": [
      "Time taken for round  1: 00:00:34\n",
      "Estimated remaining time: 00:56:36\n",
      "\n",
      "Round  2: \t global_test_loss=1.4222, global_test_accuracy=0.8789 \n",
      "\t\tglobal_train_loss=1.4264, global_train_accuracy=0.8752\n"
     ]
    },
    {
     "name": "stderr",
     "output_type": "stream",
     "text": [
      "2024-12-30 15:11:52.191006: I tensorflow/core/common_runtime/executor.cc:1197] [/device:CPU:0] (DEBUG INFO) Executor start aborting (this does not indicate an error and you can ignore this message): INVALID_ARGUMENT: You must feed a value for placeholder tensor 'Placeholder/_1' with dtype float and shape [42,4]\n",
      "\t [[{{node Placeholder/_1}}]]\n",
      "2024-12-30 15:11:52.241894: I tensorflow/core/common_runtime/executor.cc:1197] [/device:CPU:0] (DEBUG INFO) Executor start aborting (this does not indicate an error and you can ignore this message): INVALID_ARGUMENT: You must feed a value for placeholder tensor 'Placeholder/_1' with dtype float and shape [167,4]\n",
      "\t [[{{node Placeholder/_1}}]]\n",
      "2024-12-30 15:11:52.377602: I tensorflow/core/common_runtime/executor.cc:1197] [/device:CPU:0] (DEBUG INFO) Executor start aborting (this does not indicate an error and you can ignore this message): INVALID_ARGUMENT: You must feed a value for placeholder tensor 'Placeholder/_1' with dtype float and shape [42,4]\n",
      "\t [[{{node Placeholder/_1}}]]\n",
      "2024-12-30 15:11:52.427931: I tensorflow/core/common_runtime/executor.cc:1197] [/device:CPU:0] (DEBUG INFO) Executor start aborting (this does not indicate an error and you can ignore this message): INVALID_ARGUMENT: You must feed a value for placeholder tensor 'Placeholder/_1' with dtype float and shape [167,4]\n",
      "\t [[{{node Placeholder/_1}}]]\n",
      "2024-12-30 15:11:52.567043: I tensorflow/core/common_runtime/executor.cc:1197] [/device:CPU:0] (DEBUG INFO) Executor start aborting (this does not indicate an error and you can ignore this message): INVALID_ARGUMENT: You must feed a value for placeholder tensor 'Placeholder/_1' with dtype float and shape [42,4]\n",
      "\t [[{{node Placeholder/_1}}]]\n",
      "2024-12-30 15:11:52.619506: I tensorflow/core/common_runtime/executor.cc:1197] [/device:CPU:0] (DEBUG INFO) Executor start aborting (this does not indicate an error and you can ignore this message): INVALID_ARGUMENT: You must feed a value for placeholder tensor 'Placeholder/_1' with dtype float and shape [167,4]\n",
      "\t [[{{node Placeholder/_1}}]]\n",
      "2024-12-30 15:11:52.757732: I tensorflow/core/common_runtime/executor.cc:1197] [/device:CPU:0] (DEBUG INFO) Executor start aborting (this does not indicate an error and you can ignore this message): INVALID_ARGUMENT: You must feed a value for placeholder tensor 'Placeholder/_1' with dtype float and shape [42,4]\n",
      "\t [[{{node Placeholder/_1}}]]\n",
      "2024-12-30 15:11:52.809277: I tensorflow/core/common_runtime/executor.cc:1197] [/device:CPU:0] (DEBUG INFO) Executor start aborting (this does not indicate an error and you can ignore this message): INVALID_ARGUMENT: You must feed a value for placeholder tensor 'Placeholder/_1' with dtype float and shape [167,4]\n",
      "\t [[{{node Placeholder/_1}}]]\n",
      "2024-12-30 15:11:52.946533: I tensorflow/core/common_runtime/executor.cc:1197] [/device:CPU:0] (DEBUG INFO) Executor start aborting (this does not indicate an error and you can ignore this message): INVALID_ARGUMENT: You must feed a value for placeholder tensor 'Placeholder/_1' with dtype float and shape [42,4]\n",
      "\t [[{{node Placeholder/_1}}]]\n",
      "2024-12-30 15:11:52.998379: I tensorflow/core/common_runtime/executor.cc:1197] [/device:CPU:0] (DEBUG INFO) Executor start aborting (this does not indicate an error and you can ignore this message): INVALID_ARGUMENT: You must feed a value for placeholder tensor 'Placeholder/_1' with dtype float and shape [167,4]\n",
      "\t [[{{node Placeholder/_1}}]]\n",
      "2024-12-30 15:11:53.135056: I tensorflow/core/common_runtime/executor.cc:1197] [/device:CPU:0] (DEBUG INFO) Executor start aborting (this does not indicate an error and you can ignore this message): INVALID_ARGUMENT: You must feed a value for placeholder tensor 'Placeholder/_1' with dtype float and shape [44,4]\n",
      "\t [[{{node Placeholder/_1}}]]\n",
      "2024-12-30 15:11:53.186119: I tensorflow/core/common_runtime/executor.cc:1197] [/device:CPU:0] (DEBUG INFO) Executor start aborting (this does not indicate an error and you can ignore this message): INVALID_ARGUMENT: You must feed a value for placeholder tensor 'Placeholder/_1' with dtype float and shape [176,4]\n",
      "\t [[{{node Placeholder/_1}}]]\n",
      "2024-12-30 15:11:53.325876: I tensorflow/core/common_runtime/executor.cc:1197] [/device:CPU:0] (DEBUG INFO) Executor start aborting (this does not indicate an error and you can ignore this message): INVALID_ARGUMENT: You must feed a value for placeholder tensor 'Placeholder/_1' with dtype float and shape [44,4]\n",
      "\t [[{{node Placeholder/_1}}]]\n",
      "2024-12-30 15:11:53.377465: I tensorflow/core/common_runtime/executor.cc:1197] [/device:CPU:0] (DEBUG INFO) Executor start aborting (this does not indicate an error and you can ignore this message): INVALID_ARGUMENT: You must feed a value for placeholder tensor 'Placeholder/_1' with dtype float and shape [176,4]\n",
      "\t [[{{node Placeholder/_1}}]]\n",
      "2024-12-30 15:11:53.517067: I tensorflow/core/common_runtime/executor.cc:1197] [/device:CPU:0] (DEBUG INFO) Executor start aborting (this does not indicate an error and you can ignore this message): INVALID_ARGUMENT: You must feed a value for placeholder tensor 'Placeholder/_1' with dtype float and shape [44,4]\n",
      "\t [[{{node Placeholder/_1}}]]\n",
      "2024-12-30 15:11:53.588708: I tensorflow/core/common_runtime/executor.cc:1197] [/device:CPU:0] (DEBUG INFO) Executor start aborting (this does not indicate an error and you can ignore this message): INVALID_ARGUMENT: You must feed a value for placeholder tensor 'Placeholder/_1' with dtype float and shape [176,4]\n",
      "\t [[{{node Placeholder/_1}}]]\n",
      "2024-12-30 15:11:53.733837: I tensorflow/core/common_runtime/executor.cc:1197] [/device:CPU:0] (DEBUG INFO) Executor start aborting (this does not indicate an error and you can ignore this message): INVALID_ARGUMENT: You must feed a value for placeholder tensor 'Placeholder/_1' with dtype float and shape [44,4]\n",
      "\t [[{{node Placeholder/_1}}]]\n",
      "2024-12-30 15:11:53.786805: I tensorflow/core/common_runtime/executor.cc:1197] [/device:CPU:0] (DEBUG INFO) Executor start aborting (this does not indicate an error and you can ignore this message): INVALID_ARGUMENT: You must feed a value for placeholder tensor 'Placeholder/_1' with dtype float and shape [176,4]\n",
      "\t [[{{node Placeholder/_1}}]]\n",
      "2024-12-30 15:11:53.931999: I tensorflow/core/common_runtime/executor.cc:1197] [/device:CPU:0] (DEBUG INFO) Executor start aborting (this does not indicate an error and you can ignore this message): INVALID_ARGUMENT: You must feed a value for placeholder tensor 'Placeholder/_1' with dtype float and shape [44,4]\n",
      "\t [[{{node Placeholder/_1}}]]\n",
      "2024-12-30 15:11:53.985766: I tensorflow/core/common_runtime/executor.cc:1197] [/device:CPU:0] (DEBUG INFO) Executor start aborting (this does not indicate an error and you can ignore this message): INVALID_ARGUMENT: You must feed a value for placeholder tensor 'Placeholder/_1' with dtype float and shape [176,4]\n",
      "\t [[{{node Placeholder/_1}}]]\n",
      "2024-12-30 15:11:54.126309: I tensorflow/core/common_runtime/executor.cc:1197] [/device:CPU:0] (DEBUG INFO) Executor start aborting (this does not indicate an error and you can ignore this message): INVALID_ARGUMENT: You must feed a value for placeholder tensor 'Placeholder/_1' with dtype float and shape [50,4]\n",
      "\t [[{{node Placeholder/_1}}]]\n",
      "2024-12-30 15:11:54.180991: I tensorflow/core/common_runtime/executor.cc:1197] [/device:CPU:0] (DEBUG INFO) Executor start aborting (this does not indicate an error and you can ignore this message): INVALID_ARGUMENT: You must feed a value for placeholder tensor 'Placeholder/_1' with dtype float and shape [199,4]\n",
      "\t [[{{node Placeholder/_1}}]]\n",
      "2024-12-30 15:11:54.338952: I tensorflow/core/common_runtime/executor.cc:1197] [/device:CPU:0] (DEBUG INFO) Executor start aborting (this does not indicate an error and you can ignore this message): INVALID_ARGUMENT: You must feed a value for placeholder tensor 'Placeholder/_1' with dtype float and shape [50,4]\n",
      "\t [[{{node Placeholder/_1}}]]\n",
      "2024-12-30 15:11:54.392701: I tensorflow/core/common_runtime/executor.cc:1197] [/device:CPU:0] (DEBUG INFO) Executor start aborting (this does not indicate an error and you can ignore this message): INVALID_ARGUMENT: You must feed a value for placeholder tensor 'Placeholder/_1' with dtype float and shape [199,4]\n",
      "\t [[{{node Placeholder/_1}}]]\n",
      "2024-12-30 15:11:54.553329: I tensorflow/core/common_runtime/executor.cc:1197] [/device:CPU:0] (DEBUG INFO) Executor start aborting (this does not indicate an error and you can ignore this message): INVALID_ARGUMENT: You must feed a value for placeholder tensor 'Placeholder/_1' with dtype float and shape [50,4]\n",
      "\t [[{{node Placeholder/_1}}]]\n",
      "2024-12-30 15:11:54.607110: I tensorflow/core/common_runtime/executor.cc:1197] [/device:CPU:0] (DEBUG INFO) Executor start aborting (this does not indicate an error and you can ignore this message): INVALID_ARGUMENT: You must feed a value for placeholder tensor 'Placeholder/_1' with dtype float and shape [199,4]\n",
      "\t [[{{node Placeholder/_1}}]]\n",
      "2024-12-30 15:11:54.766799: I tensorflow/core/common_runtime/executor.cc:1197] [/device:CPU:0] (DEBUG INFO) Executor start aborting (this does not indicate an error and you can ignore this message): INVALID_ARGUMENT: You must feed a value for placeholder tensor 'Placeholder/_1' with dtype float and shape [50,4]\n",
      "\t [[{{node Placeholder/_1}}]]\n",
      "2024-12-30 15:11:54.825323: I tensorflow/core/common_runtime/executor.cc:1197] [/device:CPU:0] (DEBUG INFO) Executor start aborting (this does not indicate an error and you can ignore this message): INVALID_ARGUMENT: You must feed a value for placeholder tensor 'Placeholder/_1' with dtype float and shape [199,4]\n",
      "\t [[{{node Placeholder/_1}}]]\n",
      "2024-12-30 15:11:54.983006: I tensorflow/core/common_runtime/executor.cc:1197] [/device:CPU:0] (DEBUG INFO) Executor start aborting (this does not indicate an error and you can ignore this message): INVALID_ARGUMENT: You must feed a value for placeholder tensor 'Placeholder/_1' with dtype float and shape [50,4]\n",
      "\t [[{{node Placeholder/_1}}]]\n",
      "2024-12-30 15:11:55.037806: I tensorflow/core/common_runtime/executor.cc:1197] [/device:CPU:0] (DEBUG INFO) Executor start aborting (this does not indicate an error and you can ignore this message): INVALID_ARGUMENT: You must feed a value for placeholder tensor 'Placeholder/_1' with dtype float and shape [199,4]\n",
      "\t [[{{node Placeholder/_1}}]]\n",
      "2024-12-30 15:11:55.194926: I tensorflow/core/common_runtime/executor.cc:1197] [/device:CPU:0] (DEBUG INFO) Executor start aborting (this does not indicate an error and you can ignore this message): INVALID_ARGUMENT: You must feed a value for placeholder tensor 'Placeholder/_1' with dtype float and shape [53,4]\n",
      "\t [[{{node Placeholder/_1}}]]\n",
      "2024-12-30 15:11:55.250791: I tensorflow/core/common_runtime/executor.cc:1197] [/device:CPU:0] (DEBUG INFO) Executor start aborting (this does not indicate an error and you can ignore this message): INVALID_ARGUMENT: You must feed a value for placeholder tensor 'Placeholder/_1' with dtype float and shape [212,4]\n",
      "\t [[{{node Placeholder/_1}}]]\n",
      "2024-12-30 15:11:55.417322: I tensorflow/core/common_runtime/executor.cc:1197] [/device:CPU:0] (DEBUG INFO) Executor start aborting (this does not indicate an error and you can ignore this message): INVALID_ARGUMENT: You must feed a value for placeholder tensor 'Placeholder/_1' with dtype float and shape [53,4]\n",
      "\t [[{{node Placeholder/_1}}]]\n",
      "2024-12-30 15:11:55.473736: I tensorflow/core/common_runtime/executor.cc:1197] [/device:CPU:0] (DEBUG INFO) Executor start aborting (this does not indicate an error and you can ignore this message): INVALID_ARGUMENT: You must feed a value for placeholder tensor 'Placeholder/_1' with dtype float and shape [212,4]\n",
      "\t [[{{node Placeholder/_1}}]]\n",
      "2024-12-30 15:11:55.646300: I tensorflow/core/common_runtime/executor.cc:1197] [/device:CPU:0] (DEBUG INFO) Executor start aborting (this does not indicate an error and you can ignore this message): INVALID_ARGUMENT: You must feed a value for placeholder tensor 'Placeholder/_1' with dtype float and shape [53,4]\n",
      "\t [[{{node Placeholder/_1}}]]\n",
      "2024-12-30 15:11:55.705232: I tensorflow/core/common_runtime/executor.cc:1197] [/device:CPU:0] (DEBUG INFO) Executor start aborting (this does not indicate an error and you can ignore this message): INVALID_ARGUMENT: You must feed a value for placeholder tensor 'Placeholder/_1' with dtype float and shape [212,4]\n",
      "\t [[{{node Placeholder/_1}}]]\n",
      "2024-12-30 15:11:55.876255: I tensorflow/core/common_runtime/executor.cc:1197] [/device:CPU:0] (DEBUG INFO) Executor start aborting (this does not indicate an error and you can ignore this message): INVALID_ARGUMENT: You must feed a value for placeholder tensor 'Placeholder/_1' with dtype float and shape [53,4]\n",
      "\t [[{{node Placeholder/_1}}]]\n",
      "2024-12-30 15:11:55.933218: I tensorflow/core/common_runtime/executor.cc:1197] [/device:CPU:0] (DEBUG INFO) Executor start aborting (this does not indicate an error and you can ignore this message): INVALID_ARGUMENT: You must feed a value for placeholder tensor 'Placeholder/_1' with dtype float and shape [212,4]\n",
      "\t [[{{node Placeholder/_1}}]]\n",
      "2024-12-30 15:11:56.101187: I tensorflow/core/common_runtime/executor.cc:1197] [/device:CPU:0] (DEBUG INFO) Executor start aborting (this does not indicate an error and you can ignore this message): INVALID_ARGUMENT: You must feed a value for placeholder tensor 'Placeholder/_1' with dtype float and shape [53,4]\n",
      "\t [[{{node Placeholder/_1}}]]\n",
      "2024-12-30 15:11:56.157222: I tensorflow/core/common_runtime/executor.cc:1197] [/device:CPU:0] (DEBUG INFO) Executor start aborting (this does not indicate an error and you can ignore this message): INVALID_ARGUMENT: You must feed a value for placeholder tensor 'Placeholder/_1' with dtype float and shape [212,4]\n",
      "\t [[{{node Placeholder/_1}}]]\n",
      "2024-12-30 15:11:56.322523: I tensorflow/core/common_runtime/executor.cc:1197] [/device:CPU:0] (DEBUG INFO) Executor start aborting (this does not indicate an error and you can ignore this message): INVALID_ARGUMENT: You must feed a value for placeholder tensor 'Placeholder/_1' with dtype float and shape [39,4]\n",
      "\t [[{{node Placeholder/_1}}]]\n",
      "2024-12-30 15:11:56.368151: I tensorflow/core/common_runtime/executor.cc:1197] [/device:CPU:0] (DEBUG INFO) Executor start aborting (this does not indicate an error and you can ignore this message): INVALID_ARGUMENT: You must feed a value for placeholder tensor 'Placeholder/_1' with dtype float and shape [156,4]\n",
      "\t [[{{node Placeholder/_1}}]]\n",
      "2024-12-30 15:11:56.493471: I tensorflow/core/common_runtime/executor.cc:1197] [/device:CPU:0] (DEBUG INFO) Executor start aborting (this does not indicate an error and you can ignore this message): INVALID_ARGUMENT: You must feed a value for placeholder tensor 'Placeholder/_1' with dtype float and shape [39,4]\n",
      "\t [[{{node Placeholder/_1}}]]\n",
      "2024-12-30 15:11:56.537780: I tensorflow/core/common_runtime/executor.cc:1197] [/device:CPU:0] (DEBUG INFO) Executor start aborting (this does not indicate an error and you can ignore this message): INVALID_ARGUMENT: You must feed a value for placeholder tensor 'Placeholder/_1' with dtype float and shape [156,4]\n",
      "\t [[{{node Placeholder/_1}}]]\n",
      "2024-12-30 15:11:56.661825: I tensorflow/core/common_runtime/executor.cc:1197] [/device:CPU:0] (DEBUG INFO) Executor start aborting (this does not indicate an error and you can ignore this message): INVALID_ARGUMENT: You must feed a value for placeholder tensor 'Placeholder/_1' with dtype float and shape [39,4]\n",
      "\t [[{{node Placeholder/_1}}]]\n",
      "2024-12-30 15:11:56.707743: I tensorflow/core/common_runtime/executor.cc:1197] [/device:CPU:0] (DEBUG INFO) Executor start aborting (this does not indicate an error and you can ignore this message): INVALID_ARGUMENT: You must feed a value for placeholder tensor 'Placeholder/_1' with dtype float and shape [156,4]\n",
      "\t [[{{node Placeholder/_1}}]]\n",
      "2024-12-30 15:11:56.835321: I tensorflow/core/common_runtime/executor.cc:1197] [/device:CPU:0] (DEBUG INFO) Executor start aborting (this does not indicate an error and you can ignore this message): INVALID_ARGUMENT: You must feed a value for placeholder tensor 'Placeholder/_1' with dtype float and shape [39,4]\n",
      "\t [[{{node Placeholder/_1}}]]\n",
      "2024-12-30 15:11:56.881188: I tensorflow/core/common_runtime/executor.cc:1197] [/device:CPU:0] (DEBUG INFO) Executor start aborting (this does not indicate an error and you can ignore this message): INVALID_ARGUMENT: You must feed a value for placeholder tensor 'Placeholder/_1' with dtype float and shape [156,4]\n",
      "\t [[{{node Placeholder/_1}}]]\n",
      "2024-12-30 15:11:57.010287: I tensorflow/core/common_runtime/executor.cc:1197] [/device:CPU:0] (DEBUG INFO) Executor start aborting (this does not indicate an error and you can ignore this message): INVALID_ARGUMENT: You must feed a value for placeholder tensor 'Placeholder/_1' with dtype float and shape [39,4]\n",
      "\t [[{{node Placeholder/_1}}]]\n",
      "2024-12-30 15:11:57.056139: I tensorflow/core/common_runtime/executor.cc:1197] [/device:CPU:0] (DEBUG INFO) Executor start aborting (this does not indicate an error and you can ignore this message): INVALID_ARGUMENT: You must feed a value for placeholder tensor 'Placeholder/_1' with dtype float and shape [156,4]\n",
      "\t [[{{node Placeholder/_1}}]]\n"
     ]
    },
    {
     "name": "stdout",
     "output_type": "stream",
     "text": [
      "Time taken for round  2: 00:00:24\n",
      "Estimated remaining time: 00:47:48\n",
      "\n",
      "Round  3: \t global_test_loss=1.3717, global_test_accuracy=0.8868 \n",
      "\t\tglobal_train_loss=1.3755, global_train_accuracy=0.8884\n"
     ]
    },
    {
     "name": "stderr",
     "output_type": "stream",
     "text": [
      "2024-12-30 15:12:19.300770: I tensorflow/core/common_runtime/executor.cc:1197] [/device:CPU:0] (DEBUG INFO) Executor start aborting (this does not indicate an error and you can ignore this message): INVALID_ARGUMENT: You must feed a value for placeholder tensor 'Placeholder/_1' with dtype float and shape [42,4]\n",
      "\t [[{{node Placeholder/_1}}]]\n",
      "2024-12-30 15:12:19.351834: I tensorflow/core/common_runtime/executor.cc:1197] [/device:CPU:0] (DEBUG INFO) Executor start aborting (this does not indicate an error and you can ignore this message): INVALID_ARGUMENT: You must feed a value for placeholder tensor 'Placeholder/_1' with dtype float and shape [167,4]\n",
      "\t [[{{node Placeholder/_1}}]]\n",
      "2024-12-30 15:12:19.487888: I tensorflow/core/common_runtime/executor.cc:1197] [/device:CPU:0] (DEBUG INFO) Executor start aborting (this does not indicate an error and you can ignore this message): INVALID_ARGUMENT: You must feed a value for placeholder tensor 'Placeholder/_1' with dtype float and shape [42,4]\n",
      "\t [[{{node Placeholder/_1}}]]\n",
      "2024-12-30 15:12:19.541100: I tensorflow/core/common_runtime/executor.cc:1197] [/device:CPU:0] (DEBUG INFO) Executor start aborting (this does not indicate an error and you can ignore this message): INVALID_ARGUMENT: You must feed a value for placeholder tensor 'Placeholder/_1' with dtype float and shape [167,4]\n",
      "\t [[{{node Placeholder/_1}}]]\n",
      "2024-12-30 15:12:19.710936: I tensorflow/core/common_runtime/executor.cc:1197] [/device:CPU:0] (DEBUG INFO) Executor start aborting (this does not indicate an error and you can ignore this message): INVALID_ARGUMENT: You must feed a value for placeholder tensor 'Placeholder/_1' with dtype float and shape [42,4]\n",
      "\t [[{{node Placeholder/_1}}]]\n",
      "2024-12-30 15:12:19.763257: I tensorflow/core/common_runtime/executor.cc:1197] [/device:CPU:0] (DEBUG INFO) Executor start aborting (this does not indicate an error and you can ignore this message): INVALID_ARGUMENT: You must feed a value for placeholder tensor 'Placeholder/_1' with dtype float and shape [167,4]\n",
      "\t [[{{node Placeholder/_1}}]]\n",
      "2024-12-30 15:12:19.902233: I tensorflow/core/common_runtime/executor.cc:1197] [/device:CPU:0] (DEBUG INFO) Executor start aborting (this does not indicate an error and you can ignore this message): INVALID_ARGUMENT: You must feed a value for placeholder tensor 'Placeholder/_1' with dtype float and shape [42,4]\n",
      "\t [[{{node Placeholder/_1}}]]\n",
      "2024-12-30 15:12:19.954199: I tensorflow/core/common_runtime/executor.cc:1197] [/device:CPU:0] (DEBUG INFO) Executor start aborting (this does not indicate an error and you can ignore this message): INVALID_ARGUMENT: You must feed a value for placeholder tensor 'Placeholder/_1' with dtype float and shape [167,4]\n",
      "\t [[{{node Placeholder/_1}}]]\n",
      "2024-12-30 15:12:20.089835: I tensorflow/core/common_runtime/executor.cc:1197] [/device:CPU:0] (DEBUG INFO) Executor start aborting (this does not indicate an error and you can ignore this message): INVALID_ARGUMENT: You must feed a value for placeholder tensor 'Placeholder/_1' with dtype float and shape [42,4]\n",
      "\t [[{{node Placeholder/_1}}]]\n",
      "2024-12-30 15:12:20.140384: I tensorflow/core/common_runtime/executor.cc:1197] [/device:CPU:0] (DEBUG INFO) Executor start aborting (this does not indicate an error and you can ignore this message): INVALID_ARGUMENT: You must feed a value for placeholder tensor 'Placeholder/_1' with dtype float and shape [167,4]\n",
      "\t [[{{node Placeholder/_1}}]]\n",
      "2024-12-30 15:12:20.279371: I tensorflow/core/common_runtime/executor.cc:1197] [/device:CPU:0] (DEBUG INFO) Executor start aborting (this does not indicate an error and you can ignore this message): INVALID_ARGUMENT: You must feed a value for placeholder tensor 'Placeholder/_1' with dtype float and shape [44,4]\n",
      "\t [[{{node Placeholder/_1}}]]\n",
      "2024-12-30 15:12:20.333115: I tensorflow/core/common_runtime/executor.cc:1197] [/device:CPU:0] (DEBUG INFO) Executor start aborting (this does not indicate an error and you can ignore this message): INVALID_ARGUMENT: You must feed a value for placeholder tensor 'Placeholder/_1' with dtype float and shape [176,4]\n",
      "\t [[{{node Placeholder/_1}}]]\n",
      "2024-12-30 15:12:20.472526: I tensorflow/core/common_runtime/executor.cc:1197] [/device:CPU:0] (DEBUG INFO) Executor start aborting (this does not indicate an error and you can ignore this message): INVALID_ARGUMENT: You must feed a value for placeholder tensor 'Placeholder/_1' with dtype float and shape [44,4]\n",
      "\t [[{{node Placeholder/_1}}]]\n",
      "2024-12-30 15:12:20.525036: I tensorflow/core/common_runtime/executor.cc:1197] [/device:CPU:0] (DEBUG INFO) Executor start aborting (this does not indicate an error and you can ignore this message): INVALID_ARGUMENT: You must feed a value for placeholder tensor 'Placeholder/_1' with dtype float and shape [176,4]\n",
      "\t [[{{node Placeholder/_1}}]]\n",
      "2024-12-30 15:12:20.669229: I tensorflow/core/common_runtime/executor.cc:1197] [/device:CPU:0] (DEBUG INFO) Executor start aborting (this does not indicate an error and you can ignore this message): INVALID_ARGUMENT: You must feed a value for placeholder tensor 'Placeholder/_1' with dtype float and shape [44,4]\n",
      "\t [[{{node Placeholder/_1}}]]\n",
      "2024-12-30 15:12:20.720838: I tensorflow/core/common_runtime/executor.cc:1197] [/device:CPU:0] (DEBUG INFO) Executor start aborting (this does not indicate an error and you can ignore this message): INVALID_ARGUMENT: You must feed a value for placeholder tensor 'Placeholder/_1' with dtype float and shape [176,4]\n",
      "\t [[{{node Placeholder/_1}}]]\n",
      "2024-12-30 15:12:20.864280: I tensorflow/core/common_runtime/executor.cc:1197] [/device:CPU:0] (DEBUG INFO) Executor start aborting (this does not indicate an error and you can ignore this message): INVALID_ARGUMENT: You must feed a value for placeholder tensor 'Placeholder/_1' with dtype float and shape [44,4]\n",
      "\t [[{{node Placeholder/_1}}]]\n",
      "2024-12-30 15:12:20.914623: I tensorflow/core/common_runtime/executor.cc:1197] [/device:CPU:0] (DEBUG INFO) Executor start aborting (this does not indicate an error and you can ignore this message): INVALID_ARGUMENT: You must feed a value for placeholder tensor 'Placeholder/_1' with dtype float and shape [176,4]\n",
      "\t [[{{node Placeholder/_1}}]]\n",
      "2024-12-30 15:12:21.057229: I tensorflow/core/common_runtime/executor.cc:1197] [/device:CPU:0] (DEBUG INFO) Executor start aborting (this does not indicate an error and you can ignore this message): INVALID_ARGUMENT: You must feed a value for placeholder tensor 'Placeholder/_1' with dtype float and shape [44,4]\n",
      "\t [[{{node Placeholder/_1}}]]\n",
      "2024-12-30 15:12:21.110070: I tensorflow/core/common_runtime/executor.cc:1197] [/device:CPU:0] (DEBUG INFO) Executor start aborting (this does not indicate an error and you can ignore this message): INVALID_ARGUMENT: You must feed a value for placeholder tensor 'Placeholder/_1' with dtype float and shape [176,4]\n",
      "\t [[{{node Placeholder/_1}}]]\n",
      "2024-12-30 15:12:21.251946: I tensorflow/core/common_runtime/executor.cc:1197] [/device:CPU:0] (DEBUG INFO) Executor start aborting (this does not indicate an error and you can ignore this message): INVALID_ARGUMENT: You must feed a value for placeholder tensor 'Placeholder/_1' with dtype float and shape [50,4]\n",
      "\t [[{{node Placeholder/_1}}]]\n",
      "2024-12-30 15:12:21.309068: I tensorflow/core/common_runtime/executor.cc:1197] [/device:CPU:0] (DEBUG INFO) Executor start aborting (this does not indicate an error and you can ignore this message): INVALID_ARGUMENT: You must feed a value for placeholder tensor 'Placeholder/_1' with dtype float and shape [199,4]\n",
      "\t [[{{node Placeholder/_1}}]]\n",
      "2024-12-30 15:12:21.468065: I tensorflow/core/common_runtime/executor.cc:1197] [/device:CPU:0] (DEBUG INFO) Executor start aborting (this does not indicate an error and you can ignore this message): INVALID_ARGUMENT: You must feed a value for placeholder tensor 'Placeholder/_1' with dtype float and shape [50,4]\n",
      "\t [[{{node Placeholder/_1}}]]\n",
      "2024-12-30 15:12:21.523943: I tensorflow/core/common_runtime/executor.cc:1197] [/device:CPU:0] (DEBUG INFO) Executor start aborting (this does not indicate an error and you can ignore this message): INVALID_ARGUMENT: You must feed a value for placeholder tensor 'Placeholder/_1' with dtype float and shape [199,4]\n",
      "\t [[{{node Placeholder/_1}}]]\n",
      "2024-12-30 15:12:21.681756: I tensorflow/core/common_runtime/executor.cc:1197] [/device:CPU:0] (DEBUG INFO) Executor start aborting (this does not indicate an error and you can ignore this message): INVALID_ARGUMENT: You must feed a value for placeholder tensor 'Placeholder/_1' with dtype float and shape [50,4]\n",
      "\t [[{{node Placeholder/_1}}]]\n",
      "2024-12-30 15:12:21.737419: I tensorflow/core/common_runtime/executor.cc:1197] [/device:CPU:0] (DEBUG INFO) Executor start aborting (this does not indicate an error and you can ignore this message): INVALID_ARGUMENT: You must feed a value for placeholder tensor 'Placeholder/_1' with dtype float and shape [199,4]\n",
      "\t [[{{node Placeholder/_1}}]]\n",
      "2024-12-30 15:12:21.893920: I tensorflow/core/common_runtime/executor.cc:1197] [/device:CPU:0] (DEBUG INFO) Executor start aborting (this does not indicate an error and you can ignore this message): INVALID_ARGUMENT: You must feed a value for placeholder tensor 'Placeholder/_1' with dtype float and shape [50,4]\n",
      "\t [[{{node Placeholder/_1}}]]\n",
      "2024-12-30 15:12:21.948803: I tensorflow/core/common_runtime/executor.cc:1197] [/device:CPU:0] (DEBUG INFO) Executor start aborting (this does not indicate an error and you can ignore this message): INVALID_ARGUMENT: You must feed a value for placeholder tensor 'Placeholder/_1' with dtype float and shape [199,4]\n",
      "\t [[{{node Placeholder/_1}}]]\n",
      "2024-12-30 15:12:22.106075: I tensorflow/core/common_runtime/executor.cc:1197] [/device:CPU:0] (DEBUG INFO) Executor start aborting (this does not indicate an error and you can ignore this message): INVALID_ARGUMENT: You must feed a value for placeholder tensor 'Placeholder/_1' with dtype float and shape [50,4]\n",
      "\t [[{{node Placeholder/_1}}]]\n",
      "2024-12-30 15:12:22.163043: I tensorflow/core/common_runtime/executor.cc:1197] [/device:CPU:0] (DEBUG INFO) Executor start aborting (this does not indicate an error and you can ignore this message): INVALID_ARGUMENT: You must feed a value for placeholder tensor 'Placeholder/_1' with dtype float and shape [199,4]\n",
      "\t [[{{node Placeholder/_1}}]]\n",
      "2024-12-30 15:12:22.315948: I tensorflow/core/common_runtime/executor.cc:1197] [/device:CPU:0] (DEBUG INFO) Executor start aborting (this does not indicate an error and you can ignore this message): INVALID_ARGUMENT: You must feed a value for placeholder tensor 'Placeholder/_1' with dtype float and shape [53,4]\n",
      "\t [[{{node Placeholder/_1}}]]\n",
      "2024-12-30 15:12:22.373455: I tensorflow/core/common_runtime/executor.cc:1197] [/device:CPU:0] (DEBUG INFO) Executor start aborting (this does not indicate an error and you can ignore this message): INVALID_ARGUMENT: You must feed a value for placeholder tensor 'Placeholder/_1' with dtype float and shape [212,4]\n",
      "\t [[{{node Placeholder/_1}}]]\n",
      "2024-12-30 15:12:22.546500: I tensorflow/core/common_runtime/executor.cc:1197] [/device:CPU:0] (DEBUG INFO) Executor start aborting (this does not indicate an error and you can ignore this message): INVALID_ARGUMENT: You must feed a value for placeholder tensor 'Placeholder/_1' with dtype float and shape [53,4]\n",
      "\t [[{{node Placeholder/_1}}]]\n",
      "2024-12-30 15:12:22.606226: I tensorflow/core/common_runtime/executor.cc:1197] [/device:CPU:0] (DEBUG INFO) Executor start aborting (this does not indicate an error and you can ignore this message): INVALID_ARGUMENT: You must feed a value for placeholder tensor 'Placeholder/_1' with dtype float and shape [212,4]\n",
      "\t [[{{node Placeholder/_1}}]]\n",
      "2024-12-30 15:12:22.773336: I tensorflow/core/common_runtime/executor.cc:1197] [/device:CPU:0] (DEBUG INFO) Executor start aborting (this does not indicate an error and you can ignore this message): INVALID_ARGUMENT: You must feed a value for placeholder tensor 'Placeholder/_1' with dtype float and shape [53,4]\n",
      "\t [[{{node Placeholder/_1}}]]\n",
      "2024-12-30 15:12:22.829368: I tensorflow/core/common_runtime/executor.cc:1197] [/device:CPU:0] (DEBUG INFO) Executor start aborting (this does not indicate an error and you can ignore this message): INVALID_ARGUMENT: You must feed a value for placeholder tensor 'Placeholder/_1' with dtype float and shape [212,4]\n",
      "\t [[{{node Placeholder/_1}}]]\n",
      "2024-12-30 15:12:22.998837: I tensorflow/core/common_runtime/executor.cc:1197] [/device:CPU:0] (DEBUG INFO) Executor start aborting (this does not indicate an error and you can ignore this message): INVALID_ARGUMENT: You must feed a value for placeholder tensor 'Placeholder/_1' with dtype float and shape [53,4]\n",
      "\t [[{{node Placeholder/_1}}]]\n",
      "2024-12-30 15:12:23.056158: I tensorflow/core/common_runtime/executor.cc:1197] [/device:CPU:0] (DEBUG INFO) Executor start aborting (this does not indicate an error and you can ignore this message): INVALID_ARGUMENT: You must feed a value for placeholder tensor 'Placeholder/_1' with dtype float and shape [212,4]\n",
      "\t [[{{node Placeholder/_1}}]]\n",
      "2024-12-30 15:12:23.226593: I tensorflow/core/common_runtime/executor.cc:1197] [/device:CPU:0] (DEBUG INFO) Executor start aborting (this does not indicate an error and you can ignore this message): INVALID_ARGUMENT: You must feed a value for placeholder tensor 'Placeholder/_1' with dtype float and shape [53,4]\n",
      "\t [[{{node Placeholder/_1}}]]\n",
      "2024-12-30 15:12:23.284523: I tensorflow/core/common_runtime/executor.cc:1197] [/device:CPU:0] (DEBUG INFO) Executor start aborting (this does not indicate an error and you can ignore this message): INVALID_ARGUMENT: You must feed a value for placeholder tensor 'Placeholder/_1' with dtype float and shape [212,4]\n",
      "\t [[{{node Placeholder/_1}}]]\n",
      "2024-12-30 15:12:23.449042: I tensorflow/core/common_runtime/executor.cc:1197] [/device:CPU:0] (DEBUG INFO) Executor start aborting (this does not indicate an error and you can ignore this message): INVALID_ARGUMENT: You must feed a value for placeholder tensor 'Placeholder/_1' with dtype float and shape [39,4]\n",
      "\t [[{{node Placeholder/_1}}]]\n",
      "2024-12-30 15:12:23.495626: I tensorflow/core/common_runtime/executor.cc:1197] [/device:CPU:0] (DEBUG INFO) Executor start aborting (this does not indicate an error and you can ignore this message): INVALID_ARGUMENT: You must feed a value for placeholder tensor 'Placeholder/_1' with dtype float and shape [156,4]\n",
      "\t [[{{node Placeholder/_1}}]]\n",
      "2024-12-30 15:12:23.637114: I tensorflow/core/common_runtime/executor.cc:1197] [/device:CPU:0] (DEBUG INFO) Executor start aborting (this does not indicate an error and you can ignore this message): INVALID_ARGUMENT: You must feed a value for placeholder tensor 'Placeholder/_1' with dtype float and shape [39,4]\n",
      "\t [[{{node Placeholder/_1}}]]\n",
      "2024-12-30 15:12:23.682398: I tensorflow/core/common_runtime/executor.cc:1197] [/device:CPU:0] (DEBUG INFO) Executor start aborting (this does not indicate an error and you can ignore this message): INVALID_ARGUMENT: You must feed a value for placeholder tensor 'Placeholder/_1' with dtype float and shape [156,4]\n",
      "\t [[{{node Placeholder/_1}}]]\n",
      "2024-12-30 15:12:23.809738: I tensorflow/core/common_runtime/executor.cc:1197] [/device:CPU:0] (DEBUG INFO) Executor start aborting (this does not indicate an error and you can ignore this message): INVALID_ARGUMENT: You must feed a value for placeholder tensor 'Placeholder/_1' with dtype float and shape [39,4]\n",
      "\t [[{{node Placeholder/_1}}]]\n",
      "2024-12-30 15:12:23.854027: I tensorflow/core/common_runtime/executor.cc:1197] [/device:CPU:0] (DEBUG INFO) Executor start aborting (this does not indicate an error and you can ignore this message): INVALID_ARGUMENT: You must feed a value for placeholder tensor 'Placeholder/_1' with dtype float and shape [156,4]\n",
      "\t [[{{node Placeholder/_1}}]]\n",
      "2024-12-30 15:12:23.978463: I tensorflow/core/common_runtime/executor.cc:1197] [/device:CPU:0] (DEBUG INFO) Executor start aborting (this does not indicate an error and you can ignore this message): INVALID_ARGUMENT: You must feed a value for placeholder tensor 'Placeholder/_1' with dtype float and shape [39,4]\n",
      "\t [[{{node Placeholder/_1}}]]\n",
      "2024-12-30 15:12:24.023838: I tensorflow/core/common_runtime/executor.cc:1197] [/device:CPU:0] (DEBUG INFO) Executor start aborting (this does not indicate an error and you can ignore this message): INVALID_ARGUMENT: You must feed a value for placeholder tensor 'Placeholder/_1' with dtype float and shape [156,4]\n",
      "\t [[{{node Placeholder/_1}}]]\n",
      "2024-12-30 15:12:24.150878: I tensorflow/core/common_runtime/executor.cc:1197] [/device:CPU:0] (DEBUG INFO) Executor start aborting (this does not indicate an error and you can ignore this message): INVALID_ARGUMENT: You must feed a value for placeholder tensor 'Placeholder/_1' with dtype float and shape [39,4]\n",
      "\t [[{{node Placeholder/_1}}]]\n",
      "2024-12-30 15:12:24.196375: I tensorflow/core/common_runtime/executor.cc:1197] [/device:CPU:0] (DEBUG INFO) Executor start aborting (this does not indicate an error and you can ignore this message): INVALID_ARGUMENT: You must feed a value for placeholder tensor 'Placeholder/_1' with dtype float and shape [156,4]\n",
      "\t [[{{node Placeholder/_1}}]]\n"
     ]
    },
    {
     "name": "stdout",
     "output_type": "stream",
     "text": [
      "Time taken for round  3: 00:00:27\n",
      "Estimated remaining time: 00:46:10\n",
      "\n",
      "Round  4: \t global_test_loss=1.3444, global_test_accuracy=0.8895 \n",
      "\t\tglobal_train_loss=1.3468, global_train_accuracy=0.8938\n"
     ]
    },
    {
     "name": "stderr",
     "output_type": "stream",
     "text": [
      "2024-12-30 15:12:47.704385: I tensorflow/core/common_runtime/executor.cc:1197] [/device:CPU:0] (DEBUG INFO) Executor start aborting (this does not indicate an error and you can ignore this message): INVALID_ARGUMENT: You must feed a value for placeholder tensor 'Placeholder/_1' with dtype float and shape [42,4]\n",
      "\t [[{{node Placeholder/_1}}]]\n",
      "2024-12-30 15:12:47.757093: I tensorflow/core/common_runtime/executor.cc:1197] [/device:CPU:0] (DEBUG INFO) Executor start aborting (this does not indicate an error and you can ignore this message): INVALID_ARGUMENT: You must feed a value for placeholder tensor 'Placeholder/_1' with dtype float and shape [167,4]\n",
      "\t [[{{node Placeholder/_1}}]]\n",
      "2024-12-30 15:12:47.892427: I tensorflow/core/common_runtime/executor.cc:1197] [/device:CPU:0] (DEBUG INFO) Executor start aborting (this does not indicate an error and you can ignore this message): INVALID_ARGUMENT: You must feed a value for placeholder tensor 'Placeholder/_1' with dtype float and shape [42,4]\n",
      "\t [[{{node Placeholder/_1}}]]\n",
      "2024-12-30 15:12:47.944359: I tensorflow/core/common_runtime/executor.cc:1197] [/device:CPU:0] (DEBUG INFO) Executor start aborting (this does not indicate an error and you can ignore this message): INVALID_ARGUMENT: You must feed a value for placeholder tensor 'Placeholder/_1' with dtype float and shape [167,4]\n",
      "\t [[{{node Placeholder/_1}}]]\n",
      "2024-12-30 15:12:48.085940: I tensorflow/core/common_runtime/executor.cc:1197] [/device:CPU:0] (DEBUG INFO) Executor start aborting (this does not indicate an error and you can ignore this message): INVALID_ARGUMENT: You must feed a value for placeholder tensor 'Placeholder/_1' with dtype float and shape [42,4]\n",
      "\t [[{{node Placeholder/_1}}]]\n",
      "2024-12-30 15:12:48.137279: I tensorflow/core/common_runtime/executor.cc:1197] [/device:CPU:0] (DEBUG INFO) Executor start aborting (this does not indicate an error and you can ignore this message): INVALID_ARGUMENT: You must feed a value for placeholder tensor 'Placeholder/_1' with dtype float and shape [167,4]\n",
      "\t [[{{node Placeholder/_1}}]]\n",
      "2024-12-30 15:12:48.275058: I tensorflow/core/common_runtime/executor.cc:1197] [/device:CPU:0] (DEBUG INFO) Executor start aborting (this does not indicate an error and you can ignore this message): INVALID_ARGUMENT: You must feed a value for placeholder tensor 'Placeholder/_1' with dtype float and shape [42,4]\n",
      "\t [[{{node Placeholder/_1}}]]\n",
      "2024-12-30 15:12:48.325816: I tensorflow/core/common_runtime/executor.cc:1197] [/device:CPU:0] (DEBUG INFO) Executor start aborting (this does not indicate an error and you can ignore this message): INVALID_ARGUMENT: You must feed a value for placeholder tensor 'Placeholder/_1' with dtype float and shape [167,4]\n",
      "\t [[{{node Placeholder/_1}}]]\n",
      "2024-12-30 15:12:48.461959: I tensorflow/core/common_runtime/executor.cc:1197] [/device:CPU:0] (DEBUG INFO) Executor start aborting (this does not indicate an error and you can ignore this message): INVALID_ARGUMENT: You must feed a value for placeholder tensor 'Placeholder/_1' with dtype float and shape [42,4]\n",
      "\t [[{{node Placeholder/_1}}]]\n",
      "2024-12-30 15:12:48.512210: I tensorflow/core/common_runtime/executor.cc:1197] [/device:CPU:0] (DEBUG INFO) Executor start aborting (this does not indicate an error and you can ignore this message): INVALID_ARGUMENT: You must feed a value for placeholder tensor 'Placeholder/_1' with dtype float and shape [167,4]\n",
      "\t [[{{node Placeholder/_1}}]]\n",
      "2024-12-30 15:12:48.648440: I tensorflow/core/common_runtime/executor.cc:1197] [/device:CPU:0] (DEBUG INFO) Executor start aborting (this does not indicate an error and you can ignore this message): INVALID_ARGUMENT: You must feed a value for placeholder tensor 'Placeholder/_1' with dtype float and shape [44,4]\n",
      "\t [[{{node Placeholder/_1}}]]\n",
      "2024-12-30 15:12:48.699377: I tensorflow/core/common_runtime/executor.cc:1197] [/device:CPU:0] (DEBUG INFO) Executor start aborting (this does not indicate an error and you can ignore this message): INVALID_ARGUMENT: You must feed a value for placeholder tensor 'Placeholder/_1' with dtype float and shape [176,4]\n",
      "\t [[{{node Placeholder/_1}}]]\n",
      "2024-12-30 15:12:48.841376: I tensorflow/core/common_runtime/executor.cc:1197] [/device:CPU:0] (DEBUG INFO) Executor start aborting (this does not indicate an error and you can ignore this message): INVALID_ARGUMENT: You must feed a value for placeholder tensor 'Placeholder/_1' with dtype float and shape [44,4]\n",
      "\t [[{{node Placeholder/_1}}]]\n",
      "2024-12-30 15:12:48.894407: I tensorflow/core/common_runtime/executor.cc:1197] [/device:CPU:0] (DEBUG INFO) Executor start aborting (this does not indicate an error and you can ignore this message): INVALID_ARGUMENT: You must feed a value for placeholder tensor 'Placeholder/_1' with dtype float and shape [176,4]\n",
      "\t [[{{node Placeholder/_1}}]]\n",
      "2024-12-30 15:12:49.033864: I tensorflow/core/common_runtime/executor.cc:1197] [/device:CPU:0] (DEBUG INFO) Executor start aborting (this does not indicate an error and you can ignore this message): INVALID_ARGUMENT: You must feed a value for placeholder tensor 'Placeholder/_1' with dtype float and shape [44,4]\n",
      "\t [[{{node Placeholder/_1}}]]\n",
      "2024-12-30 15:12:49.089796: I tensorflow/core/common_runtime/executor.cc:1197] [/device:CPU:0] (DEBUG INFO) Executor start aborting (this does not indicate an error and you can ignore this message): INVALID_ARGUMENT: You must feed a value for placeholder tensor 'Placeholder/_1' with dtype float and shape [176,4]\n",
      "\t [[{{node Placeholder/_1}}]]\n",
      "2024-12-30 15:12:49.231142: I tensorflow/core/common_runtime/executor.cc:1197] [/device:CPU:0] (DEBUG INFO) Executor start aborting (this does not indicate an error and you can ignore this message): INVALID_ARGUMENT: You must feed a value for placeholder tensor 'Placeholder/_1' with dtype float and shape [44,4]\n",
      "\t [[{{node Placeholder/_1}}]]\n",
      "2024-12-30 15:12:49.282749: I tensorflow/core/common_runtime/executor.cc:1197] [/device:CPU:0] (DEBUG INFO) Executor start aborting (this does not indicate an error and you can ignore this message): INVALID_ARGUMENT: You must feed a value for placeholder tensor 'Placeholder/_1' with dtype float and shape [176,4]\n",
      "\t [[{{node Placeholder/_1}}]]\n",
      "2024-12-30 15:12:49.423791: I tensorflow/core/common_runtime/executor.cc:1197] [/device:CPU:0] (DEBUG INFO) Executor start aborting (this does not indicate an error and you can ignore this message): INVALID_ARGUMENT: You must feed a value for placeholder tensor 'Placeholder/_1' with dtype float and shape [44,4]\n",
      "\t [[{{node Placeholder/_1}}]]\n",
      "2024-12-30 15:12:49.476236: I tensorflow/core/common_runtime/executor.cc:1197] [/device:CPU:0] (DEBUG INFO) Executor start aborting (this does not indicate an error and you can ignore this message): INVALID_ARGUMENT: You must feed a value for placeholder tensor 'Placeholder/_1' with dtype float and shape [176,4]\n",
      "\t [[{{node Placeholder/_1}}]]\n",
      "2024-12-30 15:12:49.627033: I tensorflow/core/common_runtime/executor.cc:1197] [/device:CPU:0] (DEBUG INFO) Executor start aborting (this does not indicate an error and you can ignore this message): INVALID_ARGUMENT: You must feed a value for placeholder tensor 'Placeholder/_1' with dtype float and shape [50,4]\n",
      "\t [[{{node Placeholder/_1}}]]\n",
      "2024-12-30 15:12:49.683870: I tensorflow/core/common_runtime/executor.cc:1197] [/device:CPU:0] (DEBUG INFO) Executor start aborting (this does not indicate an error and you can ignore this message): INVALID_ARGUMENT: You must feed a value for placeholder tensor 'Placeholder/_1' with dtype float and shape [199,4]\n",
      "\t [[{{node Placeholder/_1}}]]\n",
      "2024-12-30 15:12:49.839962: I tensorflow/core/common_runtime/executor.cc:1197] [/device:CPU:0] (DEBUG INFO) Executor start aborting (this does not indicate an error and you can ignore this message): INVALID_ARGUMENT: You must feed a value for placeholder tensor 'Placeholder/_1' with dtype float and shape [50,4]\n",
      "\t [[{{node Placeholder/_1}}]]\n",
      "2024-12-30 15:12:49.894001: I tensorflow/core/common_runtime/executor.cc:1197] [/device:CPU:0] (DEBUG INFO) Executor start aborting (this does not indicate an error and you can ignore this message): INVALID_ARGUMENT: You must feed a value for placeholder tensor 'Placeholder/_1' with dtype float and shape [199,4]\n",
      "\t [[{{node Placeholder/_1}}]]\n",
      "2024-12-30 15:12:50.050973: I tensorflow/core/common_runtime/executor.cc:1197] [/device:CPU:0] (DEBUG INFO) Executor start aborting (this does not indicate an error and you can ignore this message): INVALID_ARGUMENT: You must feed a value for placeholder tensor 'Placeholder/_1' with dtype float and shape [50,4]\n",
      "\t [[{{node Placeholder/_1}}]]\n",
      "2024-12-30 15:12:50.106550: I tensorflow/core/common_runtime/executor.cc:1197] [/device:CPU:0] (DEBUG INFO) Executor start aborting (this does not indicate an error and you can ignore this message): INVALID_ARGUMENT: You must feed a value for placeholder tensor 'Placeholder/_1' with dtype float and shape [199,4]\n",
      "\t [[{{node Placeholder/_1}}]]\n",
      "2024-12-30 15:12:50.264976: I tensorflow/core/common_runtime/executor.cc:1197] [/device:CPU:0] (DEBUG INFO) Executor start aborting (this does not indicate an error and you can ignore this message): INVALID_ARGUMENT: You must feed a value for placeholder tensor 'Placeholder/_1' with dtype float and shape [50,4]\n",
      "\t [[{{node Placeholder/_1}}]]\n",
      "2024-12-30 15:12:50.321933: I tensorflow/core/common_runtime/executor.cc:1197] [/device:CPU:0] (DEBUG INFO) Executor start aborting (this does not indicate an error and you can ignore this message): INVALID_ARGUMENT: You must feed a value for placeholder tensor 'Placeholder/_1' with dtype float and shape [199,4]\n",
      "\t [[{{node Placeholder/_1}}]]\n",
      "2024-12-30 15:12:50.476811: I tensorflow/core/common_runtime/executor.cc:1197] [/device:CPU:0] (DEBUG INFO) Executor start aborting (this does not indicate an error and you can ignore this message): INVALID_ARGUMENT: You must feed a value for placeholder tensor 'Placeholder/_1' with dtype float and shape [50,4]\n",
      "\t [[{{node Placeholder/_1}}]]\n",
      "2024-12-30 15:12:50.532093: I tensorflow/core/common_runtime/executor.cc:1197] [/device:CPU:0] (DEBUG INFO) Executor start aborting (this does not indicate an error and you can ignore this message): INVALID_ARGUMENT: You must feed a value for placeholder tensor 'Placeholder/_1' with dtype float and shape [199,4]\n",
      "\t [[{{node Placeholder/_1}}]]\n",
      "2024-12-30 15:12:50.688647: I tensorflow/core/common_runtime/executor.cc:1197] [/device:CPU:0] (DEBUG INFO) Executor start aborting (this does not indicate an error and you can ignore this message): INVALID_ARGUMENT: You must feed a value for placeholder tensor 'Placeholder/_1' with dtype float and shape [53,4]\n",
      "\t [[{{node Placeholder/_1}}]]\n",
      "2024-12-30 15:12:50.745124: I tensorflow/core/common_runtime/executor.cc:1197] [/device:CPU:0] (DEBUG INFO) Executor start aborting (this does not indicate an error and you can ignore this message): INVALID_ARGUMENT: You must feed a value for placeholder tensor 'Placeholder/_1' with dtype float and shape [212,4]\n",
      "\t [[{{node Placeholder/_1}}]]\n",
      "2024-12-30 15:12:50.910738: I tensorflow/core/common_runtime/executor.cc:1197] [/device:CPU:0] (DEBUG INFO) Executor start aborting (this does not indicate an error and you can ignore this message): INVALID_ARGUMENT: You must feed a value for placeholder tensor 'Placeholder/_1' with dtype float and shape [53,4]\n",
      "\t [[{{node Placeholder/_1}}]]\n",
      "2024-12-30 15:12:50.967019: I tensorflow/core/common_runtime/executor.cc:1197] [/device:CPU:0] (DEBUG INFO) Executor start aborting (this does not indicate an error and you can ignore this message): INVALID_ARGUMENT: You must feed a value for placeholder tensor 'Placeholder/_1' with dtype float and shape [212,4]\n",
      "\t [[{{node Placeholder/_1}}]]\n",
      "2024-12-30 15:12:51.135458: I tensorflow/core/common_runtime/executor.cc:1197] [/device:CPU:0] (DEBUG INFO) Executor start aborting (this does not indicate an error and you can ignore this message): INVALID_ARGUMENT: You must feed a value for placeholder tensor 'Placeholder/_1' with dtype float and shape [53,4]\n",
      "\t [[{{node Placeholder/_1}}]]\n",
      "2024-12-30 15:12:51.193976: I tensorflow/core/common_runtime/executor.cc:1197] [/device:CPU:0] (DEBUG INFO) Executor start aborting (this does not indicate an error and you can ignore this message): INVALID_ARGUMENT: You must feed a value for placeholder tensor 'Placeholder/_1' with dtype float and shape [212,4]\n",
      "\t [[{{node Placeholder/_1}}]]\n",
      "2024-12-30 15:12:51.362151: I tensorflow/core/common_runtime/executor.cc:1197] [/device:CPU:0] (DEBUG INFO) Executor start aborting (this does not indicate an error and you can ignore this message): INVALID_ARGUMENT: You must feed a value for placeholder tensor 'Placeholder/_1' with dtype float and shape [53,4]\n",
      "\t [[{{node Placeholder/_1}}]]\n",
      "2024-12-30 15:12:51.420073: I tensorflow/core/common_runtime/executor.cc:1197] [/device:CPU:0] (DEBUG INFO) Executor start aborting (this does not indicate an error and you can ignore this message): INVALID_ARGUMENT: You must feed a value for placeholder tensor 'Placeholder/_1' with dtype float and shape [212,4]\n",
      "\t [[{{node Placeholder/_1}}]]\n",
      "2024-12-30 15:12:51.588678: I tensorflow/core/common_runtime/executor.cc:1197] [/device:CPU:0] (DEBUG INFO) Executor start aborting (this does not indicate an error and you can ignore this message): INVALID_ARGUMENT: You must feed a value for placeholder tensor 'Placeholder/_1' with dtype float and shape [53,4]\n",
      "\t [[{{node Placeholder/_1}}]]\n",
      "2024-12-30 15:12:51.645154: I tensorflow/core/common_runtime/executor.cc:1197] [/device:CPU:0] (DEBUG INFO) Executor start aborting (this does not indicate an error and you can ignore this message): INVALID_ARGUMENT: You must feed a value for placeholder tensor 'Placeholder/_1' with dtype float and shape [212,4]\n",
      "\t [[{{node Placeholder/_1}}]]\n",
      "2024-12-30 15:12:51.815519: I tensorflow/core/common_runtime/executor.cc:1197] [/device:CPU:0] (DEBUG INFO) Executor start aborting (this does not indicate an error and you can ignore this message): INVALID_ARGUMENT: You must feed a value for placeholder tensor 'Placeholder/_1' with dtype float and shape [39,4]\n",
      "\t [[{{node Placeholder/_1}}]]\n",
      "2024-12-30 15:12:51.862068: I tensorflow/core/common_runtime/executor.cc:1197] [/device:CPU:0] (DEBUG INFO) Executor start aborting (this does not indicate an error and you can ignore this message): INVALID_ARGUMENT: You must feed a value for placeholder tensor 'Placeholder/_1' with dtype float and shape [156,4]\n",
      "\t [[{{node Placeholder/_1}}]]\n",
      "2024-12-30 15:12:51.986439: I tensorflow/core/common_runtime/executor.cc:1197] [/device:CPU:0] (DEBUG INFO) Executor start aborting (this does not indicate an error and you can ignore this message): INVALID_ARGUMENT: You must feed a value for placeholder tensor 'Placeholder/_1' with dtype float and shape [39,4]\n",
      "\t [[{{node Placeholder/_1}}]]\n",
      "2024-12-30 15:12:52.031819: I tensorflow/core/common_runtime/executor.cc:1197] [/device:CPU:0] (DEBUG INFO) Executor start aborting (this does not indicate an error and you can ignore this message): INVALID_ARGUMENT: You must feed a value for placeholder tensor 'Placeholder/_1' with dtype float and shape [156,4]\n",
      "\t [[{{node Placeholder/_1}}]]\n",
      "2024-12-30 15:12:52.158157: I tensorflow/core/common_runtime/executor.cc:1197] [/device:CPU:0] (DEBUG INFO) Executor start aborting (this does not indicate an error and you can ignore this message): INVALID_ARGUMENT: You must feed a value for placeholder tensor 'Placeholder/_1' with dtype float and shape [39,4]\n",
      "\t [[{{node Placeholder/_1}}]]\n",
      "2024-12-30 15:12:52.208439: I tensorflow/core/common_runtime/executor.cc:1197] [/device:CPU:0] (DEBUG INFO) Executor start aborting (this does not indicate an error and you can ignore this message): INVALID_ARGUMENT: You must feed a value for placeholder tensor 'Placeholder/_1' with dtype float and shape [156,4]\n",
      "\t [[{{node Placeholder/_1}}]]\n",
      "2024-12-30 15:12:52.339064: I tensorflow/core/common_runtime/executor.cc:1197] [/device:CPU:0] (DEBUG INFO) Executor start aborting (this does not indicate an error and you can ignore this message): INVALID_ARGUMENT: You must feed a value for placeholder tensor 'Placeholder/_1' with dtype float and shape [39,4]\n",
      "\t [[{{node Placeholder/_1}}]]\n",
      "2024-12-30 15:12:52.384586: I tensorflow/core/common_runtime/executor.cc:1197] [/device:CPU:0] (DEBUG INFO) Executor start aborting (this does not indicate an error and you can ignore this message): INVALID_ARGUMENT: You must feed a value for placeholder tensor 'Placeholder/_1' with dtype float and shape [156,4]\n",
      "\t [[{{node Placeholder/_1}}]]\n",
      "2024-12-30 15:12:52.511477: I tensorflow/core/common_runtime/executor.cc:1197] [/device:CPU:0] (DEBUG INFO) Executor start aborting (this does not indicate an error and you can ignore this message): INVALID_ARGUMENT: You must feed a value for placeholder tensor 'Placeholder/_1' with dtype float and shape [39,4]\n",
      "\t [[{{node Placeholder/_1}}]]\n",
      "2024-12-30 15:12:52.557335: I tensorflow/core/common_runtime/executor.cc:1197] [/device:CPU:0] (DEBUG INFO) Executor start aborting (this does not indicate an error and you can ignore this message): INVALID_ARGUMENT: You must feed a value for placeholder tensor 'Placeholder/_1' with dtype float and shape [156,4]\n",
      "\t [[{{node Placeholder/_1}}]]\n"
     ]
    },
    {
     "name": "stdout",
     "output_type": "stream",
     "text": [
      "Time taken for round  4: 00:00:28\n",
      "Estimated remaining time: 00:45:37\n",
      "\n",
      "Round  5: \t global_test_loss=1.3288, global_test_accuracy=0.8921 \n",
      "\t\tglobal_train_loss=1.3295, global_train_accuracy=0.8954\n"
     ]
    },
    {
     "name": "stderr",
     "output_type": "stream",
     "text": [
      "2024-12-30 15:13:11.764464: I tensorflow/core/common_runtime/executor.cc:1197] [/device:CPU:0] (DEBUG INFO) Executor start aborting (this does not indicate an error and you can ignore this message): INVALID_ARGUMENT: You must feed a value for placeholder tensor 'Placeholder/_1' with dtype float and shape [42,4]\n",
      "\t [[{{node Placeholder/_1}}]]\n",
      "2024-12-30 15:13:11.816747: I tensorflow/core/common_runtime/executor.cc:1197] [/device:CPU:0] (DEBUG INFO) Executor start aborting (this does not indicate an error and you can ignore this message): INVALID_ARGUMENT: You must feed a value for placeholder tensor 'Placeholder/_1' with dtype float and shape [167,4]\n",
      "\t [[{{node Placeholder/_1}}]]\n",
      "2024-12-30 15:13:11.952429: I tensorflow/core/common_runtime/executor.cc:1197] [/device:CPU:0] (DEBUG INFO) Executor start aborting (this does not indicate an error and you can ignore this message): INVALID_ARGUMENT: You must feed a value for placeholder tensor 'Placeholder/_1' with dtype float and shape [42,4]\n",
      "\t [[{{node Placeholder/_1}}]]\n",
      "2024-12-30 15:13:12.003420: I tensorflow/core/common_runtime/executor.cc:1197] [/device:CPU:0] (DEBUG INFO) Executor start aborting (this does not indicate an error and you can ignore this message): INVALID_ARGUMENT: You must feed a value for placeholder tensor 'Placeholder/_1' with dtype float and shape [167,4]\n",
      "\t [[{{node Placeholder/_1}}]]\n",
      "2024-12-30 15:13:12.141843: I tensorflow/core/common_runtime/executor.cc:1197] [/device:CPU:0] (DEBUG INFO) Executor start aborting (this does not indicate an error and you can ignore this message): INVALID_ARGUMENT: You must feed a value for placeholder tensor 'Placeholder/_1' with dtype float and shape [42,4]\n",
      "\t [[{{node Placeholder/_1}}]]\n",
      "2024-12-30 15:13:12.192296: I tensorflow/core/common_runtime/executor.cc:1197] [/device:CPU:0] (DEBUG INFO) Executor start aborting (this does not indicate an error and you can ignore this message): INVALID_ARGUMENT: You must feed a value for placeholder tensor 'Placeholder/_1' with dtype float and shape [167,4]\n",
      "\t [[{{node Placeholder/_1}}]]\n",
      "2024-12-30 15:13:12.328133: I tensorflow/core/common_runtime/executor.cc:1197] [/device:CPU:0] (DEBUG INFO) Executor start aborting (this does not indicate an error and you can ignore this message): INVALID_ARGUMENT: You must feed a value for placeholder tensor 'Placeholder/_1' with dtype float and shape [42,4]\n",
      "\t [[{{node Placeholder/_1}}]]\n",
      "2024-12-30 15:13:12.380931: I tensorflow/core/common_runtime/executor.cc:1197] [/device:CPU:0] (DEBUG INFO) Executor start aborting (this does not indicate an error and you can ignore this message): INVALID_ARGUMENT: You must feed a value for placeholder tensor 'Placeholder/_1' with dtype float and shape [167,4]\n",
      "\t [[{{node Placeholder/_1}}]]\n",
      "2024-12-30 15:13:12.523848: I tensorflow/core/common_runtime/executor.cc:1197] [/device:CPU:0] (DEBUG INFO) Executor start aborting (this does not indicate an error and you can ignore this message): INVALID_ARGUMENT: You must feed a value for placeholder tensor 'Placeholder/_1' with dtype float and shape [42,4]\n",
      "\t [[{{node Placeholder/_1}}]]\n",
      "2024-12-30 15:13:12.576842: I tensorflow/core/common_runtime/executor.cc:1197] [/device:CPU:0] (DEBUG INFO) Executor start aborting (this does not indicate an error and you can ignore this message): INVALID_ARGUMENT: You must feed a value for placeholder tensor 'Placeholder/_1' with dtype float and shape [167,4]\n",
      "\t [[{{node Placeholder/_1}}]]\n",
      "2024-12-30 15:13:12.717643: I tensorflow/core/common_runtime/executor.cc:1197] [/device:CPU:0] (DEBUG INFO) Executor start aborting (this does not indicate an error and you can ignore this message): INVALID_ARGUMENT: You must feed a value for placeholder tensor 'Placeholder/_1' with dtype float and shape [44,4]\n",
      "\t [[{{node Placeholder/_1}}]]\n",
      "2024-12-30 15:13:12.772689: I tensorflow/core/common_runtime/executor.cc:1197] [/device:CPU:0] (DEBUG INFO) Executor start aborting (this does not indicate an error and you can ignore this message): INVALID_ARGUMENT: You must feed a value for placeholder tensor 'Placeholder/_1' with dtype float and shape [176,4]\n",
      "\t [[{{node Placeholder/_1}}]]\n",
      "2024-12-30 15:13:12.918081: I tensorflow/core/common_runtime/executor.cc:1197] [/device:CPU:0] (DEBUG INFO) Executor start aborting (this does not indicate an error and you can ignore this message): INVALID_ARGUMENT: You must feed a value for placeholder tensor 'Placeholder/_1' with dtype float and shape [44,4]\n",
      "\t [[{{node Placeholder/_1}}]]\n",
      "2024-12-30 15:13:12.972592: I tensorflow/core/common_runtime/executor.cc:1197] [/device:CPU:0] (DEBUG INFO) Executor start aborting (this does not indicate an error and you can ignore this message): INVALID_ARGUMENT: You must feed a value for placeholder tensor 'Placeholder/_1' with dtype float and shape [176,4]\n",
      "\t [[{{node Placeholder/_1}}]]\n",
      "2024-12-30 15:13:13.122853: I tensorflow/core/common_runtime/executor.cc:1197] [/device:CPU:0] (DEBUG INFO) Executor start aborting (this does not indicate an error and you can ignore this message): INVALID_ARGUMENT: You must feed a value for placeholder tensor 'Placeholder/_1' with dtype float and shape [44,4]\n",
      "\t [[{{node Placeholder/_1}}]]\n",
      "2024-12-30 15:13:13.176550: I tensorflow/core/common_runtime/executor.cc:1197] [/device:CPU:0] (DEBUG INFO) Executor start aborting (this does not indicate an error and you can ignore this message): INVALID_ARGUMENT: You must feed a value for placeholder tensor 'Placeholder/_1' with dtype float and shape [176,4]\n",
      "\t [[{{node Placeholder/_1}}]]\n",
      "2024-12-30 15:13:13.323196: I tensorflow/core/common_runtime/executor.cc:1197] [/device:CPU:0] (DEBUG INFO) Executor start aborting (this does not indicate an error and you can ignore this message): INVALID_ARGUMENT: You must feed a value for placeholder tensor 'Placeholder/_1' with dtype float and shape [44,4]\n",
      "\t [[{{node Placeholder/_1}}]]\n",
      "2024-12-30 15:13:13.377206: I tensorflow/core/common_runtime/executor.cc:1197] [/device:CPU:0] (DEBUG INFO) Executor start aborting (this does not indicate an error and you can ignore this message): INVALID_ARGUMENT: You must feed a value for placeholder tensor 'Placeholder/_1' with dtype float and shape [176,4]\n",
      "\t [[{{node Placeholder/_1}}]]\n",
      "2024-12-30 15:13:13.527117: I tensorflow/core/common_runtime/executor.cc:1197] [/device:CPU:0] (DEBUG INFO) Executor start aborting (this does not indicate an error and you can ignore this message): INVALID_ARGUMENT: You must feed a value for placeholder tensor 'Placeholder/_1' with dtype float and shape [44,4]\n",
      "\t [[{{node Placeholder/_1}}]]\n",
      "2024-12-30 15:13:13.595306: I tensorflow/core/common_runtime/executor.cc:1197] [/device:CPU:0] (DEBUG INFO) Executor start aborting (this does not indicate an error and you can ignore this message): INVALID_ARGUMENT: You must feed a value for placeholder tensor 'Placeholder/_1' with dtype float and shape [176,4]\n",
      "\t [[{{node Placeholder/_1}}]]\n",
      "2024-12-30 15:13:13.748899: I tensorflow/core/common_runtime/executor.cc:1197] [/device:CPU:0] (DEBUG INFO) Executor start aborting (this does not indicate an error and you can ignore this message): INVALID_ARGUMENT: You must feed a value for placeholder tensor 'Placeholder/_1' with dtype float and shape [50,4]\n",
      "\t [[{{node Placeholder/_1}}]]\n",
      "2024-12-30 15:13:13.805425: I tensorflow/core/common_runtime/executor.cc:1197] [/device:CPU:0] (DEBUG INFO) Executor start aborting (this does not indicate an error and you can ignore this message): INVALID_ARGUMENT: You must feed a value for placeholder tensor 'Placeholder/_1' with dtype float and shape [199,4]\n",
      "\t [[{{node Placeholder/_1}}]]\n",
      "2024-12-30 15:13:13.970566: I tensorflow/core/common_runtime/executor.cc:1197] [/device:CPU:0] (DEBUG INFO) Executor start aborting (this does not indicate an error and you can ignore this message): INVALID_ARGUMENT: You must feed a value for placeholder tensor 'Placeholder/_1' with dtype float and shape [50,4]\n",
      "\t [[{{node Placeholder/_1}}]]\n",
      "2024-12-30 15:13:14.029346: I tensorflow/core/common_runtime/executor.cc:1197] [/device:CPU:0] (DEBUG INFO) Executor start aborting (this does not indicate an error and you can ignore this message): INVALID_ARGUMENT: You must feed a value for placeholder tensor 'Placeholder/_1' with dtype float and shape [199,4]\n",
      "\t [[{{node Placeholder/_1}}]]\n",
      "2024-12-30 15:13:14.194361: I tensorflow/core/common_runtime/executor.cc:1197] [/device:CPU:0] (DEBUG INFO) Executor start aborting (this does not indicate an error and you can ignore this message): INVALID_ARGUMENT: You must feed a value for placeholder tensor 'Placeholder/_1' with dtype float and shape [50,4]\n",
      "\t [[{{node Placeholder/_1}}]]\n",
      "2024-12-30 15:13:14.252949: I tensorflow/core/common_runtime/executor.cc:1197] [/device:CPU:0] (DEBUG INFO) Executor start aborting (this does not indicate an error and you can ignore this message): INVALID_ARGUMENT: You must feed a value for placeholder tensor 'Placeholder/_1' with dtype float and shape [199,4]\n",
      "\t [[{{node Placeholder/_1}}]]\n",
      "2024-12-30 15:13:14.418890: I tensorflow/core/common_runtime/executor.cc:1197] [/device:CPU:0] (DEBUG INFO) Executor start aborting (this does not indicate an error and you can ignore this message): INVALID_ARGUMENT: You must feed a value for placeholder tensor 'Placeholder/_1' with dtype float and shape [50,4]\n",
      "\t [[{{node Placeholder/_1}}]]\n",
      "2024-12-30 15:13:14.476367: I tensorflow/core/common_runtime/executor.cc:1197] [/device:CPU:0] (DEBUG INFO) Executor start aborting (this does not indicate an error and you can ignore this message): INVALID_ARGUMENT: You must feed a value for placeholder tensor 'Placeholder/_1' with dtype float and shape [199,4]\n",
      "\t [[{{node Placeholder/_1}}]]\n",
      "2024-12-30 15:13:14.644448: I tensorflow/core/common_runtime/executor.cc:1197] [/device:CPU:0] (DEBUG INFO) Executor start aborting (this does not indicate an error and you can ignore this message): INVALID_ARGUMENT: You must feed a value for placeholder tensor 'Placeholder/_1' with dtype float and shape [50,4]\n",
      "\t [[{{node Placeholder/_1}}]]\n",
      "2024-12-30 15:13:14.705320: I tensorflow/core/common_runtime/executor.cc:1197] [/device:CPU:0] (DEBUG INFO) Executor start aborting (this does not indicate an error and you can ignore this message): INVALID_ARGUMENT: You must feed a value for placeholder tensor 'Placeholder/_1' with dtype float and shape [199,4]\n",
      "\t [[{{node Placeholder/_1}}]]\n",
      "2024-12-30 15:13:14.870949: I tensorflow/core/common_runtime/executor.cc:1197] [/device:CPU:0] (DEBUG INFO) Executor start aborting (this does not indicate an error and you can ignore this message): INVALID_ARGUMENT: You must feed a value for placeholder tensor 'Placeholder/_1' with dtype float and shape [53,4]\n",
      "\t [[{{node Placeholder/_1}}]]\n",
      "2024-12-30 15:13:14.931942: I tensorflow/core/common_runtime/executor.cc:1197] [/device:CPU:0] (DEBUG INFO) Executor start aborting (this does not indicate an error and you can ignore this message): INVALID_ARGUMENT: You must feed a value for placeholder tensor 'Placeholder/_1' with dtype float and shape [212,4]\n",
      "\t [[{{node Placeholder/_1}}]]\n",
      "2024-12-30 15:13:15.114650: I tensorflow/core/common_runtime/executor.cc:1197] [/device:CPU:0] (DEBUG INFO) Executor start aborting (this does not indicate an error and you can ignore this message): INVALID_ARGUMENT: You must feed a value for placeholder tensor 'Placeholder/_1' with dtype float and shape [53,4]\n",
      "\t [[{{node Placeholder/_1}}]]\n",
      "2024-12-30 15:13:15.176532: I tensorflow/core/common_runtime/executor.cc:1197] [/device:CPU:0] (DEBUG INFO) Executor start aborting (this does not indicate an error and you can ignore this message): INVALID_ARGUMENT: You must feed a value for placeholder tensor 'Placeholder/_1' with dtype float and shape [212,4]\n",
      "\t [[{{node Placeholder/_1}}]]\n",
      "2024-12-30 15:13:15.352929: I tensorflow/core/common_runtime/executor.cc:1197] [/device:CPU:0] (DEBUG INFO) Executor start aborting (this does not indicate an error and you can ignore this message): INVALID_ARGUMENT: You must feed a value for placeholder tensor 'Placeholder/_1' with dtype float and shape [53,4]\n",
      "\t [[{{node Placeholder/_1}}]]\n",
      "2024-12-30 15:13:15.413070: I tensorflow/core/common_runtime/executor.cc:1197] [/device:CPU:0] (DEBUG INFO) Executor start aborting (this does not indicate an error and you can ignore this message): INVALID_ARGUMENT: You must feed a value for placeholder tensor 'Placeholder/_1' with dtype float and shape [212,4]\n",
      "\t [[{{node Placeholder/_1}}]]\n",
      "2024-12-30 15:13:15.587498: I tensorflow/core/common_runtime/executor.cc:1197] [/device:CPU:0] (DEBUG INFO) Executor start aborting (this does not indicate an error and you can ignore this message): INVALID_ARGUMENT: You must feed a value for placeholder tensor 'Placeholder/_1' with dtype float and shape [53,4]\n",
      "\t [[{{node Placeholder/_1}}]]\n",
      "2024-12-30 15:13:15.646672: I tensorflow/core/common_runtime/executor.cc:1197] [/device:CPU:0] (DEBUG INFO) Executor start aborting (this does not indicate an error and you can ignore this message): INVALID_ARGUMENT: You must feed a value for placeholder tensor 'Placeholder/_1' with dtype float and shape [212,4]\n",
      "\t [[{{node Placeholder/_1}}]]\n",
      "2024-12-30 15:13:15.820615: I tensorflow/core/common_runtime/executor.cc:1197] [/device:CPU:0] (DEBUG INFO) Executor start aborting (this does not indicate an error and you can ignore this message): INVALID_ARGUMENT: You must feed a value for placeholder tensor 'Placeholder/_1' with dtype float and shape [53,4]\n",
      "\t [[{{node Placeholder/_1}}]]\n",
      "2024-12-30 15:13:15.879612: I tensorflow/core/common_runtime/executor.cc:1197] [/device:CPU:0] (DEBUG INFO) Executor start aborting (this does not indicate an error and you can ignore this message): INVALID_ARGUMENT: You must feed a value for placeholder tensor 'Placeholder/_1' with dtype float and shape [212,4]\n",
      "\t [[{{node Placeholder/_1}}]]\n",
      "2024-12-30 15:13:16.058094: I tensorflow/core/common_runtime/executor.cc:1197] [/device:CPU:0] (DEBUG INFO) Executor start aborting (this does not indicate an error and you can ignore this message): INVALID_ARGUMENT: You must feed a value for placeholder tensor 'Placeholder/_1' with dtype float and shape [39,4]\n",
      "\t [[{{node Placeholder/_1}}]]\n",
      "2024-12-30 15:13:16.108300: I tensorflow/core/common_runtime/executor.cc:1197] [/device:CPU:0] (DEBUG INFO) Executor start aborting (this does not indicate an error and you can ignore this message): INVALID_ARGUMENT: You must feed a value for placeholder tensor 'Placeholder/_1' with dtype float and shape [156,4]\n",
      "\t [[{{node Placeholder/_1}}]]\n",
      "2024-12-30 15:13:16.237041: I tensorflow/core/common_runtime/executor.cc:1197] [/device:CPU:0] (DEBUG INFO) Executor start aborting (this does not indicate an error and you can ignore this message): INVALID_ARGUMENT: You must feed a value for placeholder tensor 'Placeholder/_1' with dtype float and shape [39,4]\n",
      "\t [[{{node Placeholder/_1}}]]\n",
      "2024-12-30 15:13:16.284102: I tensorflow/core/common_runtime/executor.cc:1197] [/device:CPU:0] (DEBUG INFO) Executor start aborting (this does not indicate an error and you can ignore this message): INVALID_ARGUMENT: You must feed a value for placeholder tensor 'Placeholder/_1' with dtype float and shape [156,4]\n",
      "\t [[{{node Placeholder/_1}}]]\n",
      "2024-12-30 15:13:16.414180: I tensorflow/core/common_runtime/executor.cc:1197] [/device:CPU:0] (DEBUG INFO) Executor start aborting (this does not indicate an error and you can ignore this message): INVALID_ARGUMENT: You must feed a value for placeholder tensor 'Placeholder/_1' with dtype float and shape [39,4]\n",
      "\t [[{{node Placeholder/_1}}]]\n",
      "2024-12-30 15:13:16.460172: I tensorflow/core/common_runtime/executor.cc:1197] [/device:CPU:0] (DEBUG INFO) Executor start aborting (this does not indicate an error and you can ignore this message): INVALID_ARGUMENT: You must feed a value for placeholder tensor 'Placeholder/_1' with dtype float and shape [156,4]\n",
      "\t [[{{node Placeholder/_1}}]]\n",
      "2024-12-30 15:13:16.591598: I tensorflow/core/common_runtime/executor.cc:1197] [/device:CPU:0] (DEBUG INFO) Executor start aborting (this does not indicate an error and you can ignore this message): INVALID_ARGUMENT: You must feed a value for placeholder tensor 'Placeholder/_1' with dtype float and shape [39,4]\n",
      "\t [[{{node Placeholder/_1}}]]\n",
      "2024-12-30 15:13:16.637550: I tensorflow/core/common_runtime/executor.cc:1197] [/device:CPU:0] (DEBUG INFO) Executor start aborting (this does not indicate an error and you can ignore this message): INVALID_ARGUMENT: You must feed a value for placeholder tensor 'Placeholder/_1' with dtype float and shape [156,4]\n",
      "\t [[{{node Placeholder/_1}}]]\n",
      "2024-12-30 15:13:16.773059: I tensorflow/core/common_runtime/executor.cc:1197] [/device:CPU:0] (DEBUG INFO) Executor start aborting (this does not indicate an error and you can ignore this message): INVALID_ARGUMENT: You must feed a value for placeholder tensor 'Placeholder/_1' with dtype float and shape [39,4]\n",
      "\t [[{{node Placeholder/_1}}]]\n",
      "2024-12-30 15:13:16.818695: I tensorflow/core/common_runtime/executor.cc:1197] [/device:CPU:0] (DEBUG INFO) Executor start aborting (this does not indicate an error and you can ignore this message): INVALID_ARGUMENT: You must feed a value for placeholder tensor 'Placeholder/_1' with dtype float and shape [156,4]\n",
      "\t [[{{node Placeholder/_1}}]]\n"
     ]
    },
    {
     "name": "stdout",
     "output_type": "stream",
     "text": [
      "Time taken for round  5: 00:00:24\n",
      "Estimated remaining time: 00:43:47\n",
      "\n",
      "Round  6: \t global_test_loss=1.3182, global_test_accuracy=0.8912 \n",
      "\t\tglobal_train_loss=1.3175, global_train_accuracy=0.8969\n"
     ]
    },
    {
     "name": "stderr",
     "output_type": "stream",
     "text": [
      "2024-12-30 15:13:43.078874: I tensorflow/core/common_runtime/executor.cc:1197] [/device:CPU:0] (DEBUG INFO) Executor start aborting (this does not indicate an error and you can ignore this message): INVALID_ARGUMENT: You must feed a value for placeholder tensor 'Placeholder/_1' with dtype float and shape [42,4]\n",
      "\t [[{{node Placeholder/_1}}]]\n",
      "2024-12-30 15:13:43.130716: I tensorflow/core/common_runtime/executor.cc:1197] [/device:CPU:0] (DEBUG INFO) Executor start aborting (this does not indicate an error and you can ignore this message): INVALID_ARGUMENT: You must feed a value for placeholder tensor 'Placeholder/_1' with dtype float and shape [167,4]\n",
      "\t [[{{node Placeholder/_1}}]]\n",
      "2024-12-30 15:13:43.269546: I tensorflow/core/common_runtime/executor.cc:1197] [/device:CPU:0] (DEBUG INFO) Executor start aborting (this does not indicate an error and you can ignore this message): INVALID_ARGUMENT: You must feed a value for placeholder tensor 'Placeholder/_1' with dtype float and shape [42,4]\n",
      "\t [[{{node Placeholder/_1}}]]\n",
      "2024-12-30 15:13:43.320598: I tensorflow/core/common_runtime/executor.cc:1197] [/device:CPU:0] (DEBUG INFO) Executor start aborting (this does not indicate an error and you can ignore this message): INVALID_ARGUMENT: You must feed a value for placeholder tensor 'Placeholder/_1' with dtype float and shape [167,4]\n",
      "\t [[{{node Placeholder/_1}}]]\n",
      "2024-12-30 15:13:43.462039: I tensorflow/core/common_runtime/executor.cc:1197] [/device:CPU:0] (DEBUG INFO) Executor start aborting (this does not indicate an error and you can ignore this message): INVALID_ARGUMENT: You must feed a value for placeholder tensor 'Placeholder/_1' with dtype float and shape [42,4]\n",
      "\t [[{{node Placeholder/_1}}]]\n",
      "2024-12-30 15:13:43.513885: I tensorflow/core/common_runtime/executor.cc:1197] [/device:CPU:0] (DEBUG INFO) Executor start aborting (this does not indicate an error and you can ignore this message): INVALID_ARGUMENT: You must feed a value for placeholder tensor 'Placeholder/_1' with dtype float and shape [167,4]\n",
      "\t [[{{node Placeholder/_1}}]]\n",
      "2024-12-30 15:13:43.663159: I tensorflow/core/common_runtime/executor.cc:1197] [/device:CPU:0] (DEBUG INFO) Executor start aborting (this does not indicate an error and you can ignore this message): INVALID_ARGUMENT: You must feed a value for placeholder tensor 'Placeholder/_1' with dtype float and shape [42,4]\n",
      "\t [[{{node Placeholder/_1}}]]\n",
      "2024-12-30 15:13:43.714438: I tensorflow/core/common_runtime/executor.cc:1197] [/device:CPU:0] (DEBUG INFO) Executor start aborting (this does not indicate an error and you can ignore this message): INVALID_ARGUMENT: You must feed a value for placeholder tensor 'Placeholder/_1' with dtype float and shape [167,4]\n",
      "\t [[{{node Placeholder/_1}}]]\n",
      "2024-12-30 15:13:43.851347: I tensorflow/core/common_runtime/executor.cc:1197] [/device:CPU:0] (DEBUG INFO) Executor start aborting (this does not indicate an error and you can ignore this message): INVALID_ARGUMENT: You must feed a value for placeholder tensor 'Placeholder/_1' with dtype float and shape [42,4]\n",
      "\t [[{{node Placeholder/_1}}]]\n",
      "2024-12-30 15:13:43.902074: I tensorflow/core/common_runtime/executor.cc:1197] [/device:CPU:0] (DEBUG INFO) Executor start aborting (this does not indicate an error and you can ignore this message): INVALID_ARGUMENT: You must feed a value for placeholder tensor 'Placeholder/_1' with dtype float and shape [167,4]\n",
      "\t [[{{node Placeholder/_1}}]]\n",
      "2024-12-30 15:13:44.040050: I tensorflow/core/common_runtime/executor.cc:1197] [/device:CPU:0] (DEBUG INFO) Executor start aborting (this does not indicate an error and you can ignore this message): INVALID_ARGUMENT: You must feed a value for placeholder tensor 'Placeholder/_1' with dtype float and shape [44,4]\n",
      "\t [[{{node Placeholder/_1}}]]\n",
      "2024-12-30 15:13:44.094882: I tensorflow/core/common_runtime/executor.cc:1197] [/device:CPU:0] (DEBUG INFO) Executor start aborting (this does not indicate an error and you can ignore this message): INVALID_ARGUMENT: You must feed a value for placeholder tensor 'Placeholder/_1' with dtype float and shape [176,4]\n",
      "\t [[{{node Placeholder/_1}}]]\n",
      "2024-12-30 15:13:44.240231: I tensorflow/core/common_runtime/executor.cc:1197] [/device:CPU:0] (DEBUG INFO) Executor start aborting (this does not indicate an error and you can ignore this message): INVALID_ARGUMENT: You must feed a value for placeholder tensor 'Placeholder/_1' with dtype float and shape [44,4]\n",
      "\t [[{{node Placeholder/_1}}]]\n",
      "2024-12-30 15:13:44.292359: I tensorflow/core/common_runtime/executor.cc:1197] [/device:CPU:0] (DEBUG INFO) Executor start aborting (this does not indicate an error and you can ignore this message): INVALID_ARGUMENT: You must feed a value for placeholder tensor 'Placeholder/_1' with dtype float and shape [176,4]\n",
      "\t [[{{node Placeholder/_1}}]]\n",
      "2024-12-30 15:13:44.436696: I tensorflow/core/common_runtime/executor.cc:1197] [/device:CPU:0] (DEBUG INFO) Executor start aborting (this does not indicate an error and you can ignore this message): INVALID_ARGUMENT: You must feed a value for placeholder tensor 'Placeholder/_1' with dtype float and shape [44,4]\n",
      "\t [[{{node Placeholder/_1}}]]\n",
      "2024-12-30 15:13:44.490140: I tensorflow/core/common_runtime/executor.cc:1197] [/device:CPU:0] (DEBUG INFO) Executor start aborting (this does not indicate an error and you can ignore this message): INVALID_ARGUMENT: You must feed a value for placeholder tensor 'Placeholder/_1' with dtype float and shape [176,4]\n",
      "\t [[{{node Placeholder/_1}}]]\n",
      "2024-12-30 15:13:44.632311: I tensorflow/core/common_runtime/executor.cc:1197] [/device:CPU:0] (DEBUG INFO) Executor start aborting (this does not indicate an error and you can ignore this message): INVALID_ARGUMENT: You must feed a value for placeholder tensor 'Placeholder/_1' with dtype float and shape [44,4]\n",
      "\t [[{{node Placeholder/_1}}]]\n",
      "2024-12-30 15:13:44.684658: I tensorflow/core/common_runtime/executor.cc:1197] [/device:CPU:0] (DEBUG INFO) Executor start aborting (this does not indicate an error and you can ignore this message): INVALID_ARGUMENT: You must feed a value for placeholder tensor 'Placeholder/_1' with dtype float and shape [176,4]\n",
      "\t [[{{node Placeholder/_1}}]]\n",
      "2024-12-30 15:13:44.825964: I tensorflow/core/common_runtime/executor.cc:1197] [/device:CPU:0] (DEBUG INFO) Executor start aborting (this does not indicate an error and you can ignore this message): INVALID_ARGUMENT: You must feed a value for placeholder tensor 'Placeholder/_1' with dtype float and shape [44,4]\n",
      "\t [[{{node Placeholder/_1}}]]\n",
      "2024-12-30 15:13:44.881459: I tensorflow/core/common_runtime/executor.cc:1197] [/device:CPU:0] (DEBUG INFO) Executor start aborting (this does not indicate an error and you can ignore this message): INVALID_ARGUMENT: You must feed a value for placeholder tensor 'Placeholder/_1' with dtype float and shape [176,4]\n",
      "\t [[{{node Placeholder/_1}}]]\n",
      "2024-12-30 15:13:45.025805: I tensorflow/core/common_runtime/executor.cc:1197] [/device:CPU:0] (DEBUG INFO) Executor start aborting (this does not indicate an error and you can ignore this message): INVALID_ARGUMENT: You must feed a value for placeholder tensor 'Placeholder/_1' with dtype float and shape [50,4]\n",
      "\t [[{{node Placeholder/_1}}]]\n",
      "2024-12-30 15:13:45.083067: I tensorflow/core/common_runtime/executor.cc:1197] [/device:CPU:0] (DEBUG INFO) Executor start aborting (this does not indicate an error and you can ignore this message): INVALID_ARGUMENT: You must feed a value for placeholder tensor 'Placeholder/_1' with dtype float and shape [199,4]\n",
      "\t [[{{node Placeholder/_1}}]]\n",
      "2024-12-30 15:13:45.241919: I tensorflow/core/common_runtime/executor.cc:1197] [/device:CPU:0] (DEBUG INFO) Executor start aborting (this does not indicate an error and you can ignore this message): INVALID_ARGUMENT: You must feed a value for placeholder tensor 'Placeholder/_1' with dtype float and shape [50,4]\n",
      "\t [[{{node Placeholder/_1}}]]\n",
      "2024-12-30 15:13:45.297159: I tensorflow/core/common_runtime/executor.cc:1197] [/device:CPU:0] (DEBUG INFO) Executor start aborting (this does not indicate an error and you can ignore this message): INVALID_ARGUMENT: You must feed a value for placeholder tensor 'Placeholder/_1' with dtype float and shape [199,4]\n",
      "\t [[{{node Placeholder/_1}}]]\n",
      "2024-12-30 15:13:45.455845: I tensorflow/core/common_runtime/executor.cc:1197] [/device:CPU:0] (DEBUG INFO) Executor start aborting (this does not indicate an error and you can ignore this message): INVALID_ARGUMENT: You must feed a value for placeholder tensor 'Placeholder/_1' with dtype float and shape [50,4]\n",
      "\t [[{{node Placeholder/_1}}]]\n",
      "2024-12-30 15:13:45.513858: I tensorflow/core/common_runtime/executor.cc:1197] [/device:CPU:0] (DEBUG INFO) Executor start aborting (this does not indicate an error and you can ignore this message): INVALID_ARGUMENT: You must feed a value for placeholder tensor 'Placeholder/_1' with dtype float and shape [199,4]\n",
      "\t [[{{node Placeholder/_1}}]]\n",
      "2024-12-30 15:13:45.682852: I tensorflow/core/common_runtime/executor.cc:1197] [/device:CPU:0] (DEBUG INFO) Executor start aborting (this does not indicate an error and you can ignore this message): INVALID_ARGUMENT: You must feed a value for placeholder tensor 'Placeholder/_1' with dtype float and shape [50,4]\n",
      "\t [[{{node Placeholder/_1}}]]\n",
      "2024-12-30 15:13:45.738782: I tensorflow/core/common_runtime/executor.cc:1197] [/device:CPU:0] (DEBUG INFO) Executor start aborting (this does not indicate an error and you can ignore this message): INVALID_ARGUMENT: You must feed a value for placeholder tensor 'Placeholder/_1' with dtype float and shape [199,4]\n",
      "\t [[{{node Placeholder/_1}}]]\n",
      "2024-12-30 15:13:45.897971: I tensorflow/core/common_runtime/executor.cc:1197] [/device:CPU:0] (DEBUG INFO) Executor start aborting (this does not indicate an error and you can ignore this message): INVALID_ARGUMENT: You must feed a value for placeholder tensor 'Placeholder/_1' with dtype float and shape [50,4]\n",
      "\t [[{{node Placeholder/_1}}]]\n",
      "2024-12-30 15:13:45.954600: I tensorflow/core/common_runtime/executor.cc:1197] [/device:CPU:0] (DEBUG INFO) Executor start aborting (this does not indicate an error and you can ignore this message): INVALID_ARGUMENT: You must feed a value for placeholder tensor 'Placeholder/_1' with dtype float and shape [199,4]\n",
      "\t [[{{node Placeholder/_1}}]]\n",
      "2024-12-30 15:13:46.109411: I tensorflow/core/common_runtime/executor.cc:1197] [/device:CPU:0] (DEBUG INFO) Executor start aborting (this does not indicate an error and you can ignore this message): INVALID_ARGUMENT: You must feed a value for placeholder tensor 'Placeholder/_1' with dtype float and shape [53,4]\n",
      "\t [[{{node Placeholder/_1}}]]\n",
      "2024-12-30 15:13:46.166929: I tensorflow/core/common_runtime/executor.cc:1197] [/device:CPU:0] (DEBUG INFO) Executor start aborting (this does not indicate an error and you can ignore this message): INVALID_ARGUMENT: You must feed a value for placeholder tensor 'Placeholder/_1' with dtype float and shape [212,4]\n",
      "\t [[{{node Placeholder/_1}}]]\n",
      "2024-12-30 15:13:46.334205: I tensorflow/core/common_runtime/executor.cc:1197] [/device:CPU:0] (DEBUG INFO) Executor start aborting (this does not indicate an error and you can ignore this message): INVALID_ARGUMENT: You must feed a value for placeholder tensor 'Placeholder/_1' with dtype float and shape [53,4]\n",
      "\t [[{{node Placeholder/_1}}]]\n",
      "2024-12-30 15:13:46.395108: I tensorflow/core/common_runtime/executor.cc:1197] [/device:CPU:0] (DEBUG INFO) Executor start aborting (this does not indicate an error and you can ignore this message): INVALID_ARGUMENT: You must feed a value for placeholder tensor 'Placeholder/_1' with dtype float and shape [212,4]\n",
      "\t [[{{node Placeholder/_1}}]]\n",
      "2024-12-30 15:13:46.570115: I tensorflow/core/common_runtime/executor.cc:1197] [/device:CPU:0] (DEBUG INFO) Executor start aborting (this does not indicate an error and you can ignore this message): INVALID_ARGUMENT: You must feed a value for placeholder tensor 'Placeholder/_1' with dtype float and shape [53,4]\n",
      "\t [[{{node Placeholder/_1}}]]\n",
      "2024-12-30 15:13:46.627203: I tensorflow/core/common_runtime/executor.cc:1197] [/device:CPU:0] (DEBUG INFO) Executor start aborting (this does not indicate an error and you can ignore this message): INVALID_ARGUMENT: You must feed a value for placeholder tensor 'Placeholder/_1' with dtype float and shape [212,4]\n",
      "\t [[{{node Placeholder/_1}}]]\n",
      "2024-12-30 15:13:46.795324: I tensorflow/core/common_runtime/executor.cc:1197] [/device:CPU:0] (DEBUG INFO) Executor start aborting (this does not indicate an error and you can ignore this message): INVALID_ARGUMENT: You must feed a value for placeholder tensor 'Placeholder/_1' with dtype float and shape [53,4]\n",
      "\t [[{{node Placeholder/_1}}]]\n",
      "2024-12-30 15:13:46.853263: I tensorflow/core/common_runtime/executor.cc:1197] [/device:CPU:0] (DEBUG INFO) Executor start aborting (this does not indicate an error and you can ignore this message): INVALID_ARGUMENT: You must feed a value for placeholder tensor 'Placeholder/_1' with dtype float and shape [212,4]\n",
      "\t [[{{node Placeholder/_1}}]]\n",
      "2024-12-30 15:13:47.018263: I tensorflow/core/common_runtime/executor.cc:1197] [/device:CPU:0] (DEBUG INFO) Executor start aborting (this does not indicate an error and you can ignore this message): INVALID_ARGUMENT: You must feed a value for placeholder tensor 'Placeholder/_1' with dtype float and shape [53,4]\n",
      "\t [[{{node Placeholder/_1}}]]\n",
      "2024-12-30 15:13:47.077041: I tensorflow/core/common_runtime/executor.cc:1197] [/device:CPU:0] (DEBUG INFO) Executor start aborting (this does not indicate an error and you can ignore this message): INVALID_ARGUMENT: You must feed a value for placeholder tensor 'Placeholder/_1' with dtype float and shape [212,4]\n",
      "\t [[{{node Placeholder/_1}}]]\n",
      "2024-12-30 15:13:47.246239: I tensorflow/core/common_runtime/executor.cc:1197] [/device:CPU:0] (DEBUG INFO) Executor start aborting (this does not indicate an error and you can ignore this message): INVALID_ARGUMENT: You must feed a value for placeholder tensor 'Placeholder/_1' with dtype float and shape [39,4]\n",
      "\t [[{{node Placeholder/_1}}]]\n",
      "2024-12-30 15:13:47.291546: I tensorflow/core/common_runtime/executor.cc:1197] [/device:CPU:0] (DEBUG INFO) Executor start aborting (this does not indicate an error and you can ignore this message): INVALID_ARGUMENT: You must feed a value for placeholder tensor 'Placeholder/_1' with dtype float and shape [156,4]\n",
      "\t [[{{node Placeholder/_1}}]]\n",
      "2024-12-30 15:13:47.418108: I tensorflow/core/common_runtime/executor.cc:1197] [/device:CPU:0] (DEBUG INFO) Executor start aborting (this does not indicate an error and you can ignore this message): INVALID_ARGUMENT: You must feed a value for placeholder tensor 'Placeholder/_1' with dtype float and shape [39,4]\n",
      "\t [[{{node Placeholder/_1}}]]\n",
      "2024-12-30 15:13:47.464081: I tensorflow/core/common_runtime/executor.cc:1197] [/device:CPU:0] (DEBUG INFO) Executor start aborting (this does not indicate an error and you can ignore this message): INVALID_ARGUMENT: You must feed a value for placeholder tensor 'Placeholder/_1' with dtype float and shape [156,4]\n",
      "\t [[{{node Placeholder/_1}}]]\n",
      "2024-12-30 15:13:47.591032: I tensorflow/core/common_runtime/executor.cc:1197] [/device:CPU:0] (DEBUG INFO) Executor start aborting (this does not indicate an error and you can ignore this message): INVALID_ARGUMENT: You must feed a value for placeholder tensor 'Placeholder/_1' with dtype float and shape [39,4]\n",
      "\t [[{{node Placeholder/_1}}]]\n",
      "2024-12-30 15:13:47.637814: I tensorflow/core/common_runtime/executor.cc:1197] [/device:CPU:0] (DEBUG INFO) Executor start aborting (this does not indicate an error and you can ignore this message): INVALID_ARGUMENT: You must feed a value for placeholder tensor 'Placeholder/_1' with dtype float and shape [156,4]\n",
      "\t [[{{node Placeholder/_1}}]]\n",
      "2024-12-30 15:13:47.767876: I tensorflow/core/common_runtime/executor.cc:1197] [/device:CPU:0] (DEBUG INFO) Executor start aborting (this does not indicate an error and you can ignore this message): INVALID_ARGUMENT: You must feed a value for placeholder tensor 'Placeholder/_1' with dtype float and shape [39,4]\n",
      "\t [[{{node Placeholder/_1}}]]\n",
      "2024-12-30 15:13:47.815027: I tensorflow/core/common_runtime/executor.cc:1197] [/device:CPU:0] (DEBUG INFO) Executor start aborting (this does not indicate an error and you can ignore this message): INVALID_ARGUMENT: You must feed a value for placeholder tensor 'Placeholder/_1' with dtype float and shape [156,4]\n",
      "\t [[{{node Placeholder/_1}}]]\n",
      "2024-12-30 15:13:47.947372: I tensorflow/core/common_runtime/executor.cc:1197] [/device:CPU:0] (DEBUG INFO) Executor start aborting (this does not indicate an error and you can ignore this message): INVALID_ARGUMENT: You must feed a value for placeholder tensor 'Placeholder/_1' with dtype float and shape [39,4]\n",
      "\t [[{{node Placeholder/_1}}]]\n",
      "2024-12-30 15:13:47.992731: I tensorflow/core/common_runtime/executor.cc:1197] [/device:CPU:0] (DEBUG INFO) Executor start aborting (this does not indicate an error and you can ignore this message): INVALID_ARGUMENT: You must feed a value for placeholder tensor 'Placeholder/_1' with dtype float and shape [156,4]\n",
      "\t [[{{node Placeholder/_1}}]]\n"
     ]
    },
    {
     "name": "stdout",
     "output_type": "stream",
     "text": [
      "Time taken for round  6: 00:00:31\n",
      "Estimated remaining time: 00:44:15\n",
      "\n",
      "Round  7: \t global_test_loss=1.3105, global_test_accuracy=0.8912 \n",
      "\t\tglobal_train_loss=1.3081, global_train_accuracy=0.8969\n"
     ]
    },
    {
     "name": "stderr",
     "output_type": "stream",
     "text": [
      "2024-12-30 15:14:11.879411: I tensorflow/core/common_runtime/executor.cc:1197] [/device:CPU:0] (DEBUG INFO) Executor start aborting (this does not indicate an error and you can ignore this message): INVALID_ARGUMENT: You must feed a value for placeholder tensor 'Placeholder/_1' with dtype float and shape [42,4]\n",
      "\t [[{{node Placeholder/_1}}]]\n",
      "2024-12-30 15:14:11.932932: I tensorflow/core/common_runtime/executor.cc:1197] [/device:CPU:0] (DEBUG INFO) Executor start aborting (this does not indicate an error and you can ignore this message): INVALID_ARGUMENT: You must feed a value for placeholder tensor 'Placeholder/_1' with dtype float and shape [167,4]\n",
      "\t [[{{node Placeholder/_1}}]]\n",
      "2024-12-30 15:14:12.069093: I tensorflow/core/common_runtime/executor.cc:1197] [/device:CPU:0] (DEBUG INFO) Executor start aborting (this does not indicate an error and you can ignore this message): INVALID_ARGUMENT: You must feed a value for placeholder tensor 'Placeholder/_1' with dtype float and shape [42,4]\n",
      "\t [[{{node Placeholder/_1}}]]\n",
      "2024-12-30 15:14:12.125655: I tensorflow/core/common_runtime/executor.cc:1197] [/device:CPU:0] (DEBUG INFO) Executor start aborting (this does not indicate an error and you can ignore this message): INVALID_ARGUMENT: You must feed a value for placeholder tensor 'Placeholder/_1' with dtype float and shape [167,4]\n",
      "\t [[{{node Placeholder/_1}}]]\n",
      "2024-12-30 15:14:12.264561: I tensorflow/core/common_runtime/executor.cc:1197] [/device:CPU:0] (DEBUG INFO) Executor start aborting (this does not indicate an error and you can ignore this message): INVALID_ARGUMENT: You must feed a value for placeholder tensor 'Placeholder/_1' with dtype float and shape [42,4]\n",
      "\t [[{{node Placeholder/_1}}]]\n",
      "2024-12-30 15:14:12.315463: I tensorflow/core/common_runtime/executor.cc:1197] [/device:CPU:0] (DEBUG INFO) Executor start aborting (this does not indicate an error and you can ignore this message): INVALID_ARGUMENT: You must feed a value for placeholder tensor 'Placeholder/_1' with dtype float and shape [167,4]\n",
      "\t [[{{node Placeholder/_1}}]]\n",
      "2024-12-30 15:14:12.451553: I tensorflow/core/common_runtime/executor.cc:1197] [/device:CPU:0] (DEBUG INFO) Executor start aborting (this does not indicate an error and you can ignore this message): INVALID_ARGUMENT: You must feed a value for placeholder tensor 'Placeholder/_1' with dtype float and shape [42,4]\n",
      "\t [[{{node Placeholder/_1}}]]\n",
      "2024-12-30 15:14:12.501985: I tensorflow/core/common_runtime/executor.cc:1197] [/device:CPU:0] (DEBUG INFO) Executor start aborting (this does not indicate an error and you can ignore this message): INVALID_ARGUMENT: You must feed a value for placeholder tensor 'Placeholder/_1' with dtype float and shape [167,4]\n",
      "\t [[{{node Placeholder/_1}}]]\n",
      "2024-12-30 15:14:12.642919: I tensorflow/core/common_runtime/executor.cc:1197] [/device:CPU:0] (DEBUG INFO) Executor start aborting (this does not indicate an error and you can ignore this message): INVALID_ARGUMENT: You must feed a value for placeholder tensor 'Placeholder/_1' with dtype float and shape [42,4]\n",
      "\t [[{{node Placeholder/_1}}]]\n",
      "2024-12-30 15:14:12.694092: I tensorflow/core/common_runtime/executor.cc:1197] [/device:CPU:0] (DEBUG INFO) Executor start aborting (this does not indicate an error and you can ignore this message): INVALID_ARGUMENT: You must feed a value for placeholder tensor 'Placeholder/_1' with dtype float and shape [167,4]\n",
      "\t [[{{node Placeholder/_1}}]]\n",
      "2024-12-30 15:14:12.834580: I tensorflow/core/common_runtime/executor.cc:1197] [/device:CPU:0] (DEBUG INFO) Executor start aborting (this does not indicate an error and you can ignore this message): INVALID_ARGUMENT: You must feed a value for placeholder tensor 'Placeholder/_1' with dtype float and shape [44,4]\n",
      "\t [[{{node Placeholder/_1}}]]\n",
      "2024-12-30 15:14:12.888624: I tensorflow/core/common_runtime/executor.cc:1197] [/device:CPU:0] (DEBUG INFO) Executor start aborting (this does not indicate an error and you can ignore this message): INVALID_ARGUMENT: You must feed a value for placeholder tensor 'Placeholder/_1' with dtype float and shape [176,4]\n",
      "\t [[{{node Placeholder/_1}}]]\n",
      "2024-12-30 15:14:13.033318: I tensorflow/core/common_runtime/executor.cc:1197] [/device:CPU:0] (DEBUG INFO) Executor start aborting (this does not indicate an error and you can ignore this message): INVALID_ARGUMENT: You must feed a value for placeholder tensor 'Placeholder/_1' with dtype float and shape [44,4]\n",
      "\t [[{{node Placeholder/_1}}]]\n",
      "2024-12-30 15:14:13.085554: I tensorflow/core/common_runtime/executor.cc:1197] [/device:CPU:0] (DEBUG INFO) Executor start aborting (this does not indicate an error and you can ignore this message): INVALID_ARGUMENT: You must feed a value for placeholder tensor 'Placeholder/_1' with dtype float and shape [176,4]\n",
      "\t [[{{node Placeholder/_1}}]]\n",
      "2024-12-30 15:14:13.228085: I tensorflow/core/common_runtime/executor.cc:1197] [/device:CPU:0] (DEBUG INFO) Executor start aborting (this does not indicate an error and you can ignore this message): INVALID_ARGUMENT: You must feed a value for placeholder tensor 'Placeholder/_1' with dtype float and shape [44,4]\n",
      "\t [[{{node Placeholder/_1}}]]\n",
      "2024-12-30 15:14:13.282929: I tensorflow/core/common_runtime/executor.cc:1197] [/device:CPU:0] (DEBUG INFO) Executor start aborting (this does not indicate an error and you can ignore this message): INVALID_ARGUMENT: You must feed a value for placeholder tensor 'Placeholder/_1' with dtype float and shape [176,4]\n",
      "\t [[{{node Placeholder/_1}}]]\n",
      "2024-12-30 15:14:13.424647: I tensorflow/core/common_runtime/executor.cc:1197] [/device:CPU:0] (DEBUG INFO) Executor start aborting (this does not indicate an error and you can ignore this message): INVALID_ARGUMENT: You must feed a value for placeholder tensor 'Placeholder/_1' with dtype float and shape [44,4]\n",
      "\t [[{{node Placeholder/_1}}]]\n",
      "2024-12-30 15:14:13.476771: I tensorflow/core/common_runtime/executor.cc:1197] [/device:CPU:0] (DEBUG INFO) Executor start aborting (this does not indicate an error and you can ignore this message): INVALID_ARGUMENT: You must feed a value for placeholder tensor 'Placeholder/_1' with dtype float and shape [176,4]\n",
      "\t [[{{node Placeholder/_1}}]]\n",
      "2024-12-30 15:14:13.623906: I tensorflow/core/common_runtime/executor.cc:1197] [/device:CPU:0] (DEBUG INFO) Executor start aborting (this does not indicate an error and you can ignore this message): INVALID_ARGUMENT: You must feed a value for placeholder tensor 'Placeholder/_1' with dtype float and shape [44,4]\n",
      "\t [[{{node Placeholder/_1}}]]\n",
      "2024-12-30 15:14:13.679586: I tensorflow/core/common_runtime/executor.cc:1197] [/device:CPU:0] (DEBUG INFO) Executor start aborting (this does not indicate an error and you can ignore this message): INVALID_ARGUMENT: You must feed a value for placeholder tensor 'Placeholder/_1' with dtype float and shape [176,4]\n",
      "\t [[{{node Placeholder/_1}}]]\n",
      "2024-12-30 15:14:13.826498: I tensorflow/core/common_runtime/executor.cc:1197] [/device:CPU:0] (DEBUG INFO) Executor start aborting (this does not indicate an error and you can ignore this message): INVALID_ARGUMENT: You must feed a value for placeholder tensor 'Placeholder/_1' with dtype float and shape [50,4]\n",
      "\t [[{{node Placeholder/_1}}]]\n",
      "2024-12-30 15:14:13.887282: I tensorflow/core/common_runtime/executor.cc:1197] [/device:CPU:0] (DEBUG INFO) Executor start aborting (this does not indicate an error and you can ignore this message): INVALID_ARGUMENT: You must feed a value for placeholder tensor 'Placeholder/_1' with dtype float and shape [199,4]\n",
      "\t [[{{node Placeholder/_1}}]]\n",
      "2024-12-30 15:14:14.050034: I tensorflow/core/common_runtime/executor.cc:1197] [/device:CPU:0] (DEBUG INFO) Executor start aborting (this does not indicate an error and you can ignore this message): INVALID_ARGUMENT: You must feed a value for placeholder tensor 'Placeholder/_1' with dtype float and shape [50,4]\n",
      "\t [[{{node Placeholder/_1}}]]\n",
      "2024-12-30 15:14:14.106303: I tensorflow/core/common_runtime/executor.cc:1197] [/device:CPU:0] (DEBUG INFO) Executor start aborting (this does not indicate an error and you can ignore this message): INVALID_ARGUMENT: You must feed a value for placeholder tensor 'Placeholder/_1' with dtype float and shape [199,4]\n",
      "\t [[{{node Placeholder/_1}}]]\n",
      "2024-12-30 15:14:14.261089: I tensorflow/core/common_runtime/executor.cc:1197] [/device:CPU:0] (DEBUG INFO) Executor start aborting (this does not indicate an error and you can ignore this message): INVALID_ARGUMENT: You must feed a value for placeholder tensor 'Placeholder/_1' with dtype float and shape [50,4]\n",
      "\t [[{{node Placeholder/_1}}]]\n",
      "2024-12-30 15:14:14.318416: I tensorflow/core/common_runtime/executor.cc:1197] [/device:CPU:0] (DEBUG INFO) Executor start aborting (this does not indicate an error and you can ignore this message): INVALID_ARGUMENT: You must feed a value for placeholder tensor 'Placeholder/_1' with dtype float and shape [199,4]\n",
      "\t [[{{node Placeholder/_1}}]]\n",
      "2024-12-30 15:14:14.479950: I tensorflow/core/common_runtime/executor.cc:1197] [/device:CPU:0] (DEBUG INFO) Executor start aborting (this does not indicate an error and you can ignore this message): INVALID_ARGUMENT: You must feed a value for placeholder tensor 'Placeholder/_1' with dtype float and shape [50,4]\n",
      "\t [[{{node Placeholder/_1}}]]\n",
      "2024-12-30 15:14:14.538223: I tensorflow/core/common_runtime/executor.cc:1197] [/device:CPU:0] (DEBUG INFO) Executor start aborting (this does not indicate an error and you can ignore this message): INVALID_ARGUMENT: You must feed a value for placeholder tensor 'Placeholder/_1' with dtype float and shape [199,4]\n",
      "\t [[{{node Placeholder/_1}}]]\n",
      "2024-12-30 15:14:14.700548: I tensorflow/core/common_runtime/executor.cc:1197] [/device:CPU:0] (DEBUG INFO) Executor start aborting (this does not indicate an error and you can ignore this message): INVALID_ARGUMENT: You must feed a value for placeholder tensor 'Placeholder/_1' with dtype float and shape [50,4]\n",
      "\t [[{{node Placeholder/_1}}]]\n",
      "2024-12-30 15:14:14.757790: I tensorflow/core/common_runtime/executor.cc:1197] [/device:CPU:0] (DEBUG INFO) Executor start aborting (this does not indicate an error and you can ignore this message): INVALID_ARGUMENT: You must feed a value for placeholder tensor 'Placeholder/_1' with dtype float and shape [199,4]\n",
      "\t [[{{node Placeholder/_1}}]]\n",
      "2024-12-30 15:14:14.916516: I tensorflow/core/common_runtime/executor.cc:1197] [/device:CPU:0] (DEBUG INFO) Executor start aborting (this does not indicate an error and you can ignore this message): INVALID_ARGUMENT: You must feed a value for placeholder tensor 'Placeholder/_1' with dtype float and shape [53,4]\n",
      "\t [[{{node Placeholder/_1}}]]\n",
      "2024-12-30 15:14:14.978938: I tensorflow/core/common_runtime/executor.cc:1197] [/device:CPU:0] (DEBUG INFO) Executor start aborting (this does not indicate an error and you can ignore this message): INVALID_ARGUMENT: You must feed a value for placeholder tensor 'Placeholder/_1' with dtype float and shape [212,4]\n",
      "\t [[{{node Placeholder/_1}}]]\n",
      "2024-12-30 15:14:15.147957: I tensorflow/core/common_runtime/executor.cc:1197] [/device:CPU:0] (DEBUG INFO) Executor start aborting (this does not indicate an error and you can ignore this message): INVALID_ARGUMENT: You must feed a value for placeholder tensor 'Placeholder/_1' with dtype float and shape [53,4]\n",
      "\t [[{{node Placeholder/_1}}]]\n",
      "2024-12-30 15:14:15.204768: I tensorflow/core/common_runtime/executor.cc:1197] [/device:CPU:0] (DEBUG INFO) Executor start aborting (this does not indicate an error and you can ignore this message): INVALID_ARGUMENT: You must feed a value for placeholder tensor 'Placeholder/_1' with dtype float and shape [212,4]\n",
      "\t [[{{node Placeholder/_1}}]]\n",
      "2024-12-30 15:14:15.376885: I tensorflow/core/common_runtime/executor.cc:1197] [/device:CPU:0] (DEBUG INFO) Executor start aborting (this does not indicate an error and you can ignore this message): INVALID_ARGUMENT: You must feed a value for placeholder tensor 'Placeholder/_1' with dtype float and shape [53,4]\n",
      "\t [[{{node Placeholder/_1}}]]\n",
      "2024-12-30 15:14:15.435078: I tensorflow/core/common_runtime/executor.cc:1197] [/device:CPU:0] (DEBUG INFO) Executor start aborting (this does not indicate an error and you can ignore this message): INVALID_ARGUMENT: You must feed a value for placeholder tensor 'Placeholder/_1' with dtype float and shape [212,4]\n",
      "\t [[{{node Placeholder/_1}}]]\n",
      "2024-12-30 15:14:15.606212: I tensorflow/core/common_runtime/executor.cc:1197] [/device:CPU:0] (DEBUG INFO) Executor start aborting (this does not indicate an error and you can ignore this message): INVALID_ARGUMENT: You must feed a value for placeholder tensor 'Placeholder/_1' with dtype float and shape [53,4]\n",
      "\t [[{{node Placeholder/_1}}]]\n",
      "2024-12-30 15:14:15.663201: I tensorflow/core/common_runtime/executor.cc:1197] [/device:CPU:0] (DEBUG INFO) Executor start aborting (this does not indicate an error and you can ignore this message): INVALID_ARGUMENT: You must feed a value for placeholder tensor 'Placeholder/_1' with dtype float and shape [212,4]\n",
      "\t [[{{node Placeholder/_1}}]]\n",
      "2024-12-30 15:14:15.830023: I tensorflow/core/common_runtime/executor.cc:1197] [/device:CPU:0] (DEBUG INFO) Executor start aborting (this does not indicate an error and you can ignore this message): INVALID_ARGUMENT: You must feed a value for placeholder tensor 'Placeholder/_1' with dtype float and shape [53,4]\n",
      "\t [[{{node Placeholder/_1}}]]\n",
      "2024-12-30 15:14:15.889330: I tensorflow/core/common_runtime/executor.cc:1197] [/device:CPU:0] (DEBUG INFO) Executor start aborting (this does not indicate an error and you can ignore this message): INVALID_ARGUMENT: You must feed a value for placeholder tensor 'Placeholder/_1' with dtype float and shape [212,4]\n",
      "\t [[{{node Placeholder/_1}}]]\n",
      "2024-12-30 15:14:16.056766: I tensorflow/core/common_runtime/executor.cc:1197] [/device:CPU:0] (DEBUG INFO) Executor start aborting (this does not indicate an error and you can ignore this message): INVALID_ARGUMENT: You must feed a value for placeholder tensor 'Placeholder/_1' with dtype float and shape [39,4]\n",
      "\t [[{{node Placeholder/_1}}]]\n",
      "2024-12-30 15:14:16.103026: I tensorflow/core/common_runtime/executor.cc:1197] [/device:CPU:0] (DEBUG INFO) Executor start aborting (this does not indicate an error and you can ignore this message): INVALID_ARGUMENT: You must feed a value for placeholder tensor 'Placeholder/_1' with dtype float and shape [156,4]\n",
      "\t [[{{node Placeholder/_1}}]]\n",
      "2024-12-30 15:14:16.233362: I tensorflow/core/common_runtime/executor.cc:1197] [/device:CPU:0] (DEBUG INFO) Executor start aborting (this does not indicate an error and you can ignore this message): INVALID_ARGUMENT: You must feed a value for placeholder tensor 'Placeholder/_1' with dtype float and shape [39,4]\n",
      "\t [[{{node Placeholder/_1}}]]\n",
      "2024-12-30 15:14:16.280518: I tensorflow/core/common_runtime/executor.cc:1197] [/device:CPU:0] (DEBUG INFO) Executor start aborting (this does not indicate an error and you can ignore this message): INVALID_ARGUMENT: You must feed a value for placeholder tensor 'Placeholder/_1' with dtype float and shape [156,4]\n",
      "\t [[{{node Placeholder/_1}}]]\n",
      "2024-12-30 15:14:16.412626: I tensorflow/core/common_runtime/executor.cc:1197] [/device:CPU:0] (DEBUG INFO) Executor start aborting (this does not indicate an error and you can ignore this message): INVALID_ARGUMENT: You must feed a value for placeholder tensor 'Placeholder/_1' with dtype float and shape [39,4]\n",
      "\t [[{{node Placeholder/_1}}]]\n",
      "2024-12-30 15:14:16.461107: I tensorflow/core/common_runtime/executor.cc:1197] [/device:CPU:0] (DEBUG INFO) Executor start aborting (this does not indicate an error and you can ignore this message): INVALID_ARGUMENT: You must feed a value for placeholder tensor 'Placeholder/_1' with dtype float and shape [156,4]\n",
      "\t [[{{node Placeholder/_1}}]]\n",
      "2024-12-30 15:14:16.591311: I tensorflow/core/common_runtime/executor.cc:1197] [/device:CPU:0] (DEBUG INFO) Executor start aborting (this does not indicate an error and you can ignore this message): INVALID_ARGUMENT: You must feed a value for placeholder tensor 'Placeholder/_1' with dtype float and shape [39,4]\n",
      "\t [[{{node Placeholder/_1}}]]\n",
      "2024-12-30 15:14:16.638881: I tensorflow/core/common_runtime/executor.cc:1197] [/device:CPU:0] (DEBUG INFO) Executor start aborting (this does not indicate an error and you can ignore this message): INVALID_ARGUMENT: You must feed a value for placeholder tensor 'Placeholder/_1' with dtype float and shape [156,4]\n",
      "\t [[{{node Placeholder/_1}}]]\n",
      "2024-12-30 15:14:16.767282: I tensorflow/core/common_runtime/executor.cc:1197] [/device:CPU:0] (DEBUG INFO) Executor start aborting (this does not indicate an error and you can ignore this message): INVALID_ARGUMENT: You must feed a value for placeholder tensor 'Placeholder/_1' with dtype float and shape [39,4]\n",
      "\t [[{{node Placeholder/_1}}]]\n",
      "2024-12-30 15:14:16.811856: I tensorflow/core/common_runtime/executor.cc:1197] [/device:CPU:0] (DEBUG INFO) Executor start aborting (this does not indicate an error and you can ignore this message): INVALID_ARGUMENT: You must feed a value for placeholder tensor 'Placeholder/_1' with dtype float and shape [156,4]\n",
      "\t [[{{node Placeholder/_1}}]]\n"
     ]
    },
    {
     "name": "stdout",
     "output_type": "stream",
     "text": [
      "Time taken for round  7: 00:00:28\n",
      "Estimated remaining time: 00:43:54\n",
      "\n",
      "Round  8: \t global_test_loss=1.3035, global_test_accuracy=0.8904 \n",
      "\t\tglobal_train_loss=1.2999, global_train_accuracy=0.8974\n"
     ]
    },
    {
     "name": "stderr",
     "output_type": "stream",
     "text": [
      "2024-12-30 15:14:43.329795: I tensorflow/core/common_runtime/executor.cc:1197] [/device:CPU:0] (DEBUG INFO) Executor start aborting (this does not indicate an error and you can ignore this message): INVALID_ARGUMENT: You must feed a value for placeholder tensor 'Placeholder/_1' with dtype float and shape [42,4]\n",
      "\t [[{{node Placeholder/_1}}]]\n",
      "2024-12-30 15:14:43.380959: I tensorflow/core/common_runtime/executor.cc:1197] [/device:CPU:0] (DEBUG INFO) Executor start aborting (this does not indicate an error and you can ignore this message): INVALID_ARGUMENT: You must feed a value for placeholder tensor 'Placeholder/_1' with dtype float and shape [167,4]\n",
      "\t [[{{node Placeholder/_1}}]]\n",
      "2024-12-30 15:14:43.518171: I tensorflow/core/common_runtime/executor.cc:1197] [/device:CPU:0] (DEBUG INFO) Executor start aborting (this does not indicate an error and you can ignore this message): INVALID_ARGUMENT: You must feed a value for placeholder tensor 'Placeholder/_1' with dtype float and shape [42,4]\n",
      "\t [[{{node Placeholder/_1}}]]\n",
      "2024-12-30 15:14:43.583933: I tensorflow/core/common_runtime/executor.cc:1197] [/device:CPU:0] (DEBUG INFO) Executor start aborting (this does not indicate an error and you can ignore this message): INVALID_ARGUMENT: You must feed a value for placeholder tensor 'Placeholder/_1' with dtype float and shape [167,4]\n",
      "\t [[{{node Placeholder/_1}}]]\n",
      "2024-12-30 15:14:43.723498: I tensorflow/core/common_runtime/executor.cc:1197] [/device:CPU:0] (DEBUG INFO) Executor start aborting (this does not indicate an error and you can ignore this message): INVALID_ARGUMENT: You must feed a value for placeholder tensor 'Placeholder/_1' with dtype float and shape [42,4]\n",
      "\t [[{{node Placeholder/_1}}]]\n",
      "2024-12-30 15:14:43.775363: I tensorflow/core/common_runtime/executor.cc:1197] [/device:CPU:0] (DEBUG INFO) Executor start aborting (this does not indicate an error and you can ignore this message): INVALID_ARGUMENT: You must feed a value for placeholder tensor 'Placeholder/_1' with dtype float and shape [167,4]\n",
      "\t [[{{node Placeholder/_1}}]]\n",
      "2024-12-30 15:14:43.913974: I tensorflow/core/common_runtime/executor.cc:1197] [/device:CPU:0] (DEBUG INFO) Executor start aborting (this does not indicate an error and you can ignore this message): INVALID_ARGUMENT: You must feed a value for placeholder tensor 'Placeholder/_1' with dtype float and shape [42,4]\n",
      "\t [[{{node Placeholder/_1}}]]\n",
      "2024-12-30 15:14:43.965264: I tensorflow/core/common_runtime/executor.cc:1197] [/device:CPU:0] (DEBUG INFO) Executor start aborting (this does not indicate an error and you can ignore this message): INVALID_ARGUMENT: You must feed a value for placeholder tensor 'Placeholder/_1' with dtype float and shape [167,4]\n",
      "\t [[{{node Placeholder/_1}}]]\n",
      "2024-12-30 15:14:44.101972: I tensorflow/core/common_runtime/executor.cc:1197] [/device:CPU:0] (DEBUG INFO) Executor start aborting (this does not indicate an error and you can ignore this message): INVALID_ARGUMENT: You must feed a value for placeholder tensor 'Placeholder/_1' with dtype float and shape [42,4]\n",
      "\t [[{{node Placeholder/_1}}]]\n",
      "2024-12-30 15:14:44.154161: I tensorflow/core/common_runtime/executor.cc:1197] [/device:CPU:0] (DEBUG INFO) Executor start aborting (this does not indicate an error and you can ignore this message): INVALID_ARGUMENT: You must feed a value for placeholder tensor 'Placeholder/_1' with dtype float and shape [167,4]\n",
      "\t [[{{node Placeholder/_1}}]]\n",
      "2024-12-30 15:14:44.293536: I tensorflow/core/common_runtime/executor.cc:1197] [/device:CPU:0] (DEBUG INFO) Executor start aborting (this does not indicate an error and you can ignore this message): INVALID_ARGUMENT: You must feed a value for placeholder tensor 'Placeholder/_1' with dtype float and shape [44,4]\n",
      "\t [[{{node Placeholder/_1}}]]\n",
      "2024-12-30 15:14:44.346430: I tensorflow/core/common_runtime/executor.cc:1197] [/device:CPU:0] (DEBUG INFO) Executor start aborting (this does not indicate an error and you can ignore this message): INVALID_ARGUMENT: You must feed a value for placeholder tensor 'Placeholder/_1' with dtype float and shape [176,4]\n",
      "\t [[{{node Placeholder/_1}}]]\n",
      "2024-12-30 15:14:44.488635: I tensorflow/core/common_runtime/executor.cc:1197] [/device:CPU:0] (DEBUG INFO) Executor start aborting (this does not indicate an error and you can ignore this message): INVALID_ARGUMENT: You must feed a value for placeholder tensor 'Placeholder/_1' with dtype float and shape [44,4]\n",
      "\t [[{{node Placeholder/_1}}]]\n",
      "2024-12-30 15:14:44.541396: I tensorflow/core/common_runtime/executor.cc:1197] [/device:CPU:0] (DEBUG INFO) Executor start aborting (this does not indicate an error and you can ignore this message): INVALID_ARGUMENT: You must feed a value for placeholder tensor 'Placeholder/_1' with dtype float and shape [176,4]\n",
      "\t [[{{node Placeholder/_1}}]]\n",
      "2024-12-30 15:14:44.684612: I tensorflow/core/common_runtime/executor.cc:1197] [/device:CPU:0] (DEBUG INFO) Executor start aborting (this does not indicate an error and you can ignore this message): INVALID_ARGUMENT: You must feed a value for placeholder tensor 'Placeholder/_1' with dtype float and shape [44,4]\n",
      "\t [[{{node Placeholder/_1}}]]\n",
      "2024-12-30 15:14:44.736936: I tensorflow/core/common_runtime/executor.cc:1197] [/device:CPU:0] (DEBUG INFO) Executor start aborting (this does not indicate an error and you can ignore this message): INVALID_ARGUMENT: You must feed a value for placeholder tensor 'Placeholder/_1' with dtype float and shape [176,4]\n",
      "\t [[{{node Placeholder/_1}}]]\n",
      "2024-12-30 15:14:44.878281: I tensorflow/core/common_runtime/executor.cc:1197] [/device:CPU:0] (DEBUG INFO) Executor start aborting (this does not indicate an error and you can ignore this message): INVALID_ARGUMENT: You must feed a value for placeholder tensor 'Placeholder/_1' with dtype float and shape [44,4]\n",
      "\t [[{{node Placeholder/_1}}]]\n",
      "2024-12-30 15:14:44.930684: I tensorflow/core/common_runtime/executor.cc:1197] [/device:CPU:0] (DEBUG INFO) Executor start aborting (this does not indicate an error and you can ignore this message): INVALID_ARGUMENT: You must feed a value for placeholder tensor 'Placeholder/_1' with dtype float and shape [176,4]\n",
      "\t [[{{node Placeholder/_1}}]]\n",
      "2024-12-30 15:14:45.073107: I tensorflow/core/common_runtime/executor.cc:1197] [/device:CPU:0] (DEBUG INFO) Executor start aborting (this does not indicate an error and you can ignore this message): INVALID_ARGUMENT: You must feed a value for placeholder tensor 'Placeholder/_1' with dtype float and shape [44,4]\n",
      "\t [[{{node Placeholder/_1}}]]\n",
      "2024-12-30 15:14:45.126465: I tensorflow/core/common_runtime/executor.cc:1197] [/device:CPU:0] (DEBUG INFO) Executor start aborting (this does not indicate an error and you can ignore this message): INVALID_ARGUMENT: You must feed a value for placeholder tensor 'Placeholder/_1' with dtype float and shape [176,4]\n",
      "\t [[{{node Placeholder/_1}}]]\n",
      "2024-12-30 15:14:45.265376: I tensorflow/core/common_runtime/executor.cc:1197] [/device:CPU:0] (DEBUG INFO) Executor start aborting (this does not indicate an error and you can ignore this message): INVALID_ARGUMENT: You must feed a value for placeholder tensor 'Placeholder/_1' with dtype float and shape [50,4]\n",
      "\t [[{{node Placeholder/_1}}]]\n",
      "2024-12-30 15:14:45.320570: I tensorflow/core/common_runtime/executor.cc:1197] [/device:CPU:0] (DEBUG INFO) Executor start aborting (this does not indicate an error and you can ignore this message): INVALID_ARGUMENT: You must feed a value for placeholder tensor 'Placeholder/_1' with dtype float and shape [199,4]\n",
      "\t [[{{node Placeholder/_1}}]]\n",
      "2024-12-30 15:14:45.481070: I tensorflow/core/common_runtime/executor.cc:1197] [/device:CPU:0] (DEBUG INFO) Executor start aborting (this does not indicate an error and you can ignore this message): INVALID_ARGUMENT: You must feed a value for placeholder tensor 'Placeholder/_1' with dtype float and shape [50,4]\n",
      "\t [[{{node Placeholder/_1}}]]\n",
      "2024-12-30 15:14:45.543679: I tensorflow/core/common_runtime/executor.cc:1197] [/device:CPU:0] (DEBUG INFO) Executor start aborting (this does not indicate an error and you can ignore this message): INVALID_ARGUMENT: You must feed a value for placeholder tensor 'Placeholder/_1' with dtype float and shape [199,4]\n",
      "\t [[{{node Placeholder/_1}}]]\n",
      "2024-12-30 15:14:45.724287: I tensorflow/core/common_runtime/executor.cc:1197] [/device:CPU:0] (DEBUG INFO) Executor start aborting (this does not indicate an error and you can ignore this message): INVALID_ARGUMENT: You must feed a value for placeholder tensor 'Placeholder/_1' with dtype float and shape [50,4]\n",
      "\t [[{{node Placeholder/_1}}]]\n",
      "2024-12-30 15:14:45.779308: I tensorflow/core/common_runtime/executor.cc:1197] [/device:CPU:0] (DEBUG INFO) Executor start aborting (this does not indicate an error and you can ignore this message): INVALID_ARGUMENT: You must feed a value for placeholder tensor 'Placeholder/_1' with dtype float and shape [199,4]\n",
      "\t [[{{node Placeholder/_1}}]]\n",
      "2024-12-30 15:14:45.936643: I tensorflow/core/common_runtime/executor.cc:1197] [/device:CPU:0] (DEBUG INFO) Executor start aborting (this does not indicate an error and you can ignore this message): INVALID_ARGUMENT: You must feed a value for placeholder tensor 'Placeholder/_1' with dtype float and shape [50,4]\n",
      "\t [[{{node Placeholder/_1}}]]\n",
      "2024-12-30 15:14:45.992263: I tensorflow/core/common_runtime/executor.cc:1197] [/device:CPU:0] (DEBUG INFO) Executor start aborting (this does not indicate an error and you can ignore this message): INVALID_ARGUMENT: You must feed a value for placeholder tensor 'Placeholder/_1' with dtype float and shape [199,4]\n",
      "\t [[{{node Placeholder/_1}}]]\n",
      "2024-12-30 15:14:46.147835: I tensorflow/core/common_runtime/executor.cc:1197] [/device:CPU:0] (DEBUG INFO) Executor start aborting (this does not indicate an error and you can ignore this message): INVALID_ARGUMENT: You must feed a value for placeholder tensor 'Placeholder/_1' with dtype float and shape [50,4]\n",
      "\t [[{{node Placeholder/_1}}]]\n",
      "2024-12-30 15:14:46.201953: I tensorflow/core/common_runtime/executor.cc:1197] [/device:CPU:0] (DEBUG INFO) Executor start aborting (this does not indicate an error and you can ignore this message): INVALID_ARGUMENT: You must feed a value for placeholder tensor 'Placeholder/_1' with dtype float and shape [199,4]\n",
      "\t [[{{node Placeholder/_1}}]]\n",
      "2024-12-30 15:14:46.354201: I tensorflow/core/common_runtime/executor.cc:1197] [/device:CPU:0] (DEBUG INFO) Executor start aborting (this does not indicate an error and you can ignore this message): INVALID_ARGUMENT: You must feed a value for placeholder tensor 'Placeholder/_1' with dtype float and shape [53,4]\n",
      "\t [[{{node Placeholder/_1}}]]\n",
      "2024-12-30 15:14:46.411119: I tensorflow/core/common_runtime/executor.cc:1197] [/device:CPU:0] (DEBUG INFO) Executor start aborting (this does not indicate an error and you can ignore this message): INVALID_ARGUMENT: You must feed a value for placeholder tensor 'Placeholder/_1' with dtype float and shape [212,4]\n",
      "\t [[{{node Placeholder/_1}}]]\n",
      "2024-12-30 15:14:46.581339: I tensorflow/core/common_runtime/executor.cc:1197] [/device:CPU:0] (DEBUG INFO) Executor start aborting (this does not indicate an error and you can ignore this message): INVALID_ARGUMENT: You must feed a value for placeholder tensor 'Placeholder/_1' with dtype float and shape [53,4]\n",
      "\t [[{{node Placeholder/_1}}]]\n",
      "2024-12-30 15:14:46.637385: I tensorflow/core/common_runtime/executor.cc:1197] [/device:CPU:0] (DEBUG INFO) Executor start aborting (this does not indicate an error and you can ignore this message): INVALID_ARGUMENT: You must feed a value for placeholder tensor 'Placeholder/_1' with dtype float and shape [212,4]\n",
      "\t [[{{node Placeholder/_1}}]]\n",
      "2024-12-30 15:14:46.806381: I tensorflow/core/common_runtime/executor.cc:1197] [/device:CPU:0] (DEBUG INFO) Executor start aborting (this does not indicate an error and you can ignore this message): INVALID_ARGUMENT: You must feed a value for placeholder tensor 'Placeholder/_1' with dtype float and shape [53,4]\n",
      "\t [[{{node Placeholder/_1}}]]\n",
      "2024-12-30 15:14:46.863800: I tensorflow/core/common_runtime/executor.cc:1197] [/device:CPU:0] (DEBUG INFO) Executor start aborting (this does not indicate an error and you can ignore this message): INVALID_ARGUMENT: You must feed a value for placeholder tensor 'Placeholder/_1' with dtype float and shape [212,4]\n",
      "\t [[{{node Placeholder/_1}}]]\n",
      "2024-12-30 15:14:47.029370: I tensorflow/core/common_runtime/executor.cc:1197] [/device:CPU:0] (DEBUG INFO) Executor start aborting (this does not indicate an error and you can ignore this message): INVALID_ARGUMENT: You must feed a value for placeholder tensor 'Placeholder/_1' with dtype float and shape [53,4]\n",
      "\t [[{{node Placeholder/_1}}]]\n",
      "2024-12-30 15:14:47.086643: I tensorflow/core/common_runtime/executor.cc:1197] [/device:CPU:0] (DEBUG INFO) Executor start aborting (this does not indicate an error and you can ignore this message): INVALID_ARGUMENT: You must feed a value for placeholder tensor 'Placeholder/_1' with dtype float and shape [212,4]\n",
      "\t [[{{node Placeholder/_1}}]]\n",
      "2024-12-30 15:14:47.250471: I tensorflow/core/common_runtime/executor.cc:1197] [/device:CPU:0] (DEBUG INFO) Executor start aborting (this does not indicate an error and you can ignore this message): INVALID_ARGUMENT: You must feed a value for placeholder tensor 'Placeholder/_1' with dtype float and shape [53,4]\n",
      "\t [[{{node Placeholder/_1}}]]\n",
      "2024-12-30 15:14:47.307766: I tensorflow/core/common_runtime/executor.cc:1197] [/device:CPU:0] (DEBUG INFO) Executor start aborting (this does not indicate an error and you can ignore this message): INVALID_ARGUMENT: You must feed a value for placeholder tensor 'Placeholder/_1' with dtype float and shape [212,4]\n",
      "\t [[{{node Placeholder/_1}}]]\n",
      "2024-12-30 15:14:47.474818: I tensorflow/core/common_runtime/executor.cc:1197] [/device:CPU:0] (DEBUG INFO) Executor start aborting (this does not indicate an error and you can ignore this message): INVALID_ARGUMENT: You must feed a value for placeholder tensor 'Placeholder/_1' with dtype float and shape [39,4]\n",
      "\t [[{{node Placeholder/_1}}]]\n",
      "2024-12-30 15:14:47.521877: I tensorflow/core/common_runtime/executor.cc:1197] [/device:CPU:0] (DEBUG INFO) Executor start aborting (this does not indicate an error and you can ignore this message): INVALID_ARGUMENT: You must feed a value for placeholder tensor 'Placeholder/_1' with dtype float and shape [156,4]\n",
      "\t [[{{node Placeholder/_1}}]]\n",
      "2024-12-30 15:14:47.653783: I tensorflow/core/common_runtime/executor.cc:1197] [/device:CPU:0] (DEBUG INFO) Executor start aborting (this does not indicate an error and you can ignore this message): INVALID_ARGUMENT: You must feed a value for placeholder tensor 'Placeholder/_1' with dtype float and shape [39,4]\n",
      "\t [[{{node Placeholder/_1}}]]\n",
      "2024-12-30 15:14:47.698887: I tensorflow/core/common_runtime/executor.cc:1197] [/device:CPU:0] (DEBUG INFO) Executor start aborting (this does not indicate an error and you can ignore this message): INVALID_ARGUMENT: You must feed a value for placeholder tensor 'Placeholder/_1' with dtype float and shape [156,4]\n",
      "\t [[{{node Placeholder/_1}}]]\n",
      "2024-12-30 15:14:47.826252: I tensorflow/core/common_runtime/executor.cc:1197] [/device:CPU:0] (DEBUG INFO) Executor start aborting (this does not indicate an error and you can ignore this message): INVALID_ARGUMENT: You must feed a value for placeholder tensor 'Placeholder/_1' with dtype float and shape [39,4]\n",
      "\t [[{{node Placeholder/_1}}]]\n",
      "2024-12-30 15:14:47.871474: I tensorflow/core/common_runtime/executor.cc:1197] [/device:CPU:0] (DEBUG INFO) Executor start aborting (this does not indicate an error and you can ignore this message): INVALID_ARGUMENT: You must feed a value for placeholder tensor 'Placeholder/_1' with dtype float and shape [156,4]\n",
      "\t [[{{node Placeholder/_1}}]]\n",
      "2024-12-30 15:14:47.996764: I tensorflow/core/common_runtime/executor.cc:1197] [/device:CPU:0] (DEBUG INFO) Executor start aborting (this does not indicate an error and you can ignore this message): INVALID_ARGUMENT: You must feed a value for placeholder tensor 'Placeholder/_1' with dtype float and shape [39,4]\n",
      "\t [[{{node Placeholder/_1}}]]\n",
      "2024-12-30 15:14:48.041988: I tensorflow/core/common_runtime/executor.cc:1197] [/device:CPU:0] (DEBUG INFO) Executor start aborting (this does not indicate an error and you can ignore this message): INVALID_ARGUMENT: You must feed a value for placeholder tensor 'Placeholder/_1' with dtype float and shape [156,4]\n",
      "\t [[{{node Placeholder/_1}}]]\n",
      "2024-12-30 15:14:48.170007: I tensorflow/core/common_runtime/executor.cc:1197] [/device:CPU:0] (DEBUG INFO) Executor start aborting (this does not indicate an error and you can ignore this message): INVALID_ARGUMENT: You must feed a value for placeholder tensor 'Placeholder/_1' with dtype float and shape [39,4]\n",
      "\t [[{{node Placeholder/_1}}]]\n",
      "2024-12-30 15:14:48.216191: I tensorflow/core/common_runtime/executor.cc:1197] [/device:CPU:0] (DEBUG INFO) Executor start aborting (this does not indicate an error and you can ignore this message): INVALID_ARGUMENT: You must feed a value for placeholder tensor 'Placeholder/_1' with dtype float and shape [156,4]\n",
      "\t [[{{node Placeholder/_1}}]]\n"
     ]
    },
    {
     "name": "stdout",
     "output_type": "stream",
     "text": [
      "Time taken for round  8: 00:00:31\n",
      "Estimated remaining time: 00:44:01\n",
      "\n",
      "Round  9: \t global_test_loss=1.2977, global_test_accuracy=0.8895 \n",
      "\t\tglobal_train_loss=1.2926, global_train_accuracy=0.8974\n"
     ]
    },
    {
     "name": "stderr",
     "output_type": "stream",
     "text": [
      "2024-12-30 15:15:11.579429: I tensorflow/core/common_runtime/executor.cc:1197] [/device:CPU:0] (DEBUG INFO) Executor start aborting (this does not indicate an error and you can ignore this message): INVALID_ARGUMENT: You must feed a value for placeholder tensor 'Placeholder/_1' with dtype float and shape [42,4]\n",
      "\t [[{{node Placeholder/_1}}]]\n",
      "2024-12-30 15:15:11.633844: I tensorflow/core/common_runtime/executor.cc:1197] [/device:CPU:0] (DEBUG INFO) Executor start aborting (this does not indicate an error and you can ignore this message): INVALID_ARGUMENT: You must feed a value for placeholder tensor 'Placeholder/_1' with dtype float and shape [167,4]\n",
      "\t [[{{node Placeholder/_1}}]]\n",
      "2024-12-30 15:15:11.774561: I tensorflow/core/common_runtime/executor.cc:1197] [/device:CPU:0] (DEBUG INFO) Executor start aborting (this does not indicate an error and you can ignore this message): INVALID_ARGUMENT: You must feed a value for placeholder tensor 'Placeholder/_1' with dtype float and shape [42,4]\n",
      "\t [[{{node Placeholder/_1}}]]\n",
      "2024-12-30 15:15:11.827353: I tensorflow/core/common_runtime/executor.cc:1197] [/device:CPU:0] (DEBUG INFO) Executor start aborting (this does not indicate an error and you can ignore this message): INVALID_ARGUMENT: You must feed a value for placeholder tensor 'Placeholder/_1' with dtype float and shape [167,4]\n",
      "\t [[{{node Placeholder/_1}}]]\n",
      "2024-12-30 15:15:11.965644: I tensorflow/core/common_runtime/executor.cc:1197] [/device:CPU:0] (DEBUG INFO) Executor start aborting (this does not indicate an error and you can ignore this message): INVALID_ARGUMENT: You must feed a value for placeholder tensor 'Placeholder/_1' with dtype float and shape [42,4]\n",
      "\t [[{{node Placeholder/_1}}]]\n",
      "2024-12-30 15:15:12.016426: I tensorflow/core/common_runtime/executor.cc:1197] [/device:CPU:0] (DEBUG INFO) Executor start aborting (this does not indicate an error and you can ignore this message): INVALID_ARGUMENT: You must feed a value for placeholder tensor 'Placeholder/_1' with dtype float and shape [167,4]\n",
      "\t [[{{node Placeholder/_1}}]]\n",
      "2024-12-30 15:15:12.160149: I tensorflow/core/common_runtime/executor.cc:1197] [/device:CPU:0] (DEBUG INFO) Executor start aborting (this does not indicate an error and you can ignore this message): INVALID_ARGUMENT: You must feed a value for placeholder tensor 'Placeholder/_1' with dtype float and shape [42,4]\n",
      "\t [[{{node Placeholder/_1}}]]\n",
      "2024-12-30 15:15:12.214098: I tensorflow/core/common_runtime/executor.cc:1197] [/device:CPU:0] (DEBUG INFO) Executor start aborting (this does not indicate an error and you can ignore this message): INVALID_ARGUMENT: You must feed a value for placeholder tensor 'Placeholder/_1' with dtype float and shape [167,4]\n",
      "\t [[{{node Placeholder/_1}}]]\n",
      "2024-12-30 15:15:12.352736: I tensorflow/core/common_runtime/executor.cc:1197] [/device:CPU:0] (DEBUG INFO) Executor start aborting (this does not indicate an error and you can ignore this message): INVALID_ARGUMENT: You must feed a value for placeholder tensor 'Placeholder/_1' with dtype float and shape [42,4]\n",
      "\t [[{{node Placeholder/_1}}]]\n",
      "2024-12-30 15:15:12.404998: I tensorflow/core/common_runtime/executor.cc:1197] [/device:CPU:0] (DEBUG INFO) Executor start aborting (this does not indicate an error and you can ignore this message): INVALID_ARGUMENT: You must feed a value for placeholder tensor 'Placeholder/_1' with dtype float and shape [167,4]\n",
      "\t [[{{node Placeholder/_1}}]]\n",
      "2024-12-30 15:15:12.541969: I tensorflow/core/common_runtime/executor.cc:1197] [/device:CPU:0] (DEBUG INFO) Executor start aborting (this does not indicate an error and you can ignore this message): INVALID_ARGUMENT: You must feed a value for placeholder tensor 'Placeholder/_1' with dtype float and shape [44,4]\n",
      "\t [[{{node Placeholder/_1}}]]\n",
      "2024-12-30 15:15:12.595245: I tensorflow/core/common_runtime/executor.cc:1197] [/device:CPU:0] (DEBUG INFO) Executor start aborting (this does not indicate an error and you can ignore this message): INVALID_ARGUMENT: You must feed a value for placeholder tensor 'Placeholder/_1' with dtype float and shape [176,4]\n",
      "\t [[{{node Placeholder/_1}}]]\n",
      "2024-12-30 15:15:12.734665: I tensorflow/core/common_runtime/executor.cc:1197] [/device:CPU:0] (DEBUG INFO) Executor start aborting (this does not indicate an error and you can ignore this message): INVALID_ARGUMENT: You must feed a value for placeholder tensor 'Placeholder/_1' with dtype float and shape [44,4]\n",
      "\t [[{{node Placeholder/_1}}]]\n",
      "2024-12-30 15:15:12.786412: I tensorflow/core/common_runtime/executor.cc:1197] [/device:CPU:0] (DEBUG INFO) Executor start aborting (this does not indicate an error and you can ignore this message): INVALID_ARGUMENT: You must feed a value for placeholder tensor 'Placeholder/_1' with dtype float and shape [176,4]\n",
      "\t [[{{node Placeholder/_1}}]]\n",
      "2024-12-30 15:15:12.927356: I tensorflow/core/common_runtime/executor.cc:1197] [/device:CPU:0] (DEBUG INFO) Executor start aborting (this does not indicate an error and you can ignore this message): INVALID_ARGUMENT: You must feed a value for placeholder tensor 'Placeholder/_1' with dtype float and shape [44,4]\n",
      "\t [[{{node Placeholder/_1}}]]\n",
      "2024-12-30 15:15:12.980676: I tensorflow/core/common_runtime/executor.cc:1197] [/device:CPU:0] (DEBUG INFO) Executor start aborting (this does not indicate an error and you can ignore this message): INVALID_ARGUMENT: You must feed a value for placeholder tensor 'Placeholder/_1' with dtype float and shape [176,4]\n",
      "\t [[{{node Placeholder/_1}}]]\n",
      "2024-12-30 15:15:13.120297: I tensorflow/core/common_runtime/executor.cc:1197] [/device:CPU:0] (DEBUG INFO) Executor start aborting (this does not indicate an error and you can ignore this message): INVALID_ARGUMENT: You must feed a value for placeholder tensor 'Placeholder/_1' with dtype float and shape [44,4]\n",
      "\t [[{{node Placeholder/_1}}]]\n",
      "2024-12-30 15:15:13.172064: I tensorflow/core/common_runtime/executor.cc:1197] [/device:CPU:0] (DEBUG INFO) Executor start aborting (this does not indicate an error and you can ignore this message): INVALID_ARGUMENT: You must feed a value for placeholder tensor 'Placeholder/_1' with dtype float and shape [176,4]\n",
      "\t [[{{node Placeholder/_1}}]]\n",
      "2024-12-30 15:15:13.314041: I tensorflow/core/common_runtime/executor.cc:1197] [/device:CPU:0] (DEBUG INFO) Executor start aborting (this does not indicate an error and you can ignore this message): INVALID_ARGUMENT: You must feed a value for placeholder tensor 'Placeholder/_1' with dtype float and shape [44,4]\n",
      "\t [[{{node Placeholder/_1}}]]\n",
      "2024-12-30 15:15:13.365511: I tensorflow/core/common_runtime/executor.cc:1197] [/device:CPU:0] (DEBUG INFO) Executor start aborting (this does not indicate an error and you can ignore this message): INVALID_ARGUMENT: You must feed a value for placeholder tensor 'Placeholder/_1' with dtype float and shape [176,4]\n",
      "\t [[{{node Placeholder/_1}}]]\n",
      "2024-12-30 15:15:13.503522: I tensorflow/core/common_runtime/executor.cc:1197] [/device:CPU:0] (DEBUG INFO) Executor start aborting (this does not indicate an error and you can ignore this message): INVALID_ARGUMENT: You must feed a value for placeholder tensor 'Placeholder/_1' with dtype float and shape [50,4]\n",
      "\t [[{{node Placeholder/_1}}]]\n",
      "2024-12-30 15:15:13.558149: I tensorflow/core/common_runtime/executor.cc:1197] [/device:CPU:0] (DEBUG INFO) Executor start aborting (this does not indicate an error and you can ignore this message): INVALID_ARGUMENT: You must feed a value for placeholder tensor 'Placeholder/_1' with dtype float and shape [199,4]\n",
      "\t [[{{node Placeholder/_1}}]]\n",
      "2024-12-30 15:15:13.711976: I tensorflow/core/common_runtime/executor.cc:1197] [/device:CPU:0] (DEBUG INFO) Executor start aborting (this does not indicate an error and you can ignore this message): INVALID_ARGUMENT: You must feed a value for placeholder tensor 'Placeholder/_1' with dtype float and shape [50,4]\n",
      "\t [[{{node Placeholder/_1}}]]\n",
      "2024-12-30 15:15:13.766988: I tensorflow/core/common_runtime/executor.cc:1197] [/device:CPU:0] (DEBUG INFO) Executor start aborting (this does not indicate an error and you can ignore this message): INVALID_ARGUMENT: You must feed a value for placeholder tensor 'Placeholder/_1' with dtype float and shape [199,4]\n",
      "\t [[{{node Placeholder/_1}}]]\n",
      "2024-12-30 15:15:13.920058: I tensorflow/core/common_runtime/executor.cc:1197] [/device:CPU:0] (DEBUG INFO) Executor start aborting (this does not indicate an error and you can ignore this message): INVALID_ARGUMENT: You must feed a value for placeholder tensor 'Placeholder/_1' with dtype float and shape [50,4]\n",
      "\t [[{{node Placeholder/_1}}]]\n",
      "2024-12-30 15:15:13.975218: I tensorflow/core/common_runtime/executor.cc:1197] [/device:CPU:0] (DEBUG INFO) Executor start aborting (this does not indicate an error and you can ignore this message): INVALID_ARGUMENT: You must feed a value for placeholder tensor 'Placeholder/_1' with dtype float and shape [199,4]\n",
      "\t [[{{node Placeholder/_1}}]]\n",
      "2024-12-30 15:15:14.126579: I tensorflow/core/common_runtime/executor.cc:1197] [/device:CPU:0] (DEBUG INFO) Executor start aborting (this does not indicate an error and you can ignore this message): INVALID_ARGUMENT: You must feed a value for placeholder tensor 'Placeholder/_1' with dtype float and shape [50,4]\n",
      "\t [[{{node Placeholder/_1}}]]\n",
      "2024-12-30 15:15:14.181540: I tensorflow/core/common_runtime/executor.cc:1197] [/device:CPU:0] (DEBUG INFO) Executor start aborting (this does not indicate an error and you can ignore this message): INVALID_ARGUMENT: You must feed a value for placeholder tensor 'Placeholder/_1' with dtype float and shape [199,4]\n",
      "\t [[{{node Placeholder/_1}}]]\n",
      "2024-12-30 15:15:14.339389: I tensorflow/core/common_runtime/executor.cc:1197] [/device:CPU:0] (DEBUG INFO) Executor start aborting (this does not indicate an error and you can ignore this message): INVALID_ARGUMENT: You must feed a value for placeholder tensor 'Placeholder/_1' with dtype float and shape [50,4]\n",
      "\t [[{{node Placeholder/_1}}]]\n",
      "2024-12-30 15:15:14.392914: I tensorflow/core/common_runtime/executor.cc:1197] [/device:CPU:0] (DEBUG INFO) Executor start aborting (this does not indicate an error and you can ignore this message): INVALID_ARGUMENT: You must feed a value for placeholder tensor 'Placeholder/_1' with dtype float and shape [199,4]\n",
      "\t [[{{node Placeholder/_1}}]]\n",
      "2024-12-30 15:15:14.546977: I tensorflow/core/common_runtime/executor.cc:1197] [/device:CPU:0] (DEBUG INFO) Executor start aborting (this does not indicate an error and you can ignore this message): INVALID_ARGUMENT: You must feed a value for placeholder tensor 'Placeholder/_1' with dtype float and shape [53,4]\n",
      "\t [[{{node Placeholder/_1}}]]\n",
      "2024-12-30 15:15:14.603898: I tensorflow/core/common_runtime/executor.cc:1197] [/device:CPU:0] (DEBUG INFO) Executor start aborting (this does not indicate an error and you can ignore this message): INVALID_ARGUMENT: You must feed a value for placeholder tensor 'Placeholder/_1' with dtype float and shape [212,4]\n",
      "\t [[{{node Placeholder/_1}}]]\n",
      "2024-12-30 15:15:14.771273: I tensorflow/core/common_runtime/executor.cc:1197] [/device:CPU:0] (DEBUG INFO) Executor start aborting (this does not indicate an error and you can ignore this message): INVALID_ARGUMENT: You must feed a value for placeholder tensor 'Placeholder/_1' with dtype float and shape [53,4]\n",
      "\t [[{{node Placeholder/_1}}]]\n",
      "2024-12-30 15:15:14.828082: I tensorflow/core/common_runtime/executor.cc:1197] [/device:CPU:0] (DEBUG INFO) Executor start aborting (this does not indicate an error and you can ignore this message): INVALID_ARGUMENT: You must feed a value for placeholder tensor 'Placeholder/_1' with dtype float and shape [212,4]\n",
      "\t [[{{node Placeholder/_1}}]]\n",
      "2024-12-30 15:15:14.996764: I tensorflow/core/common_runtime/executor.cc:1197] [/device:CPU:0] (DEBUG INFO) Executor start aborting (this does not indicate an error and you can ignore this message): INVALID_ARGUMENT: You must feed a value for placeholder tensor 'Placeholder/_1' with dtype float and shape [53,4]\n",
      "\t [[{{node Placeholder/_1}}]]\n",
      "2024-12-30 15:15:15.053712: I tensorflow/core/common_runtime/executor.cc:1197] [/device:CPU:0] (DEBUG INFO) Executor start aborting (this does not indicate an error and you can ignore this message): INVALID_ARGUMENT: You must feed a value for placeholder tensor 'Placeholder/_1' with dtype float and shape [212,4]\n",
      "\t [[{{node Placeholder/_1}}]]\n",
      "2024-12-30 15:15:15.218644: I tensorflow/core/common_runtime/executor.cc:1197] [/device:CPU:0] (DEBUG INFO) Executor start aborting (this does not indicate an error and you can ignore this message): INVALID_ARGUMENT: You must feed a value for placeholder tensor 'Placeholder/_1' with dtype float and shape [53,4]\n",
      "\t [[{{node Placeholder/_1}}]]\n",
      "2024-12-30 15:15:15.274154: I tensorflow/core/common_runtime/executor.cc:1197] [/device:CPU:0] (DEBUG INFO) Executor start aborting (this does not indicate an error and you can ignore this message): INVALID_ARGUMENT: You must feed a value for placeholder tensor 'Placeholder/_1' with dtype float and shape [212,4]\n",
      "\t [[{{node Placeholder/_1}}]]\n",
      "2024-12-30 15:15:15.447418: I tensorflow/core/common_runtime/executor.cc:1197] [/device:CPU:0] (DEBUG INFO) Executor start aborting (this does not indicate an error and you can ignore this message): INVALID_ARGUMENT: You must feed a value for placeholder tensor 'Placeholder/_1' with dtype float and shape [53,4]\n",
      "\t [[{{node Placeholder/_1}}]]\n",
      "2024-12-30 15:15:15.503557: I tensorflow/core/common_runtime/executor.cc:1197] [/device:CPU:0] (DEBUG INFO) Executor start aborting (this does not indicate an error and you can ignore this message): INVALID_ARGUMENT: You must feed a value for placeholder tensor 'Placeholder/_1' with dtype float and shape [212,4]\n",
      "\t [[{{node Placeholder/_1}}]]\n",
      "2024-12-30 15:15:15.678388: I tensorflow/core/common_runtime/executor.cc:1197] [/device:CPU:0] (DEBUG INFO) Executor start aborting (this does not indicate an error and you can ignore this message): INVALID_ARGUMENT: You must feed a value for placeholder tensor 'Placeholder/_1' with dtype float and shape [39,4]\n",
      "\t [[{{node Placeholder/_1}}]]\n",
      "2024-12-30 15:15:15.722538: I tensorflow/core/common_runtime/executor.cc:1197] [/device:CPU:0] (DEBUG INFO) Executor start aborting (this does not indicate an error and you can ignore this message): INVALID_ARGUMENT: You must feed a value for placeholder tensor 'Placeholder/_1' with dtype float and shape [156,4]\n",
      "\t [[{{node Placeholder/_1}}]]\n",
      "2024-12-30 15:15:15.845597: I tensorflow/core/common_runtime/executor.cc:1197] [/device:CPU:0] (DEBUG INFO) Executor start aborting (this does not indicate an error and you can ignore this message): INVALID_ARGUMENT: You must feed a value for placeholder tensor 'Placeholder/_1' with dtype float and shape [39,4]\n",
      "\t [[{{node Placeholder/_1}}]]\n",
      "2024-12-30 15:15:15.890825: I tensorflow/core/common_runtime/executor.cc:1197] [/device:CPU:0] (DEBUG INFO) Executor start aborting (this does not indicate an error and you can ignore this message): INVALID_ARGUMENT: You must feed a value for placeholder tensor 'Placeholder/_1' with dtype float and shape [156,4]\n",
      "\t [[{{node Placeholder/_1}}]]\n",
      "2024-12-30 15:15:16.017250: I tensorflow/core/common_runtime/executor.cc:1197] [/device:CPU:0] (DEBUG INFO) Executor start aborting (this does not indicate an error and you can ignore this message): INVALID_ARGUMENT: You must feed a value for placeholder tensor 'Placeholder/_1' with dtype float and shape [39,4]\n",
      "\t [[{{node Placeholder/_1}}]]\n",
      "2024-12-30 15:15:16.061420: I tensorflow/core/common_runtime/executor.cc:1197] [/device:CPU:0] (DEBUG INFO) Executor start aborting (this does not indicate an error and you can ignore this message): INVALID_ARGUMENT: You must feed a value for placeholder tensor 'Placeholder/_1' with dtype float and shape [156,4]\n",
      "\t [[{{node Placeholder/_1}}]]\n",
      "2024-12-30 15:15:16.188740: I tensorflow/core/common_runtime/executor.cc:1197] [/device:CPU:0] (DEBUG INFO) Executor start aborting (this does not indicate an error and you can ignore this message): INVALID_ARGUMENT: You must feed a value for placeholder tensor 'Placeholder/_1' with dtype float and shape [39,4]\n",
      "\t [[{{node Placeholder/_1}}]]\n",
      "2024-12-30 15:15:16.233302: I tensorflow/core/common_runtime/executor.cc:1197] [/device:CPU:0] (DEBUG INFO) Executor start aborting (this does not indicate an error and you can ignore this message): INVALID_ARGUMENT: You must feed a value for placeholder tensor 'Placeholder/_1' with dtype float and shape [156,4]\n",
      "\t [[{{node Placeholder/_1}}]]\n",
      "2024-12-30 15:15:16.359295: I tensorflow/core/common_runtime/executor.cc:1197] [/device:CPU:0] (DEBUG INFO) Executor start aborting (this does not indicate an error and you can ignore this message): INVALID_ARGUMENT: You must feed a value for placeholder tensor 'Placeholder/_1' with dtype float and shape [39,4]\n",
      "\t [[{{node Placeholder/_1}}]]\n",
      "2024-12-30 15:15:16.404343: I tensorflow/core/common_runtime/executor.cc:1197] [/device:CPU:0] (DEBUG INFO) Executor start aborting (this does not indicate an error and you can ignore this message): INVALID_ARGUMENT: You must feed a value for placeholder tensor 'Placeholder/_1' with dtype float and shape [156,4]\n",
      "\t [[{{node Placeholder/_1}}]]\n"
     ]
    },
    {
     "name": "stdout",
     "output_type": "stream",
     "text": [
      "Time taken for round  9: 00:00:28\n",
      "Estimated remaining time: 00:43:27\n",
      "\n",
      "Round 10: \t global_test_loss=1.2918, global_test_accuracy=0.8904 \n",
      "\t\tglobal_train_loss=1.2855, global_train_accuracy=0.8982\n"
     ]
    },
    {
     "name": "stderr",
     "output_type": "stream",
     "text": [
      "2024-12-30 15:15:42.650579: I tensorflow/core/common_runtime/executor.cc:1197] [/device:CPU:0] (DEBUG INFO) Executor start aborting (this does not indicate an error and you can ignore this message): INVALID_ARGUMENT: You must feed a value for placeholder tensor 'Placeholder/_1' with dtype float and shape [42,4]\n",
      "\t [[{{node Placeholder/_1}}]]\n",
      "2024-12-30 15:15:42.702464: I tensorflow/core/common_runtime/executor.cc:1197] [/device:CPU:0] (DEBUG INFO) Executor start aborting (this does not indicate an error and you can ignore this message): INVALID_ARGUMENT: You must feed a value for placeholder tensor 'Placeholder/_1' with dtype float and shape [167,4]\n",
      "\t [[{{node Placeholder/_1}}]]\n",
      "2024-12-30 15:15:42.842117: I tensorflow/core/common_runtime/executor.cc:1197] [/device:CPU:0] (DEBUG INFO) Executor start aborting (this does not indicate an error and you can ignore this message): INVALID_ARGUMENT: You must feed a value for placeholder tensor 'Placeholder/_1' with dtype float and shape [42,4]\n",
      "\t [[{{node Placeholder/_1}}]]\n",
      "2024-12-30 15:15:42.893400: I tensorflow/core/common_runtime/executor.cc:1197] [/device:CPU:0] (DEBUG INFO) Executor start aborting (this does not indicate an error and you can ignore this message): INVALID_ARGUMENT: You must feed a value for placeholder tensor 'Placeholder/_1' with dtype float and shape [167,4]\n",
      "\t [[{{node Placeholder/_1}}]]\n",
      "2024-12-30 15:15:43.036874: I tensorflow/core/common_runtime/executor.cc:1197] [/device:CPU:0] (DEBUG INFO) Executor start aborting (this does not indicate an error and you can ignore this message): INVALID_ARGUMENT: You must feed a value for placeholder tensor 'Placeholder/_1' with dtype float and shape [42,4]\n",
      "\t [[{{node Placeholder/_1}}]]\n",
      "2024-12-30 15:15:43.088506: I tensorflow/core/common_runtime/executor.cc:1197] [/device:CPU:0] (DEBUG INFO) Executor start aborting (this does not indicate an error and you can ignore this message): INVALID_ARGUMENT: You must feed a value for placeholder tensor 'Placeholder/_1' with dtype float and shape [167,4]\n",
      "\t [[{{node Placeholder/_1}}]]\n",
      "2024-12-30 15:15:43.223815: I tensorflow/core/common_runtime/executor.cc:1197] [/device:CPU:0] (DEBUG INFO) Executor start aborting (this does not indicate an error and you can ignore this message): INVALID_ARGUMENT: You must feed a value for placeholder tensor 'Placeholder/_1' with dtype float and shape [42,4]\n",
      "\t [[{{node Placeholder/_1}}]]\n",
      "2024-12-30 15:15:43.275677: I tensorflow/core/common_runtime/executor.cc:1197] [/device:CPU:0] (DEBUG INFO) Executor start aborting (this does not indicate an error and you can ignore this message): INVALID_ARGUMENT: You must feed a value for placeholder tensor 'Placeholder/_1' with dtype float and shape [167,4]\n",
      "\t [[{{node Placeholder/_1}}]]\n",
      "2024-12-30 15:15:43.413193: I tensorflow/core/common_runtime/executor.cc:1197] [/device:CPU:0] (DEBUG INFO) Executor start aborting (this does not indicate an error and you can ignore this message): INVALID_ARGUMENT: You must feed a value for placeholder tensor 'Placeholder/_1' with dtype float and shape [42,4]\n",
      "\t [[{{node Placeholder/_1}}]]\n",
      "2024-12-30 15:15:43.464188: I tensorflow/core/common_runtime/executor.cc:1197] [/device:CPU:0] (DEBUG INFO) Executor start aborting (this does not indicate an error and you can ignore this message): INVALID_ARGUMENT: You must feed a value for placeholder tensor 'Placeholder/_1' with dtype float and shape [167,4]\n",
      "\t [[{{node Placeholder/_1}}]]\n",
      "2024-12-30 15:15:43.599800: I tensorflow/core/common_runtime/executor.cc:1197] [/device:CPU:0] (DEBUG INFO) Executor start aborting (this does not indicate an error and you can ignore this message): INVALID_ARGUMENT: You must feed a value for placeholder tensor 'Placeholder/_1' with dtype float and shape [44,4]\n",
      "\t [[{{node Placeholder/_1}}]]\n",
      "2024-12-30 15:15:43.655642: I tensorflow/core/common_runtime/executor.cc:1197] [/device:CPU:0] (DEBUG INFO) Executor start aborting (this does not indicate an error and you can ignore this message): INVALID_ARGUMENT: You must feed a value for placeholder tensor 'Placeholder/_1' with dtype float and shape [176,4]\n",
      "\t [[{{node Placeholder/_1}}]]\n",
      "2024-12-30 15:15:43.795277: I tensorflow/core/common_runtime/executor.cc:1197] [/device:CPU:0] (DEBUG INFO) Executor start aborting (this does not indicate an error and you can ignore this message): INVALID_ARGUMENT: You must feed a value for placeholder tensor 'Placeholder/_1' with dtype float and shape [44,4]\n",
      "\t [[{{node Placeholder/_1}}]]\n",
      "2024-12-30 15:15:43.848654: I tensorflow/core/common_runtime/executor.cc:1197] [/device:CPU:0] (DEBUG INFO) Executor start aborting (this does not indicate an error and you can ignore this message): INVALID_ARGUMENT: You must feed a value for placeholder tensor 'Placeholder/_1' with dtype float and shape [176,4]\n",
      "\t [[{{node Placeholder/_1}}]]\n",
      "2024-12-30 15:15:43.990760: I tensorflow/core/common_runtime/executor.cc:1197] [/device:CPU:0] (DEBUG INFO) Executor start aborting (this does not indicate an error and you can ignore this message): INVALID_ARGUMENT: You must feed a value for placeholder tensor 'Placeholder/_1' with dtype float and shape [44,4]\n",
      "\t [[{{node Placeholder/_1}}]]\n",
      "2024-12-30 15:15:44.042496: I tensorflow/core/common_runtime/executor.cc:1197] [/device:CPU:0] (DEBUG INFO) Executor start aborting (this does not indicate an error and you can ignore this message): INVALID_ARGUMENT: You must feed a value for placeholder tensor 'Placeholder/_1' with dtype float and shape [176,4]\n",
      "\t [[{{node Placeholder/_1}}]]\n",
      "2024-12-30 15:15:44.190033: I tensorflow/core/common_runtime/executor.cc:1197] [/device:CPU:0] (DEBUG INFO) Executor start aborting (this does not indicate an error and you can ignore this message): INVALID_ARGUMENT: You must feed a value for placeholder tensor 'Placeholder/_1' with dtype float and shape [44,4]\n",
      "\t [[{{node Placeholder/_1}}]]\n",
      "2024-12-30 15:15:44.241796: I tensorflow/core/common_runtime/executor.cc:1197] [/device:CPU:0] (DEBUG INFO) Executor start aborting (this does not indicate an error and you can ignore this message): INVALID_ARGUMENT: You must feed a value for placeholder tensor 'Placeholder/_1' with dtype float and shape [176,4]\n",
      "\t [[{{node Placeholder/_1}}]]\n",
      "2024-12-30 15:15:44.381974: I tensorflow/core/common_runtime/executor.cc:1197] [/device:CPU:0] (DEBUG INFO) Executor start aborting (this does not indicate an error and you can ignore this message): INVALID_ARGUMENT: You must feed a value for placeholder tensor 'Placeholder/_1' with dtype float and shape [44,4]\n",
      "\t [[{{node Placeholder/_1}}]]\n",
      "2024-12-30 15:15:44.434762: I tensorflow/core/common_runtime/executor.cc:1197] [/device:CPU:0] (DEBUG INFO) Executor start aborting (this does not indicate an error and you can ignore this message): INVALID_ARGUMENT: You must feed a value for placeholder tensor 'Placeholder/_1' with dtype float and shape [176,4]\n",
      "\t [[{{node Placeholder/_1}}]]\n",
      "2024-12-30 15:15:44.576476: I tensorflow/core/common_runtime/executor.cc:1197] [/device:CPU:0] (DEBUG INFO) Executor start aborting (this does not indicate an error and you can ignore this message): INVALID_ARGUMENT: You must feed a value for placeholder tensor 'Placeholder/_1' with dtype float and shape [50,4]\n",
      "\t [[{{node Placeholder/_1}}]]\n",
      "2024-12-30 15:15:44.632054: I tensorflow/core/common_runtime/executor.cc:1197] [/device:CPU:0] (DEBUG INFO) Executor start aborting (this does not indicate an error and you can ignore this message): INVALID_ARGUMENT: You must feed a value for placeholder tensor 'Placeholder/_1' with dtype float and shape [199,4]\n",
      "\t [[{{node Placeholder/_1}}]]\n",
      "2024-12-30 15:15:44.788969: I tensorflow/core/common_runtime/executor.cc:1197] [/device:CPU:0] (DEBUG INFO) Executor start aborting (this does not indicate an error and you can ignore this message): INVALID_ARGUMENT: You must feed a value for placeholder tensor 'Placeholder/_1' with dtype float and shape [50,4]\n",
      "\t [[{{node Placeholder/_1}}]]\n",
      "2024-12-30 15:15:44.846202: I tensorflow/core/common_runtime/executor.cc:1197] [/device:CPU:0] (DEBUG INFO) Executor start aborting (this does not indicate an error and you can ignore this message): INVALID_ARGUMENT: You must feed a value for placeholder tensor 'Placeholder/_1' with dtype float and shape [199,4]\n",
      "\t [[{{node Placeholder/_1}}]]\n",
      "2024-12-30 15:15:45.001645: I tensorflow/core/common_runtime/executor.cc:1197] [/device:CPU:0] (DEBUG INFO) Executor start aborting (this does not indicate an error and you can ignore this message): INVALID_ARGUMENT: You must feed a value for placeholder tensor 'Placeholder/_1' with dtype float and shape [50,4]\n",
      "\t [[{{node Placeholder/_1}}]]\n",
      "2024-12-30 15:15:45.058582: I tensorflow/core/common_runtime/executor.cc:1197] [/device:CPU:0] (DEBUG INFO) Executor start aborting (this does not indicate an error and you can ignore this message): INVALID_ARGUMENT: You must feed a value for placeholder tensor 'Placeholder/_1' with dtype float and shape [199,4]\n",
      "\t [[{{node Placeholder/_1}}]]\n",
      "2024-12-30 15:15:45.219725: I tensorflow/core/common_runtime/executor.cc:1197] [/device:CPU:0] (DEBUG INFO) Executor start aborting (this does not indicate an error and you can ignore this message): INVALID_ARGUMENT: You must feed a value for placeholder tensor 'Placeholder/_1' with dtype float and shape [50,4]\n",
      "\t [[{{node Placeholder/_1}}]]\n",
      "2024-12-30 15:15:45.278370: I tensorflow/core/common_runtime/executor.cc:1197] [/device:CPU:0] (DEBUG INFO) Executor start aborting (this does not indicate an error and you can ignore this message): INVALID_ARGUMENT: You must feed a value for placeholder tensor 'Placeholder/_1' with dtype float and shape [199,4]\n",
      "\t [[{{node Placeholder/_1}}]]\n",
      "2024-12-30 15:15:45.435246: I tensorflow/core/common_runtime/executor.cc:1197] [/device:CPU:0] (DEBUG INFO) Executor start aborting (this does not indicate an error and you can ignore this message): INVALID_ARGUMENT: You must feed a value for placeholder tensor 'Placeholder/_1' with dtype float and shape [50,4]\n",
      "\t [[{{node Placeholder/_1}}]]\n",
      "2024-12-30 15:15:45.491011: I tensorflow/core/common_runtime/executor.cc:1197] [/device:CPU:0] (DEBUG INFO) Executor start aborting (this does not indicate an error and you can ignore this message): INVALID_ARGUMENT: You must feed a value for placeholder tensor 'Placeholder/_1' with dtype float and shape [199,4]\n",
      "\t [[{{node Placeholder/_1}}]]\n",
      "2024-12-30 15:15:45.655422: I tensorflow/core/common_runtime/executor.cc:1197] [/device:CPU:0] (DEBUG INFO) Executor start aborting (this does not indicate an error and you can ignore this message): INVALID_ARGUMENT: You must feed a value for placeholder tensor 'Placeholder/_1' with dtype float and shape [53,4]\n",
      "\t [[{{node Placeholder/_1}}]]\n",
      "2024-12-30 15:15:45.712196: I tensorflow/core/common_runtime/executor.cc:1197] [/device:CPU:0] (DEBUG INFO) Executor start aborting (this does not indicate an error and you can ignore this message): INVALID_ARGUMENT: You must feed a value for placeholder tensor 'Placeholder/_1' with dtype float and shape [212,4]\n",
      "\t [[{{node Placeholder/_1}}]]\n",
      "2024-12-30 15:15:45.878808: I tensorflow/core/common_runtime/executor.cc:1197] [/device:CPU:0] (DEBUG INFO) Executor start aborting (this does not indicate an error and you can ignore this message): INVALID_ARGUMENT: You must feed a value for placeholder tensor 'Placeholder/_1' with dtype float and shape [53,4]\n",
      "\t [[{{node Placeholder/_1}}]]\n",
      "2024-12-30 15:15:45.934585: I tensorflow/core/common_runtime/executor.cc:1197] [/device:CPU:0] (DEBUG INFO) Executor start aborting (this does not indicate an error and you can ignore this message): INVALID_ARGUMENT: You must feed a value for placeholder tensor 'Placeholder/_1' with dtype float and shape [212,4]\n",
      "\t [[{{node Placeholder/_1}}]]\n",
      "2024-12-30 15:15:46.102413: I tensorflow/core/common_runtime/executor.cc:1197] [/device:CPU:0] (DEBUG INFO) Executor start aborting (this does not indicate an error and you can ignore this message): INVALID_ARGUMENT: You must feed a value for placeholder tensor 'Placeholder/_1' with dtype float and shape [53,4]\n",
      "\t [[{{node Placeholder/_1}}]]\n",
      "2024-12-30 15:15:46.158870: I tensorflow/core/common_runtime/executor.cc:1197] [/device:CPU:0] (DEBUG INFO) Executor start aborting (this does not indicate an error and you can ignore this message): INVALID_ARGUMENT: You must feed a value for placeholder tensor 'Placeholder/_1' with dtype float and shape [212,4]\n",
      "\t [[{{node Placeholder/_1}}]]\n",
      "2024-12-30 15:15:46.333026: I tensorflow/core/common_runtime/executor.cc:1197] [/device:CPU:0] (DEBUG INFO) Executor start aborting (this does not indicate an error and you can ignore this message): INVALID_ARGUMENT: You must feed a value for placeholder tensor 'Placeholder/_1' with dtype float and shape [53,4]\n",
      "\t [[{{node Placeholder/_1}}]]\n",
      "2024-12-30 15:15:46.389596: I tensorflow/core/common_runtime/executor.cc:1197] [/device:CPU:0] (DEBUG INFO) Executor start aborting (this does not indicate an error and you can ignore this message): INVALID_ARGUMENT: You must feed a value for placeholder tensor 'Placeholder/_1' with dtype float and shape [212,4]\n",
      "\t [[{{node Placeholder/_1}}]]\n",
      "2024-12-30 15:15:46.560567: I tensorflow/core/common_runtime/executor.cc:1197] [/device:CPU:0] (DEBUG INFO) Executor start aborting (this does not indicate an error and you can ignore this message): INVALID_ARGUMENT: You must feed a value for placeholder tensor 'Placeholder/_1' with dtype float and shape [53,4]\n",
      "\t [[{{node Placeholder/_1}}]]\n",
      "2024-12-30 15:15:46.617223: I tensorflow/core/common_runtime/executor.cc:1197] [/device:CPU:0] (DEBUG INFO) Executor start aborting (this does not indicate an error and you can ignore this message): INVALID_ARGUMENT: You must feed a value for placeholder tensor 'Placeholder/_1' with dtype float and shape [212,4]\n",
      "\t [[{{node Placeholder/_1}}]]\n",
      "2024-12-30 15:15:46.785295: I tensorflow/core/common_runtime/executor.cc:1197] [/device:CPU:0] (DEBUG INFO) Executor start aborting (this does not indicate an error and you can ignore this message): INVALID_ARGUMENT: You must feed a value for placeholder tensor 'Placeholder/_1' with dtype float and shape [39,4]\n",
      "\t [[{{node Placeholder/_1}}]]\n",
      "2024-12-30 15:15:46.831060: I tensorflow/core/common_runtime/executor.cc:1197] [/device:CPU:0] (DEBUG INFO) Executor start aborting (this does not indicate an error and you can ignore this message): INVALID_ARGUMENT: You must feed a value for placeholder tensor 'Placeholder/_1' with dtype float and shape [156,4]\n",
      "\t [[{{node Placeholder/_1}}]]\n",
      "2024-12-30 15:15:46.957266: I tensorflow/core/common_runtime/executor.cc:1197] [/device:CPU:0] (DEBUG INFO) Executor start aborting (this does not indicate an error and you can ignore this message): INVALID_ARGUMENT: You must feed a value for placeholder tensor 'Placeholder/_1' with dtype float and shape [39,4]\n",
      "\t [[{{node Placeholder/_1}}]]\n",
      "2024-12-30 15:15:47.002587: I tensorflow/core/common_runtime/executor.cc:1197] [/device:CPU:0] (DEBUG INFO) Executor start aborting (this does not indicate an error and you can ignore this message): INVALID_ARGUMENT: You must feed a value for placeholder tensor 'Placeholder/_1' with dtype float and shape [156,4]\n",
      "\t [[{{node Placeholder/_1}}]]\n",
      "2024-12-30 15:15:47.128843: I tensorflow/core/common_runtime/executor.cc:1197] [/device:CPU:0] (DEBUG INFO) Executor start aborting (this does not indicate an error and you can ignore this message): INVALID_ARGUMENT: You must feed a value for placeholder tensor 'Placeholder/_1' with dtype float and shape [39,4]\n",
      "\t [[{{node Placeholder/_1}}]]\n",
      "2024-12-30 15:15:47.173795: I tensorflow/core/common_runtime/executor.cc:1197] [/device:CPU:0] (DEBUG INFO) Executor start aborting (this does not indicate an error and you can ignore this message): INVALID_ARGUMENT: You must feed a value for placeholder tensor 'Placeholder/_1' with dtype float and shape [156,4]\n",
      "\t [[{{node Placeholder/_1}}]]\n",
      "2024-12-30 15:15:47.301985: I tensorflow/core/common_runtime/executor.cc:1197] [/device:CPU:0] (DEBUG INFO) Executor start aborting (this does not indicate an error and you can ignore this message): INVALID_ARGUMENT: You must feed a value for placeholder tensor 'Placeholder/_1' with dtype float and shape [39,4]\n",
      "\t [[{{node Placeholder/_1}}]]\n",
      "2024-12-30 15:15:47.347696: I tensorflow/core/common_runtime/executor.cc:1197] [/device:CPU:0] (DEBUG INFO) Executor start aborting (this does not indicate an error and you can ignore this message): INVALID_ARGUMENT: You must feed a value for placeholder tensor 'Placeholder/_1' with dtype float and shape [156,4]\n",
      "\t [[{{node Placeholder/_1}}]]\n",
      "2024-12-30 15:15:47.477429: I tensorflow/core/common_runtime/executor.cc:1197] [/device:CPU:0] (DEBUG INFO) Executor start aborting (this does not indicate an error and you can ignore this message): INVALID_ARGUMENT: You must feed a value for placeholder tensor 'Placeholder/_1' with dtype float and shape [39,4]\n",
      "\t [[{{node Placeholder/_1}}]]\n",
      "2024-12-30 15:15:47.522595: I tensorflow/core/common_runtime/executor.cc:1197] [/device:CPU:0] (DEBUG INFO) Executor start aborting (this does not indicate an error and you can ignore this message): INVALID_ARGUMENT: You must feed a value for placeholder tensor 'Placeholder/_1' with dtype float and shape [156,4]\n",
      "\t [[{{node Placeholder/_1}}]]\n"
     ]
    },
    {
     "name": "stdout",
     "output_type": "stream",
     "text": [
      "Time taken for round 10: 00:00:31\n",
      "Estimated remaining time: 00:43:21\n",
      "\n"
     ]
    },
    {
     "ename": "KeyboardInterrupt",
     "evalue": "",
     "output_type": "error",
     "traceback": [
      "\u001b[0;31m---------------------------------------------------------------------------\u001b[0m",
      "\u001b[0;31mKeyboardInterrupt\u001b[0m                         Traceback (most recent call last)",
      "Cell \u001b[0;32mIn[47], line 27\u001b[0m\n\u001b[1;32m     23\u001b[0m start_time \u001b[38;5;241m=\u001b[39m time\u001b[38;5;241m.\u001b[39mtime()\n\u001b[1;32m     25\u001b[0m \u001b[38;5;66;03m# Set the server weights to be the result of performing federated averaging\u001b[39;00m\n\u001b[1;32m     26\u001b[0m \u001b[38;5;66;03m# on the client weights after one epoch of training.\u001b[39;00m\n\u001b[0;32m---> 27\u001b[0m server_state_h1 \u001b[38;5;241m=\u001b[39m \u001b[43mfederated_algorithm_h1\u001b[49m\u001b[38;5;241;43m.\u001b[39;49m\u001b[43mnext\u001b[49m\u001b[43m(\u001b[49m\u001b[43mserver_state_h1\u001b[49m\u001b[43m,\u001b[49m\u001b[43m \u001b[49m\u001b[43mphase_train\u001b[49m\u001b[43m)\u001b[49m\n\u001b[1;32m     29\u001b[0m \u001b[38;5;66;03m# Conduct an evaluation of the training epoch\u001b[39;00m\n\u001b[1;32m     30\u001b[0m h1_eval\u001b[38;5;241m.\u001b[39mset_weights(server_state_h1)\n",
      "File \u001b[0;32m~/miniforge3/envs/fxai/lib/python3.10/site-packages/tensorflow_federated/python/core/impl/computation/computation_impl.py:139\u001b[0m, in \u001b[0;36mConcreteComputation.__call__\u001b[0;34m(self, *args, **kwargs)\u001b[0m\n\u001b[1;32m    137\u001b[0m \u001b[38;5;28;01mdef\u001b[39;00m \u001b[38;5;21m__call__\u001b[39m(\u001b[38;5;28mself\u001b[39m, \u001b[38;5;241m*\u001b[39margs, \u001b[38;5;241m*\u001b[39m\u001b[38;5;241m*\u001b[39mkwargs):\n\u001b[1;32m    138\u001b[0m   arg \u001b[38;5;241m=\u001b[39m function_utils\u001b[38;5;241m.\u001b[39mpack_args(\u001b[38;5;28mself\u001b[39m\u001b[38;5;241m.\u001b[39m_type_signature\u001b[38;5;241m.\u001b[39mparameter, args, kwargs)\n\u001b[0;32m--> 139\u001b[0m   \u001b[38;5;28;01mreturn\u001b[39;00m \u001b[38;5;28;43mself\u001b[39;49m\u001b[38;5;241;43m.\u001b[39;49m\u001b[43m_context_stack\u001b[49m\u001b[38;5;241;43m.\u001b[39;49m\u001b[43mcurrent\u001b[49m\u001b[38;5;241;43m.\u001b[39;49m\u001b[43minvoke\u001b[49m\u001b[43m(\u001b[49m\u001b[38;5;28;43mself\u001b[39;49m\u001b[43m,\u001b[49m\u001b[43m \u001b[49m\u001b[43marg\u001b[49m\u001b[43m)\u001b[49m\n",
      "File \u001b[0;32m~/miniforge3/envs/fxai/lib/python3.10/site-packages/tensorflow_federated/python/core/impl/execution_contexts/sync_execution_context.py:65\u001b[0m, in \u001b[0;36mSyncExecutionContext.invoke\u001b[0;34m(self, comp, arg)\u001b[0m\n\u001b[1;32m     64\u001b[0m \u001b[38;5;28;01mdef\u001b[39;00m \u001b[38;5;21minvoke\u001b[39m(\u001b[38;5;28mself\u001b[39m, comp, arg):\n\u001b[0;32m---> 65\u001b[0m   \u001b[38;5;28;01mreturn\u001b[39;00m \u001b[38;5;28;43mself\u001b[39;49m\u001b[38;5;241;43m.\u001b[39;49m\u001b[43m_async_runner\u001b[49m\u001b[38;5;241;43m.\u001b[39;49m\u001b[43mrun_coro_and_return_result\u001b[49m\u001b[43m(\u001b[49m\n\u001b[1;32m     66\u001b[0m \u001b[43m      \u001b[49m\u001b[38;5;28;43mself\u001b[39;49m\u001b[38;5;241;43m.\u001b[39;49m\u001b[43m_async_context\u001b[49m\u001b[38;5;241;43m.\u001b[39;49m\u001b[43minvoke\u001b[49m\u001b[43m(\u001b[49m\u001b[43mcomp\u001b[49m\u001b[43m,\u001b[49m\u001b[43m \u001b[49m\u001b[43marg\u001b[49m\u001b[43m)\u001b[49m\n\u001b[1;32m     67\u001b[0m \u001b[43m  \u001b[49m\u001b[43m)\u001b[49m\n",
      "File \u001b[0;32m~/miniforge3/envs/fxai/lib/python3.10/site-packages/tensorflow_federated/python/common_libs/async_utils.py:224\u001b[0m, in \u001b[0;36mAsyncThreadRunner.run_coro_and_return_result\u001b[0;34m(self, coro)\u001b[0m\n\u001b[1;32m    222\u001b[0m \u001b[38;5;250m\u001b[39m\u001b[38;5;124;03m\"\"\"Runs coroutine in the managed event loop, returning the result.\"\"\"\u001b[39;00m\n\u001b[1;32m    223\u001b[0m future \u001b[38;5;241m=\u001b[39m asyncio\u001b[38;5;241m.\u001b[39mrun_coroutine_threadsafe(coro, \u001b[38;5;28mself\u001b[39m\u001b[38;5;241m.\u001b[39m_event_loop)\n\u001b[0;32m--> 224\u001b[0m \u001b[38;5;28;01mreturn\u001b[39;00m \u001b[43mfuture\u001b[49m\u001b[38;5;241;43m.\u001b[39;49m\u001b[43mresult\u001b[49m\u001b[43m(\u001b[49m\u001b[43m)\u001b[49m\n",
      "File \u001b[0;32m~/miniforge3/envs/fxai/lib/python3.10/concurrent/futures/_base.py:453\u001b[0m, in \u001b[0;36mFuture.result\u001b[0;34m(self, timeout)\u001b[0m\n\u001b[1;32m    450\u001b[0m \u001b[38;5;28;01melif\u001b[39;00m \u001b[38;5;28mself\u001b[39m\u001b[38;5;241m.\u001b[39m_state \u001b[38;5;241m==\u001b[39m FINISHED:\n\u001b[1;32m    451\u001b[0m     \u001b[38;5;28;01mreturn\u001b[39;00m \u001b[38;5;28mself\u001b[39m\u001b[38;5;241m.\u001b[39m__get_result()\n\u001b[0;32m--> 453\u001b[0m \u001b[38;5;28;43mself\u001b[39;49m\u001b[38;5;241;43m.\u001b[39;49m\u001b[43m_condition\u001b[49m\u001b[38;5;241;43m.\u001b[39;49m\u001b[43mwait\u001b[49m\u001b[43m(\u001b[49m\u001b[43mtimeout\u001b[49m\u001b[43m)\u001b[49m\n\u001b[1;32m    455\u001b[0m \u001b[38;5;28;01mif\u001b[39;00m \u001b[38;5;28mself\u001b[39m\u001b[38;5;241m.\u001b[39m_state \u001b[38;5;129;01min\u001b[39;00m [CANCELLED, CANCELLED_AND_NOTIFIED]:\n\u001b[1;32m    456\u001b[0m     \u001b[38;5;28;01mraise\u001b[39;00m CancelledError()\n",
      "File \u001b[0;32m~/miniforge3/envs/fxai/lib/python3.10/threading.py:320\u001b[0m, in \u001b[0;36mCondition.wait\u001b[0;34m(self, timeout)\u001b[0m\n\u001b[1;32m    318\u001b[0m \u001b[38;5;28;01mtry\u001b[39;00m:    \u001b[38;5;66;03m# restore state no matter what (e.g., KeyboardInterrupt)\u001b[39;00m\n\u001b[1;32m    319\u001b[0m     \u001b[38;5;28;01mif\u001b[39;00m timeout \u001b[38;5;129;01mis\u001b[39;00m \u001b[38;5;28;01mNone\u001b[39;00m:\n\u001b[0;32m--> 320\u001b[0m         \u001b[43mwaiter\u001b[49m\u001b[38;5;241;43m.\u001b[39;49m\u001b[43macquire\u001b[49m\u001b[43m(\u001b[49m\u001b[43m)\u001b[49m\n\u001b[1;32m    321\u001b[0m         gotit \u001b[38;5;241m=\u001b[39m \u001b[38;5;28;01mTrue\u001b[39;00m\n\u001b[1;32m    322\u001b[0m     \u001b[38;5;28;01melse\u001b[39;00m:\n",
      "\u001b[0;31mKeyboardInterrupt\u001b[0m: "
     ]
    }
   ],
   "source": [
    "\n",
    "import csv\n",
    "\n",
    "# Define the early stopping parameters\n",
    "PATIENCE = 10  # Number of epochs to wait for improvement\n",
    "MIN_IMPROVEMENT = 0.001  # Minimum improvement threshold (adjust as needed)\n",
    "best_accuracy = 0.0\n",
    "epochs_without_improvement = 0\n",
    "\n",
    "# Open the CSV file for writing\n",
    "csv_file_path = 'logs' + '/' + LOGS_DIR + '/' + MODEL_NAME + '_train_test' + '.csv'\n",
    "csv_columns = ['Round', 'Global_Train_Loss', 'Global_Train_Accuracy', 'Global_Test_Loss', 'Global_Test_Accuracy']  # Add more columns as needed\n",
    "\n",
    "for client_id in client_ids:\n",
    "    csv_columns.extend([f'{client_id}_Test_Loss', f'{client_id}_Test_Accuracy', f'{client_id}_Train_Loss', f'{client_id}_Train_Accuracy'])\n",
    "\n",
    "# Write the CSV header\n",
    "with open(csv_file_path, 'w', newline='') as csv_file:\n",
    "    csv_writer = csv.DictWriter(csv_file, fieldnames=csv_columns)\n",
    "    csv_writer.writeheader()\n",
    "\n",
    "    times_taken = []\n",
    "    for round in range(1, EPOCHS+1):\n",
    "        start_time = time.time()\n",
    "\n",
    "        # Set the server weights to be the result of performing federated averaging\n",
    "        # on the client weights after one epoch of training.\n",
    "        server_state_h1 = federated_algorithm_h1.next(server_state_h1, phase_train)\n",
    "\n",
    "        # Conduct an evaluation of the training epoch\n",
    "        h1_eval.set_weights(server_state_h1)\n",
    "        global_train_loss, global_train_accuracy = h1_eval.evaluate(phase_train_central, verbose=0)\n",
    "        global_test_loss, global_test_accuracy = h1_eval.evaluate(phase_test_central, verbose=0)\n",
    "        print('Round {:2d}: \\t global_test_loss={:.4f}, global_test_accuracy={:.4f} \\n\\t\\tglobal_train_loss={:.4f}, global_train_accuracy={:.4f}'\n",
    "              .format(round, global_test_loss, global_test_accuracy, global_train_loss, global_train_accuracy))\n",
    "\n",
    "        # Early stopping check\n",
    "        stop = early_stop_check(global_test_accuracy, best_accuracy, epochs_without_improvement)\n",
    "\n",
    "        # Evaluate the model on a per-client basis\n",
    "        client_metrics = {}\n",
    "        for client_id in client_ids:\n",
    "            client_dataset = phase_test_federated_data.create_tf_dataset_for_client(client_id)\n",
    "            client_dataset = preprocess(client_dataset, PHASE_CLASSES)\n",
    "            test_loss, test_accuracy = h1_eval.evaluate(client_dataset, verbose=0)\n",
    "\n",
    "            client_dataset = phase_train_federated_data.create_tf_dataset_for_client(client_id)\n",
    "            client_dataset = preprocess(client_dataset, PHASE_CLASSES)\n",
    "            train_loss, train_accuracy = h1_eval.evaluate(client_dataset, verbose=0)\n",
    "\n",
    "            # Save the metrics for each client\n",
    "            client_metrics[f'{client_id}_Test_Loss'] = test_loss\n",
    "            client_metrics[f'{client_id}_Test_Accuracy'] = test_accuracy\n",
    "            client_metrics[f'{client_id}_Train_Loss'] = train_loss\n",
    "            client_metrics[f'{client_id}_Train_Accuracy'] = train_accuracy\n",
    "\n",
    "        # Save the metrics to CSV\n",
    "        csv_row=({\n",
    "            'Round': round,\n",
    "            'Global_Train_Loss': global_train_loss,\n",
    "            'Global_Train_Accuracy': global_train_accuracy,\n",
    "            'Global_Test_Loss': global_test_loss,\n",
    "            'Global_Test_Accuracy': global_test_accuracy,\n",
    "            **client_metrics\n",
    "        })\n",
    "\n",
    "        csv_writer.writerow(csv_row)\n",
    "\n",
    "        # Call the function to calculate time and display information\n",
    "        calculate_time(round, start_time, times_taken, EPOCHS+1)\n",
    "\n",
    "        # Stop if converged early\n",
    "        if stop:\n",
    "            print(\"Leaving training loop\")\n",
    "            round = EPOCHS\n",
    "\n"
   ]
  },
  {
   "cell_type": "markdown",
   "metadata": {
    "id": "DXMWOwCIwY5E"
   },
   "source": [
    "## Post-Training Evaluation"
   ]
  },
  {
   "cell_type": "code",
   "execution_count": null,
   "metadata": {
    "executionInfo": {
     "elapsed": 92969,
     "status": "aborted",
     "timestamp": 1695310229230,
     "user": {
      "displayName": "Harrison Field",
      "userId": "02417387657116967688"
     },
     "user_tz": -60
    },
    "id": "i13vq5fPwY5E"
   },
   "outputs": [],
   "source": [
    "h1_eval.set_weights(server_state_h1)\n",
    "h1_eval.evaluate(phase_test_central)"
   ]
  },
  {
   "cell_type": "code",
   "execution_count": null,
   "metadata": {
    "executionInfo": {
     "elapsed": 92969,
     "status": "aborted",
     "timestamp": 1695310229230,
     "user": {
      "displayName": "Harrison Field",
      "userId": "02417387657116967688"
     },
     "user_tz": -60
    },
    "id": "1m36uRDbwY5F"
   },
   "outputs": [],
   "source": [
    "h1_eval.save('Models/' + MODEL_NAME + '.h5')"
   ]
  },
  {
   "cell_type": "code",
   "execution_count": null,
   "metadata": {
    "executionInfo": {
     "elapsed": 92969,
     "status": "aborted",
     "timestamp": 1695310229230,
     "user": {
      "displayName": "Harrison Field",
      "userId": "02417387657116967688"
     },
     "user_tz": -60
    },
    "id": "8l6PhMlfRu6n"
   },
   "outputs": [],
   "source": [
    "# summary_writer_h1.close()"
   ]
  },
  {
   "cell_type": "code",
   "execution_count": null,
   "metadata": {
    "executionInfo": {
     "elapsed": 92968,
     "status": "aborted",
     "timestamp": 1695310229230,
     "user": {
      "displayName": "Harrison Field",
      "userId": "02417387657116967688"
     },
     "user_tz": -60
    },
    "id": "0s1FERdm84SY"
   },
   "outputs": [],
   "source": [
    "from google.colab import runtime\n",
    "runtime.unassign()"
   ]
  },
  {
   "cell_type": "code",
   "execution_count": null,
   "metadata": {
    "executionInfo": {
     "elapsed": 92968,
     "status": "aborted",
     "timestamp": 1695310229230,
     "user": {
      "displayName": "Harrison Field",
      "userId": "02417387657116967688"
     },
     "user_tz": -60
    },
    "id": "bCoU9vyObIEH"
   },
   "outputs": [],
   "source": []
  }
 ],
 "metadata": {
  "accelerator": "TPU",
  "colab": {
   "collapsed_sections": [
    "_kF4uur5CqEL",
    "j4mBmgkcClWX",
    "9FV6zs1AwY4Q",
    "w40GDwGfwY4c",
    "EtyIuN51wY4f",
    "EiH95XycwY4p",
    "ZqmhVaMvwY4r",
    "sP1avAWNwY4u",
    "BCZHhE6gwY4-",
    "LqN_PxJowY4_",
    "-1QxPIfDwY5B",
    "nR31mZfawY5C",
    "sWsWZXM0BSRL",
    "orlzdHqxkgL_"
   ],
   "machine_shape": "hm",
   "provenance": []
  },
  "kernelspec": {
   "display_name": "fxai",
   "language": "python",
   "name": "python3"
  },
  "language_info": {
   "codemirror_mode": {
    "name": "ipython",
    "version": 3
   },
   "file_extension": ".py",
   "mimetype": "text/x-python",
   "name": "python",
   "nbconvert_exporter": "python",
   "pygments_lexer": "ipython3",
   "version": "3.10.16"
  }
 },
 "nbformat": 4,
 "nbformat_minor": 0
}
